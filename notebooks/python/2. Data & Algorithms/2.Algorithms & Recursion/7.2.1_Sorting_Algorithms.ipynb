{
 "cells": [
  {
   "cell_type": "markdown",
   "id": "1c7f469a",
   "metadata": {},
   "source": [
    "# 7.2.1 Sorting Algorithms\n",
    "Mastering Python’s built-in sorting mechanisms and best practices."
   ]
  },
  {
   "cell_type": "markdown",
   "id": "bc277c72",
   "metadata": {},
   "source": [
    "## 7.2.1.1 Built-in Functions\n",
    "Use `sorted()` for new sorted lists, `.sort()` for in-place sorting."
   ]
  },
  {
   "cell_type": "code",
   "execution_count": 2,
   "id": "9a007fa7",
   "metadata": {},
   "outputs": [
    {
     "name": "stdout",
     "output_type": "stream",
     "text": [
      "Sorted (new): [1, 2, 4, 7]\n",
      "Sorted (in-place): [1, 2, 4, 7]\n"
     ]
    }
   ],
   "source": [
    "nums = [4, 2, 7, 1]\n",
    "sorted_nums = sorted(nums)\n",
    "print(\"Sorted (new):\", sorted_nums)\n",
    "nums.sort()\n",
    "print(\"Sorted (in-place):\", nums)"
   ]
  },
  {
   "cell_type": "markdown",
   "id": "15fb27cf",
   "metadata": {},
   "source": [
    "## 7.2.1.2 Sorting with `key=`\n",
    "Customize sort criteria using the `key` argument."
   ]
  },
  {
   "cell_type": "code",
   "execution_count": 3,
   "id": "8daa9ebd",
   "metadata": {},
   "outputs": [
    {
     "name": "stdout",
     "output_type": "stream",
     "text": [
      "['pie', 'book', 'banana', 'Washington']\n"
     ]
    }
   ],
   "source": [
    "words = ['banana', 'pie', 'Washington', 'book']\n",
    "print(sorted(words, key=len))  # Sort by word length"
   ]
  },
  {
   "cell_type": "markdown",
   "id": "ee710684",
   "metadata": {},
   "source": [
    "## 7.2.1.3 Sorting in Reverse"
   ]
  },
  {
   "cell_type": "code",
   "execution_count": 4,
   "id": "694e047e",
   "metadata": {},
   "outputs": [
    {
     "name": "stdout",
     "output_type": "stream",
     "text": [
      "[5, 4, 3, 1, 1]\n"
     ]
    }
   ],
   "source": [
    "nums = [3, 1, 4, 1, 5]\n",
    "print(sorted(nums, reverse=True))"
   ]
  },
  {
   "cell_type": "markdown",
   "id": "614ae4ce",
   "metadata": {},
   "source": [
    "## 7.2.1.4 Lambda in Sort"
   ]
  },
  {
   "cell_type": "code",
   "execution_count": null,
   "id": "d8009b32",
   "metadata": {},
   "outputs": [],
   "source": [
    "pairs = [(2, 'b'), (1, 'a'), (3, 'c')]\n",
    "print(sorted(pairs, key=lambda x: x[0]))\n",
    "print(sorted(pairs, key=lambda x: x[1]))"
   ]
  },
  {
   "cell_type": "markdown",
   "id": "cef9e9f2",
   "metadata": {},
   "source": [
    "## 7.2.1.5 In-place vs Non-destructive"
   ]
  },
  {
   "cell_type": "code",
   "execution_count": 1,
   "id": "bde93eca",
   "metadata": {},
   "outputs": [
    {
     "name": "stdout",
     "output_type": "stream",
     "text": [
      "Original: [5, 3, 1]\n",
      "Sorted copy: [1, 3, 5]\n",
      "Now in-place sorted: [1, 3, 5]\n"
     ]
    }
   ],
   "source": [
    "a = [5, 3, 1]\n",
    "b = sorted(a)\n",
    "print(\"Original:\", a)\n",
    "print(\"Sorted copy:\", b)\n",
    "a.sort()\n",
    "print(\"Now in-place sorted:\", a)"
   ]
  },
  {
   "cell_type": "markdown",
   "id": "e9202f28",
   "metadata": {},
   "source": [
    "## 7.2.1.6 Stable Sort Guarantee\n",
    "Python’s `sorted()` and `.sort()` are stable: equal elements preserve order."
   ]
  },
  {
   "cell_type": "code",
   "execution_count": 2,
   "id": "2bc5bbee",
   "metadata": {},
   "outputs": [
    {
     "name": "stdout",
     "output_type": "stream",
     "text": [
      "[('apple', 3), ('apple', 1), ('banana', 2)]\n"
     ]
    }
   ],
   "source": [
    "data = [('apple', 3), ('banana', 2), ('apple', 1)]\n",
    "print(sorted(data, key=lambda x: x[0]))  # 'apple' entries stay in order"
   ]
  },
  {
   "cell_type": "markdown",
   "id": "a05900fd",
   "metadata": {},
   "source": [
    "## 7.2.1.7 Sorting Complex Data"
   ]
  },
  {
   "cell_type": "code",
   "execution_count": null,
   "id": "407acb9d",
   "metadata": {},
   "outputs": [],
   "source": [
    "students = [{'name': 'Alice', 'score': 88}, {'name': 'Bob', 'score': 95}]\n",
    "sorted_students = sorted(students, key=lambda x: x['score'])\n",
    "print(sorted_students)"
   ]
  },
  {
   "cell_type": "markdown",
   "id": "95b7f27d",
   "metadata": {},
   "source": [
    "## 7.2.1.8 Best Practices\n",
    "- Use `sorted()` when keeping original list intact\n",
    "- Use `key=` instead of pre-sorting or converting manually\n",
    "- Avoid sorting inside loops repeatedly"
   ]
  },
  {
   "cell_type": "markdown",
   "id": "d9cf9656",
   "metadata": {},
   "source": [
    "## 7.2.1.9 Pitfalls"
   ]
  },
  {
   "cell_type": "code",
   "execution_count": 3,
   "id": "4aaab1ad",
   "metadata": {},
   "outputs": [
    {
     "name": "stdout",
     "output_type": "stream",
     "text": [
      "'<' not supported between instances of 'str' and 'int'\n"
     ]
    }
   ],
   "source": [
    "try:\n",
    "    mixed = [1, '2', 3]\n",
    "    sorted(mixed)  # Raises TypeError in Python 3\n",
    "except TypeError as e:\n",
    "    print(e)"
   ]
  },
  {
   "cell_type": "markdown",
   "id": "1ac6d59b",
   "metadata": {},
   "source": [
    "## 7.2.1.10 Related Resources\n",
    "- W3Schools: [Python Sort](https://www.w3schools.com/python/python_lists_sort.asp)\n",
    "- Real Python: [Sorting in Python](https://realpython.com/sorting-algorithms-python/)"
   ]
  }
 ],
 "metadata": {
  "kernelspec": {
   "display_name": "Python 3",
   "language": "python",
   "name": "python3"
  },
  "language_info": {
   "codemirror_mode": {
    "name": "ipython",
    "version": 3
   },
   "file_extension": ".py",
   "mimetype": "text/x-python",
   "name": "python",
   "nbconvert_exporter": "python",
   "pygments_lexer": "ipython3",
   "version": "3.10.0"
  }
 },
 "nbformat": 4,
 "nbformat_minor": 5
}
