{
 "cells": [
  {
   "cell_type": "markdown",
   "id": "29b6cbac",
   "metadata": {},
   "source": [
    "# 7.2.3 Recursion Concepts & Examples\n",
    "Understand how recursion works in Python and when to use it."
   ]
  },
  {
   "cell_type": "markdown",
   "id": "3c55389d",
   "metadata": {},
   "source": [
    "## 7.2.3.1 What is Recursion?\n",
    "A function that calls itself to solve subproblems."
   ]
  },
  {
   "cell_type": "code",
   "execution_count": 1,
   "id": "3906f6f5",
   "metadata": {},
   "outputs": [
    {
     "name": "stdout",
     "output_type": "stream",
     "text": [
      "Hello 3\n",
      "Hello 2\n",
      "Hello 1\n",
      "Done\n"
     ]
    }
   ],
   "source": [
    "def greet(n):\n",
    "    if n == 0:\n",
    "        print(\"Done\")\n",
    "    else:\n",
    "        print(f\"Hello {n}\")\n",
    "        greet(n - 1)\n",
    "\n",
    "greet(3)"
   ]
  },
  {
   "cell_type": "markdown",
   "id": "fe30dfae",
   "metadata": {},
   "source": [
    "## 7.2.3.2 Base Case and Recursive Case"
   ]
  },
  {
   "cell_type": "code",
   "execution_count": 2,
   "id": "dede902f",
   "metadata": {},
   "outputs": [
    {
     "name": "stdout",
     "output_type": "stream",
     "text": [
      "120\n"
     ]
    }
   ],
   "source": [
    "def factorial(n):\n",
    "    if n == 0:\n",
    "        return 1  # base case\n",
    "    else:\n",
    "        return n * factorial(n - 1)  # recursive case\n",
    "\n",
    "print(factorial(5))"
   ]
  },
  {
   "cell_type": "markdown",
   "id": "9a490c8d",
   "metadata": {},
   "source": [
    "## 7.2.3.3 Fibonacci Sequence"
   ]
  },
  {
   "cell_type": "code",
   "execution_count": null,
   "id": "a05d1cc8",
   "metadata": {},
   "outputs": [],
   "source": [
    "def fib(n):\n",
    "    if n <= 1:\n",
    "        return n\n",
    "    return fib(n-1) + fib(n-2)\n",
    "\n",
    "print([fib(i) for i in range(6)])"
   ]
  },
  {
   "cell_type": "markdown",
   "id": "44ca3097",
   "metadata": {},
   "source": [
    "## 7.2.3.4 Recursively Flatten a Nested List"
   ]
  },
  {
   "cell_type": "code",
   "execution_count": null,
   "id": "803f490a",
   "metadata": {},
   "outputs": [],
   "source": [
    "def flatten(lst):\n",
    "    result = []\n",
    "    for item in lst:\n",
    "        if isinstance(item, list):\n",
    "            result.extend(flatten(item))\n",
    "        else:\n",
    "            result.append(item)\n",
    "    return result\n",
    "\n",
    "print(flatten([1, [2, [3, 4], 5], 6]))"
   ]
  },
  {
   "cell_type": "markdown",
   "id": "d66bcb11",
   "metadata": {},
   "source": [
    "## 7.2.3.5 Recursive vs Iterative"
   ]
  },
  {
   "cell_type": "code",
   "execution_count": null,
   "id": "c625cf51",
   "metadata": {},
   "outputs": [],
   "source": [
    "# Recursive factorial\n",
    "print(factorial(5))\n",
    "\n",
    "# Iterative factorial\n",
    "def fact_iter(n):\n",
    "    result = 1\n",
    "    for i in range(1, n+1):\n",
    "        result *= i\n",
    "    return result\n",
    "\n",
    "print(fact_iter(5))"
   ]
  },
  {
   "cell_type": "markdown",
   "id": "6e123383",
   "metadata": {},
   "source": [
    "## 7.2.3.6 Stack Overflow Risk"
   ]
  },
  {
   "cell_type": "code",
   "execution_count": null,
   "id": "2e8291a2",
   "metadata": {},
   "outputs": [],
   "source": [
    "import sys\n",
    "print(sys.getrecursionlimit())  # default is usually 1000"
   ]
  },
  {
   "cell_type": "markdown",
   "id": "85b4054d",
   "metadata": {},
   "source": [
    "## 7.2.3.7 Tail Recursion (not optimized in Python)"
   ]
  },
  {
   "cell_type": "code",
   "execution_count": null,
   "id": "9cb0180d",
   "metadata": {},
   "outputs": [],
   "source": [
    "def tail_factorial(n, acc=1):\n",
    "    if n == 0:\n",
    "        return acc\n",
    "    return tail_factorial(n - 1, acc * n)\n",
    "\n",
    "print(tail_factorial(5))"
   ]
  },
  {
   "cell_type": "markdown",
   "id": "920d7a9d",
   "metadata": {},
   "source": [
    "## 7.2.3.8 Best Practices\n",
    "- Always define a base case\n",
    "- Prefer iteration for performance-critical or deep loops\n",
    "- Consider memoization (e.g., `functools.lru_cache`)"
   ]
  },
  {
   "cell_type": "code",
   "execution_count": null,
   "id": "bd4ea28d",
   "metadata": {},
   "outputs": [],
   "source": [
    "from functools import lru_cache\n",
    "@lru_cache(maxsize=None)\n",
    "def fib_memo(n):\n",
    "    if n <= 1:\n",
    "        return n\n",
    "    return fib_memo(n-1) + fib_memo(n-2)\n",
    "\n",
    "print(fib_memo(35))"
   ]
  },
  {
   "cell_type": "markdown",
   "id": "1b5c56a5",
   "metadata": {},
   "source": [
    "## 7.2.3.9 Common Pitfalls"
   ]
  },
  {
   "cell_type": "code",
   "execution_count": null,
   "id": "144bf2da",
   "metadata": {},
   "outputs": [],
   "source": [
    "def bad_recursive(n):\n",
    "    return n + bad_recursive(n-1)  # Missing base case\n",
    "\n",
    "# bad_recursive(5)  # Uncommenting this causes infinite recursion"
   ]
  },
  {
   "cell_type": "markdown",
   "id": "082cf340",
   "metadata": {},
   "source": [
    "## 7.2.3.10 Related Resources\n",
    "- Real Python: [Thinking Recursively](https://realpython.com/python-thinking-recursively/)\n",
    "- Python Docs: [Recursion](https://docs.python.org/3/tutorial/controlflow.html#defining-functions)"
   ]
  }
 ],
 "metadata": {
  "kernelspec": {
   "display_name": "Python 3",
   "language": "python",
   "name": "python3"
  },
  "language_info": {
   "codemirror_mode": {
    "name": "ipython",
    "version": 3
   },
   "file_extension": ".py",
   "mimetype": "text/x-python",
   "name": "python",
   "nbconvert_exporter": "python",
   "pygments_lexer": "ipython3",
   "version": "3.10.0"
  }
 },
 "nbformat": 4,
 "nbformat_minor": 5
}
