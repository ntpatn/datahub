{
 "cells": [
  {
   "cell_type": "markdown",
   "id": "0c6ec850",
   "metadata": {},
   "source": [
    "# 7.2.2 Searching\n",
    "Efficient ways to find data in Python collections."
   ]
  },
  {
   "cell_type": "markdown",
   "id": "dff9959b",
   "metadata": {},
   "source": [
    "## 7.2.2.1 Membership Test (`in`)\n",
    "Fast and readable way to check if a value exists."
   ]
  },
  {
   "cell_type": "code",
   "execution_count": null,
   "id": "afdfaff9",
   "metadata": {},
   "outputs": [],
   "source": [
    "nums = [1, 2, 3, 4]\n",
    "print(3 in nums)\n",
    "print(5 in nums)"
   ]
  },
  {
   "cell_type": "markdown",
   "id": "b85535e3",
   "metadata": {},
   "source": [
    "## 7.2.2.2 `index()` Method\n",
    "Find the index of the first occurrence of a value."
   ]
  },
  {
   "cell_type": "code",
   "execution_count": null,
   "id": "7bb110dc",
   "metadata": {},
   "outputs": [],
   "source": [
    "letters = ['a', 'b', 'c', 'b']\n",
    "print(letters.index('b'))  # Returns 1\n",
    "# print(letters.index('z'))  # Raises ValueError"
   ]
  },
  {
   "cell_type": "markdown",
   "id": "a11f3c65",
   "metadata": {},
   "source": [
    "## 7.2.2.3 Using `get()` in Dicts"
   ]
  },
  {
   "cell_type": "code",
   "execution_count": 1,
   "id": "25a0953c",
   "metadata": {},
   "outputs": [
    {
     "name": "stdout",
     "output_type": "stream",
     "text": [
      "2\n",
      "not found\n"
     ]
    }
   ],
   "source": [
    "d = {'a': 1, 'b': 2}\n",
    "print(d.get('b'))\n",
    "print(d.get('z', 'not found'))"
   ]
  },
  {
   "cell_type": "markdown",
   "id": "80484c82",
   "metadata": {},
   "source": [
    "## 7.2.2.4 Searching in Sets"
   ]
  },
  {
   "cell_type": "code",
   "execution_count": 2,
   "id": "80118aa2",
   "metadata": {},
   "outputs": [
    {
     "name": "stdout",
     "output_type": "stream",
     "text": [
      "True\n",
      "False\n"
     ]
    }
   ],
   "source": [
    "s = {10, 20, 30}\n",
    "print(20 in s)  # Fast lookup (hash table)\n",
    "print(25 in s)"
   ]
  },
  {
   "cell_type": "markdown",
   "id": "f8f9f4aa",
   "metadata": {},
   "source": [
    "## 7.2.2.5 Manual Linear Search"
   ]
  },
  {
   "cell_type": "code",
   "execution_count": 3,
   "id": "f4cd6918",
   "metadata": {},
   "outputs": [
    {
     "name": "stdout",
     "output_type": "stream",
     "text": [
      "1\n",
      "-1\n"
     ]
    }
   ],
   "source": [
    "def linear_search(lst, target):\n",
    "    for i, value in enumerate(lst):\n",
    "        if value == target:\n",
    "            return i\n",
    "    return -1\n",
    "\n",
    "print(linear_search([10, 20, 30], 20))\n",
    "print(linear_search([10, 20, 30], 99))"
   ]
  },
  {
   "cell_type": "markdown",
   "id": "7f388851",
   "metadata": {},
   "source": [
    "## 7.2.2.6 Binary Search with `bisect`"
   ]
  },
  {
   "cell_type": "code",
   "execution_count": 4,
   "id": "22557041",
   "metadata": {},
   "outputs": [
    {
     "name": "stdout",
     "output_type": "stream",
     "text": [
      "Insert 4 at index: 2\n"
     ]
    }
   ],
   "source": [
    "import bisect\n",
    "nums = [1, 3, 4, 7, 9]\n",
    "idx = bisect.bisect_left(nums, 4)\n",
    "print(f\"Insert 4 at index: {idx}\")"
   ]
  },
  {
   "cell_type": "markdown",
   "id": "25e86df1",
   "metadata": {},
   "source": [
    "## 7.2.2.7 Search in Strings"
   ]
  },
  {
   "cell_type": "code",
   "execution_count": 5,
   "id": "1e969d16",
   "metadata": {},
   "outputs": [
    {
     "name": "stdout",
     "output_type": "stream",
     "text": [
      "True\n",
      "6\n",
      "-1\n"
     ]
    }
   ],
   "source": [
    "text = \"hello world\"\n",
    "print(\"world\" in text)\n",
    "print(text.find(\"world\"))\n",
    "print(text.find(\"python\"))  # Returns -1"
   ]
  },
  {
   "cell_type": "markdown",
   "id": "5defc1db",
   "metadata": {},
   "source": [
    "## 7.2.2.8 Best Practices\n",
    "- Use `in` for simple presence tests\n",
    "- Use `dict.get()` to avoid KeyErrors\n",
    "- Use `set` for frequent lookups\n",
    "- Use `bisect` for sorted lists"
   ]
  },
  {
   "cell_type": "markdown",
   "id": "e19c6ad4",
   "metadata": {},
   "source": [
    "## 7.2.2.9 Common Pitfalls"
   ]
  },
  {
   "cell_type": "code",
   "execution_count": 7,
   "id": "c2a7867d",
   "metadata": {},
   "outputs": [
    {
     "name": "stdout",
     "output_type": "stream",
     "text": [
      "5 is not in list\n"
     ]
    }
   ],
   "source": [
    "lst = [1, 2, 3]\n",
    "try:\n",
    "    print(lst.index(5))  # Raises ValueError\n",
    "except ValueError as e:\n",
    "    print(e)"
   ]
  },
  {
   "cell_type": "markdown",
   "id": "019356c6",
   "metadata": {},
   "source": [
    "## 7.2.2.10 Related Resources\n",
    "- Python Docs: [list.index](https://docs.python.org/3/tutorial/datastructures.html#more-on-lists)\n",
    "- W3Schools: [Python Search](https://www.w3schools.com/python/ref_list_index.asp)\n",
    "- Module: [bisect](https://docs.python.org/3/library/bisect.html)"
   ]
  }
 ],
 "metadata": {
  "kernelspec": {
   "display_name": "Python 3",
   "language": "python",
   "name": "python3"
  },
  "language_info": {
   "codemirror_mode": {
    "name": "ipython",
    "version": 3
   },
   "file_extension": ".py",
   "mimetype": "text/x-python",
   "name": "python",
   "nbconvert_exporter": "python",
   "pygments_lexer": "ipython3",
   "version": "3.10.0"
  }
 },
 "nbformat": 4,
 "nbformat_minor": 5
}
