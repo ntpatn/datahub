{
 "cells": [
  {
   "cell_type": "markdown",
   "id": "62c53324",
   "metadata": {},
   "source": [
    "# 7.1.10 Data Structure Best Practices\n",
    "Guidelines for choosing and using Python built-in data structures effectively."
   ]
  },
  {
   "cell_type": "markdown",
   "id": "9a104716",
   "metadata": {},
   "source": [
    "## 7.1.10.1 Choosing the Right Structure"
   ]
  },
  {
   "cell_type": "markdown",
   "id": "12a2c123",
   "metadata": {},
   "source": [
    "\n",
    "- **List**: ordered, flexible, allows duplicates; ideal for sequences.\n",
    "\n",
    "- **Tuple**: fixed data; hashable and safe to use as keys.\n",
    "\n",
    "- **Set**: membership tests, unique items, set algebra.\n",
    "\n",
    "- **Dict**: key-value mappings, fast lookup.\n"
   ]
  },
  {
   "cell_type": "markdown",
   "id": "6e5b4b87",
   "metadata": {},
   "source": [
    "## 7.1.10.2 Use Built-in Functions"
   ]
  },
  {
   "cell_type": "code",
   "execution_count": null,
   "id": "0e00af12",
   "metadata": {},
   "outputs": [],
   "source": [
    "nums = [3, 1, 4, 2]\n",
    "print(sorted(nums))\n",
    "print(sum(nums))\n",
    "print(max(nums))"
   ]
  },
  {
   "cell_type": "markdown",
   "id": "c500618f",
   "metadata": {},
   "source": [
    "## 7.1.10.3 Avoid Common Pitfalls"
   ]
  },
  {
   "cell_type": "markdown",
   "id": "2d6aad63",
   "metadata": {},
   "source": [
    "\n",
    "- Don’t use mutable types as dict/set keys\n",
    "\n",
    "- Don’t rely on order in sets (they’re unordered)\n",
    "\n",
    "- Use `.get()` with dicts to avoid KeyError\n"
   ]
  },
  {
   "cell_type": "code",
   "execution_count": null,
   "id": "0beca6db",
   "metadata": {},
   "outputs": [],
   "source": [
    "d = {'a': 1}\n",
    "print(d.get('b', 'default'))  # Safe\n",
    "# print(d['b'])  # Raises KeyError"
   ]
  },
  {
   "cell_type": "markdown",
   "id": "e41f2ddd",
   "metadata": {},
   "source": [
    "## 7.1.10.4 Avoid Modifying While Iterating"
   ]
  },
  {
   "cell_type": "code",
   "execution_count": null,
   "id": "f0bae1b1",
   "metadata": {},
   "outputs": [],
   "source": [
    "nums = [1, 2, 3, 4]\n",
    "for n in nums[:]:\n",
    "    if n % 2 == 0:\n",
    "        nums.remove(n)\n",
    "print(nums)"
   ]
  },
  {
   "cell_type": "markdown",
   "id": "acdb7bc0",
   "metadata": {},
   "source": [
    "## 7.1.10.5 Prefer Comprehensions Over Loops"
   ]
  },
  {
   "cell_type": "code",
   "execution_count": null,
   "id": "ed4e4c92",
   "metadata": {},
   "outputs": [],
   "source": [
    "# Instead of:\n",
    "squares = []\n",
    "for x in range(5):\n",
    "    squares.append(x**2)\n",
    "\n",
    "# Use:\n",
    "squares = [x**2 for x in range(5)]\n",
    "print(squares)"
   ]
  },
  {
   "cell_type": "markdown",
   "id": "d13f659c",
   "metadata": {},
   "source": [
    "## 7.1.10.6 Use Enumerate and zip"
   ]
  },
  {
   "cell_type": "code",
   "execution_count": null,
   "id": "c9225d6a",
   "metadata": {},
   "outputs": [],
   "source": [
    "names = ['Alice', 'Bob']\n",
    "for i, name in enumerate(names):\n",
    "    print(i, name)\n",
    "\n",
    "scores = [90, 80]\n",
    "for name, score in zip(names, scores):\n",
    "    print(f\"{name}: {score}\")"
   ]
  },
  {
   "cell_type": "markdown",
   "id": "e67fa273",
   "metadata": {},
   "source": [
    "## 7.1.10.7 Copy Carefully"
   ]
  },
  {
   "cell_type": "code",
   "execution_count": null,
   "id": "26c8785c",
   "metadata": {},
   "outputs": [],
   "source": [
    "import copy\n",
    "a = [[1, 2], [3, 4]]\n",
    "shallow = a[:]\n",
    "deep = copy.deepcopy(a)\n",
    "a[0].append(99)\n",
    "print(shallow)\n",
    "print(deep)"
   ]
  },
  {
   "cell_type": "markdown",
   "id": "77222e70",
   "metadata": {},
   "source": [
    "## 7.1.10.8 Validate Inputs and Types"
   ]
  },
  {
   "cell_type": "code",
   "execution_count": null,
   "id": "48926ac8",
   "metadata": {},
   "outputs": [],
   "source": [
    "def process(data):\n",
    "    if not isinstance(data, list):\n",
    "        raise TypeError(\"Expected a list\")\n",
    "    return [x*2 for x in data]"
   ]
  },
  {
   "cell_type": "markdown",
   "id": "1f7541fa",
   "metadata": {},
   "source": [
    "## 7.1.10.9 Know When to Use Collections"
   ]
  },
  {
   "cell_type": "markdown",
   "id": "3c19d8f7",
   "metadata": {},
   "source": [
    "\n",
    "- Use `collections.defaultdict` for grouped data\n",
    "\n",
    "- Use `collections.namedtuple` for structured records\n",
    "\n",
    "- Consider `Counter`, `deque`, `OrderedDict` if appropriate\n"
   ]
  },
  {
   "cell_type": "markdown",
   "id": "53b96744",
   "metadata": {},
   "source": [
    "## 7.1.10.10 Related Resources\n",
    "- Real Python: [Python Data Structures Best Practices](https://realpython.com/python-data-structures/)\n",
    "- Python Docs: [Built-in Types](https://docs.python.org/3/library/stdtypes.html)\n",
    "- Phyblas: [ตัวแปรและชนิดของข้อมูล](https://phyblas.hinaboshi.com/tsuchinoko03)"
   ]
  }
 ],
 "metadata": {},
 "nbformat": 4,
 "nbformat_minor": 5
}