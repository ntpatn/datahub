{
 "cells": [
  {
   "cell_type": "markdown",
   "id": "6c615311",
   "metadata": {},
   "source": [
    "# 7.1.2 Tuples\n",
    "Tuples are immutable sequences used to store collections of items."
   ]
  },
  {
   "cell_type": "markdown",
   "id": "612cc37a",
   "metadata": {},
   "source": [
    "## 7.1.2.1 Creating Tuples\n",
    "Tuples can be created using parentheses or the `tuple()` constructor."
   ]
  },
  {
   "cell_type": "code",
   "execution_count": null,
   "id": "7585b490",
   "metadata": {},
   "outputs": [],
   "source": [
    "t1 = (1, 2, 3)  # Using parentheses\n",
    "t2 = tuple([4, 5, 6])  # From a list\n",
    "t3 = 7, 8, 9  # Parentheses optional\n",
    "t4 = (5,)  # Single-element tuple requires a comma\n",
    "print(t1, t2, t3, t4)"
   ]
  },
  {
   "cell_type": "markdown",
   "id": "7694885b",
   "metadata": {},
   "source": [
    "## 7.1.2.2 Indexing & Slicing\n",
    "Like lists, tuples support indexing and slicing."
   ]
  },
  {
   "cell_type": "code",
   "execution_count": null,
   "id": "c51a1e9c",
   "metadata": {},
   "outputs": [],
   "source": [
    "t = (10, 20, 30, 40)\n",
    "print(t[0])      # First item\n",
    "print(t[-1])     # Last item\n",
    "print(t[1:3])    # Slice from index 1 to 2"
   ]
  },
  {
   "cell_type": "markdown",
   "id": "79fbef33",
   "metadata": {},
   "source": [
    "## 7.1.2.3 Tuple Operations\n",
    "Tuples support basic operations like concatenation and repetition."
   ]
  },
  {
   "cell_type": "code",
   "execution_count": null,
   "id": "5fde0937",
   "metadata": {},
   "outputs": [],
   "source": [
    "t1 = (1, 2)\n",
    "t2 = (3, 4)\n",
    "print(t1 + t2)    # Concatenation\n",
    "print(t1 * 2)     # Repetition\n",
    "print(2 in t1)    # Membership test"
   ]
  },
  {
   "cell_type": "markdown",
   "id": "cf7dfe06",
   "metadata": {},
   "source": [
    "## 7.1.2.4 Immutability\n",
    "Tuples are immutable, meaning their contents cannot be changed after creation."
   ]
  },
  {
   "cell_type": "code",
   "execution_count": null,
   "id": "99f88dc3",
   "metadata": {},
   "outputs": [],
   "source": [
    "t = (1, 2, 3)\n",
    "# t[0] = 99  # Uncommenting this will raise a TypeError"
   ]
  },
  {
   "cell_type": "markdown",
   "id": "def9abc4",
   "metadata": {},
   "source": [
    "## 7.1.2.5 Tuple Unpacking\n",
    "Tuple unpacking allows assigning multiple variables at once."
   ]
  },
  {
   "cell_type": "code",
   "execution_count": null,
   "id": "f60a4990",
   "metadata": {},
   "outputs": [],
   "source": [
    "point = (4, 5)\n",
    "x, y = point\n",
    "print(f\"x = {x}, y = {y}\")"
   ]
  },
  {
   "cell_type": "markdown",
   "id": "3097251a",
   "metadata": {},
   "source": [
    "## 7.1.2.6 Nested Tuples\n",
    "Tuples can contain other tuples (or other collections)."
   ]
  },
  {
   "cell_type": "code",
   "execution_count": null,
   "id": "7fdb6271",
   "metadata": {},
   "outputs": [],
   "source": [
    "nested = ((1, 2), (3, 4))\n",
    "print(nested[1][0])"
   ]
  },
  {
   "cell_type": "markdown",
   "id": "9aec2694",
   "metadata": {},
   "source": [
    "## 7.1.2.7 Use Cases\n",
    "Tuples are often used for fixed collections, function returns, or as dictionary keys."
   ]
  },
  {
   "cell_type": "code",
   "execution_count": null,
   "id": "1481850a",
   "metadata": {},
   "outputs": [],
   "source": [
    "def min_max(nums):\n",
    "    return min(nums), max(nums)\n",
    "print(min_max([3, 1, 7]))\n",
    "\n",
    "coords = {(0, 0): 'origin', (1, 2): 'A'}\n",
    "print(coords[(1, 2)])"
   ]
  },
  {
   "cell_type": "markdown",
   "id": "e8195ee2",
   "metadata": {},
   "source": [
    "## 7.1.2.8 Best Practices & Tips\n",
    "- Use tuples for data that shouldn't change.\n",
    "- Prefer namedtuple or dataclass for better readability with structured tuples."
   ]
  },
  {
   "cell_type": "code",
   "execution_count": null,
   "id": "0c04636b",
   "metadata": {},
   "outputs": [],
   "source": [
    "from collections import namedtuple\n",
    "Point = namedtuple('Point', ['x', 'y'])\n",
    "p = Point(1, 2)\n",
    "print(p.x, p.y)"
   ]
  },
  {
   "cell_type": "markdown",
   "id": "effea00a",
   "metadata": {},
   "source": [
    "## 7.1.2.9 Common Pitfalls\n",
    "- Forgetting the comma in a single-element tuple: `(5)` is not a tuple."
   ]
  },
  {
   "cell_type": "code",
   "execution_count": null,
   "id": "7f70fa1c",
   "metadata": {},
   "outputs": [],
   "source": [
    "not_a_tuple = (5)\n",
    "a_tuple = (5,)\n",
    "print(type(not_a_tuple))  # int\n",
    "print(type(a_tuple))     # tuple"
   ]
  },
  {
   "cell_type": "markdown",
   "id": "6357d96d",
   "metadata": {},
   "source": [
    "## 7.1.2.10 Related Resources\n",
    "- Phyblas: [ข้อมูลชนิดลำดับ](https://phyblas.hinaboshi.com/tsuchinoko08)\n",
    "- W3Schools: [Python Tuples](https://www.w3schools.com/python/python_tuples.asp)"
   ]
  }
 ],
 "metadata": {},
 "nbformat": 4,
 "nbformat_minor": 5
}