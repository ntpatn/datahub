{
 "cells": [
  {
   "cell_type": "markdown",
   "id": "ae9de031",
   "metadata": {},
   "source": [
    "# 7.1.6 List vs Tuple vs Set vs Dict\n",
    "Comparison among the four most common built-in data structures in Python."
   ]
  },
  {
   "cell_type": "markdown",
   "id": "64480589",
   "metadata": {},
   "source": [
    "## 7.1.6.1 Summary Table"
   ]
  },
  {
   "cell_type": "markdown",
   "id": "7a39c4bc",
   "metadata": {},
   "source": [
    "\n",
    "| Feature        | List             | Tuple            | Set              | Dictionary           |\n",
    "|----------------|------------------|------------------|------------------|-----------------------|\n",
    "| Syntax         | `[1, 2]`         | `(1, 2)`         | `{1, 2}`         | `{'a': 1, 'b': 2}`     |\n",
    "| Ordered        | ✅               | ✅               | ❌               | ✅ (Python 3.7+)       |\n",
    "| Mutable        | ✅               | ❌               | ✅               | ✅                     |\n",
    "| Allows Duplicates | ✅            | ✅               | ❌               | Keys ❌ / Values ✅     |\n",
    "| Indexable      | ✅               | ✅               | ❌               | Keys only             |\n",
    "| Use Case       | General sequence | Fixed data       | Unique items     | Key-value mappings    |\n"
   ]
  },
  {
   "cell_type": "markdown",
   "id": "4ba87a58",
   "metadata": {},
   "source": [
    "## 7.1.6.2 Syntax Examples"
   ]
  },
  {
   "cell_type": "code",
   "execution_count": null,
   "id": "ae45e976",
   "metadata": {},
   "outputs": [],
   "source": [
    "lst = [1, 2, 3]\n",
    "tpl = (1, 2, 3)\n",
    "st = {1, 2, 3}\n",
    "dct = {'a': 1, 'b': 2}\n",
    "print(lst, tpl, st, dct)"
   ]
  },
  {
   "cell_type": "markdown",
   "id": "bc11539e",
   "metadata": {},
   "source": [
    "## 7.1.6.3 Mutability"
   ]
  },
  {
   "cell_type": "code",
   "execution_count": null,
   "id": "1fba1b01",
   "metadata": {},
   "outputs": [],
   "source": [
    "lst[0] = 99\n",
    "print(lst)\n",
    "# tpl[0] = 99  # Raises TypeError\n",
    "st.add(4)\n",
    "dct['c'] = 3\n",
    "print(st, dct)"
   ]
  },
  {
   "cell_type": "markdown",
   "id": "a847a71b",
   "metadata": {},
   "source": [
    "## 7.1.6.4 Uniqueness (Set Only)"
   ]
  },
  {
   "cell_type": "code",
   "execution_count": null,
   "id": "6aed4bc0",
   "metadata": {},
   "outputs": [],
   "source": [
    "st = {1, 1, 2, 2, 3}\n",
    "print(st)  # Duplicates removed"
   ]
  },
  {
   "cell_type": "markdown",
   "id": "aa4d401a",
   "metadata": {},
   "source": [
    "## 7.1.6.5 Indexing Support"
   ]
  },
  {
   "cell_type": "code",
   "execution_count": null,
   "id": "4e8d9793",
   "metadata": {},
   "outputs": [],
   "source": [
    "print(lst[1])\n",
    "print(tpl[1])\n",
    "# print(st[1])  # Raises TypeError\n",
    "print(dct['a'])"
   ]
  },
  {
   "cell_type": "markdown",
   "id": "ad95acdc",
   "metadata": {},
   "source": [
    "## 7.1.6.6 When to Use"
   ]
  },
  {
   "cell_type": "markdown",
   "id": "45083be5",
   "metadata": {},
   "source": [
    "\n",
    "- Use **lists** for ordered, mutable sequences of items.\n",
    "- Use **tuples** when data is fixed and needs to be hashable (e.g., as keys).\n",
    "- Use **sets** to store unique items and perform set operations.\n",
    "- Use **dictionaries** to associate keys with values for fast lookup.\n"
   ]
  },
  {
   "cell_type": "markdown",
   "id": "3b239f3d",
   "metadata": {},
   "source": [
    "## 7.1.6.7 Performance Considerations"
   ]
  },
  {
   "cell_type": "markdown",
   "id": "ba3bbd38",
   "metadata": {},
   "source": [
    "\n",
    "- Tuples are slightly faster and smaller than lists.\n",
    "- Sets and dictionaries use hash tables for fast membership and lookups.\n"
   ]
  },
  {
   "cell_type": "markdown",
   "id": "051fb9a7",
   "metadata": {},
   "source": [
    "## 7.1.6.8 Best Practices"
   ]
  },
  {
   "cell_type": "markdown",
   "id": "0e4eb77d",
   "metadata": {},
   "source": [
    "\n",
    "- Prefer tuples for read-only data.\n",
    "- Use sets to eliminate duplicates.\n",
    "- Use dicts for structured mappings.\n",
    "- Avoid using mutable types as set/dict keys.\n"
   ]
  },
  {
   "cell_type": "markdown",
   "id": "4a273606",
   "metadata": {},
   "source": [
    "## 7.1.6.9 Related Resources\n",
    "- Phyblas: [ข้อมูลชนิดลำดับ](https://phyblas.hinaboshi.com/tsuchinoko08)\n",
    "- W3Schools: [Python Data Structures](https://www.w3schools.com/python/python_lists.asp)"
   ]
  }
 ],
 "metadata": {},
 "nbformat": 4,
 "nbformat_minor": 5
}