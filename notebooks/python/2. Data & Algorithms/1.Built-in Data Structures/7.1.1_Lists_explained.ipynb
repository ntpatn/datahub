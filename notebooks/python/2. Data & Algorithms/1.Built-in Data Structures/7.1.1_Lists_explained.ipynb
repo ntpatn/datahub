{
 "cells": [
  {
   "cell_type": "markdown",
   "id": "0128a42e",
   "metadata": {},
   "source": [
    "# 7.1.1 Lists\n",
    "Comprehensive guide with explanations and code examples."
   ]
  },
  {
   "cell_type": "markdown",
   "id": "6c909caf",
   "metadata": {},
   "source": [
    "## 7.1.1.1 Creating Lists\n",
    "Lists are created using square brackets or the `list()` constructor."
   ]
  },
  {
   "cell_type": "code",
   "execution_count": null,
   "id": "604fd201",
   "metadata": {},
   "outputs": [],
   "source": [
    "my_list1 = [1, 2, 3]  # Basic list using brackets\n",
    "my_list2 = list((4, 5, 6))  # Using tuple to initialize list\n",
    "print(my_list1)\n",
    "print(my_list2)"
   ]
  },
  {
   "cell_type": "markdown",
   "id": "c8095b66",
   "metadata": {},
   "source": [
    "## 7.1.1.2 Indexing & Slicing\n",
    "You can access elements with indices or extract sublists with slices."
   ]
  },
  {
   "cell_type": "code",
   "execution_count": null,
   "id": "d2cae94a",
   "metadata": {},
   "outputs": [],
   "source": [
    "my_list = [10, 20, 30, 40, 50]\n",
    "print(my_list[0])       # First item\n",
    "print(my_list[-1])      # Last item\n",
    "print(my_list[1:4])     # Items from index 1 to 3\n",
    "print(my_list[:3])      # First three items\n",
    "print(my_list[::2])     # Every second item"
   ]
  },
  {
   "cell_type": "markdown",
   "id": "ad6950c4",
   "metadata": {},
   "source": [
    "## 7.1.1.3 Common Operations\n",
    "Lists support several useful operations including length check, concatenation, and iteration."
   ]
  },
  {
   "cell_type": "code",
   "execution_count": 1,
   "id": "a7ffad9f",
   "metadata": {},
   "outputs": [
    {
     "name": "stdout",
     "output_type": "stream",
     "text": [
      "4\n",
      "[1, 2, 3]\n",
      "[1, 1, 1]\n",
      "True\n",
      "1\n",
      "2\n",
      "3\n",
      "4\n"
     ]
    }
   ],
   "source": [
    "my_list = [1, 2, 3, 4]\n",
    "print(len(my_list))\n",
    "print([1, 2] + [3])\n",
    "print([1] * 3)\n",
    "print(2 in my_list)\n",
    "for item in my_list:\n",
    "    print(item)"
   ]
  },
  {
   "cell_type": "markdown",
   "id": "133a0db1",
   "metadata": {},
   "source": [
    "## 7.1.1.4 List Methods\n",
    "Python lists come with various built-in methods for manipulation."
   ]
  },
  {
   "cell_type": "code",
   "execution_count": null,
   "id": "b9ef3773",
   "metadata": {},
   "outputs": [],
   "source": [
    "lst = [3, 1, 2]\n",
    "lst.append(4)           # Add to end\n",
    "lst.extend([5, 6])       # Add multiple\n",
    "lst.insert(0, 0)         # Insert at position\n",
    "lst.remove(3)            # Remove first 3\n",
    "print(lst)\n",
    "print(lst.pop())         # Remove and return last item\n",
    "lst.clear()              # Remove all\n",
    "print(lst)"
   ]
  },
  {
   "cell_type": "code",
   "execution_count": null,
   "id": "7727cfb3",
   "metadata": {},
   "outputs": [],
   "source": [
    "lst = [1, 2, 2, 3]\n",
    "print(lst.index(2))    # Index of first 2\n",
    "print(lst.count(2))     # Count occurrences\n",
    "lst.sort()              # Sort list\n",
    "print(lst)\n",
    "lst.reverse()           # Reverse\n",
    "print(lst)\n",
    "copy_lst = lst.copy()   # Shallow copy\n",
    "print(copy_lst)"
   ]
  },
  {
   "cell_type": "markdown",
   "id": "c8792e6d",
   "metadata": {},
   "source": [
    "## 7.1.1.5 List Comprehensions\n",
    "A concise way to create lists using a single line of code."
   ]
  },
  {
   "cell_type": "code",
   "execution_count": 2,
   "id": "24f5bb02",
   "metadata": {},
   "outputs": [
    {
     "name": "stdout",
     "output_type": "stream",
     "text": [
      "[0, 1, 4, 9, 16]\n",
      "[0, 2, 4, 6, 8]\n"
     ]
    }
   ],
   "source": [
    "squares = [x**2 for x in range(5)]\n",
    "print(squares)\n",
    "even = [x for x in range(10) if x % 2 == 0]\n",
    "print(even)"
   ]
  },
  {
   "cell_type": "markdown",
   "id": "18793191",
   "metadata": {},
   "source": [
    "## 7.1.1.6 Nested Lists\n",
    "Lists can contain other lists, forming matrix-like structures."
   ]
  },
  {
   "cell_type": "code",
   "execution_count": null,
   "id": "a70560c8",
   "metadata": {},
   "outputs": [],
   "source": [
    "matrix = [[1, 2], [3, 4]]\n",
    "print(matrix[0])        # First row\n",
    "print(matrix[1][0])     # Element from second row"
   ]
  },
  {
   "cell_type": "markdown",
   "id": "6b435f5f",
   "metadata": {},
   "source": [
    "## 7.1.1.7 Copying Lists\n",
    "Copying lists can be shallow (default) or deep (for nested structures)."
   ]
  },
  {
   "cell_type": "code",
   "execution_count": 3,
   "id": "67938de5",
   "metadata": {},
   "outputs": [
    {
     "name": "stdout",
     "output_type": "stream",
     "text": [
      "[[1, 2], [3, 4]]\n",
      "[[1, 2], [3, 4]]\n"
     ]
    }
   ],
   "source": [
    "original = [[1, 2], [3, 4]]\n",
    "shallow_copy = original[:]\n",
    "import copy\n",
    "deep_copy = copy.deepcopy(original)\n",
    "print(shallow_copy)\n",
    "print(deep_copy)"
   ]
  },
  {
   "cell_type": "markdown",
   "id": "b40d5a62",
   "metadata": {},
   "source": [
    "## 7.1.1.8 Best Practices & Tips\n",
    "Tips to avoid common issues and improve performance."
   ]
  },
  {
   "cell_type": "code",
   "execution_count": null,
   "id": "e261afe7",
   "metadata": {},
   "outputs": [],
   "source": [
    "names = ['Alice', 'Bob', 'Charlie']\n",
    "for i, name in enumerate(names):\n",
    "    print(i, name)  # Use enumerate instead of manual indexing"
   ]
  },
  {
   "cell_type": "markdown",
   "id": "212c3c0d",
   "metadata": {},
   "source": [
    "## 7.1.1.9 Common Pitfalls\n",
    "Be careful with references and data types when using lists."
   ]
  },
  {
   "cell_type": "code",
   "execution_count": null,
   "id": "53fe294b",
   "metadata": {},
   "outputs": [],
   "source": [
    "a = [1, 2, 3]\n",
    "b = a\n",
    "b.append(4)\n",
    "print(a)  # Both a and b changed because they point to the same list"
   ]
  },
  {
   "cell_type": "code",
   "execution_count": null,
   "id": "861fab6b",
   "metadata": {},
   "outputs": [],
   "source": [
    "mixed = [1, 'two']\n",
    "# mixed.sort()  # Uncommenting this will raise TypeError due to mixed types"
   ]
  },
  {
   "cell_type": "markdown",
   "id": "cb5c1a2e",
   "metadata": {},
   "source": [
    "## 7.1.1.10 Related Resources\n",
    "- Phyblas: [การจัดการกับลิสต์](https://phyblas.hinaboshi.com/tsuchinoko12)\n",
    "- W3Schools: [Python Lists](https://www.w3schools.com/python/python_lists.asp)"
   ]
  }
 ],
 "metadata": {
  "kernelspec": {
   "display_name": "Python 3",
   "language": "python",
   "name": "python3"
  },
  "language_info": {
   "codemirror_mode": {
    "name": "ipython",
    "version": 3
   },
   "file_extension": ".py",
   "mimetype": "text/x-python",
   "name": "python",
   "nbconvert_exporter": "python",
   "pygments_lexer": "ipython3",
   "version": "3.10.0"
  }
 },
 "nbformat": 4,
 "nbformat_minor": 5
}
