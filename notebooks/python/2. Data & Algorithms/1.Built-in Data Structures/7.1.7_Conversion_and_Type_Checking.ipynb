{
 "cells": [
  {
   "cell_type": "markdown",
   "id": "b004b8c0",
   "metadata": {},
   "source": [
    "# 7.1.7 Conversion & Type Checking\n",
    "How to convert between data structures and verify their types."
   ]
  },
  {
   "cell_type": "markdown",
   "id": "dfa33875",
   "metadata": {},
   "source": [
    "## 7.1.7.1 Type Checking\n",
    "Use `type()` and `isinstance()` to check the type of a variable."
   ]
  },
  {
   "cell_type": "code",
   "execution_count": null,
   "id": "818c897c",
   "metadata": {},
   "outputs": [],
   "source": [
    "x = [1, 2, 3]\n",
    "print(type(x))\n",
    "print(isinstance(x, list))\n",
    "print(isinstance(x, (list, tuple)))"
   ]
  },
  {
   "cell_type": "markdown",
   "id": "9d645c95",
   "metadata": {},
   "source": [
    "## 7.1.7.2 List ↔ Tuple"
   ]
  },
  {
   "cell_type": "code",
   "execution_count": null,
   "id": "1d14038c",
   "metadata": {},
   "outputs": [],
   "source": [
    "lst = [1, 2, 3]\n",
    "tpl = tuple(lst)\n",
    "print(tpl)\n",
    "lst2 = list(tpl)\n",
    "print(lst2)"
   ]
  },
  {
   "cell_type": "markdown",
   "id": "61201b92",
   "metadata": {},
   "source": [
    "## 7.1.7.3 List ↔ Set"
   ]
  },
  {
   "cell_type": "code",
   "execution_count": null,
   "id": "b5177363",
   "metadata": {},
   "outputs": [],
   "source": [
    "lst = [1, 2, 2, 3]\n",
    "st = set(lst)\n",
    "print(st)\n",
    "lst2 = list(st)\n",
    "print(lst2)"
   ]
  },
  {
   "cell_type": "markdown",
   "id": "a51d3003",
   "metadata": {},
   "source": [
    "## 7.1.7.4 Tuple ↔ Set"
   ]
  },
  {
   "cell_type": "code",
   "execution_count": null,
   "id": "a077068e",
   "metadata": {},
   "outputs": [],
   "source": [
    "tpl = (1, 2, 2, 3)\n",
    "st = set(tpl)\n",
    "print(st)\n",
    "tpl2 = tuple(st)\n",
    "print(tpl2)"
   ]
  },
  {
   "cell_type": "markdown",
   "id": "4bad2ae8",
   "metadata": {},
   "source": [
    "## 7.1.7.5 Dict ↔ List of Tuples"
   ]
  },
  {
   "cell_type": "code",
   "execution_count": null,
   "id": "b5fd566b",
   "metadata": {},
   "outputs": [],
   "source": [
    "d = {'a': 1, 'b': 2}\n",
    "pairs = list(d.items())\n",
    "print(pairs)\n",
    "d2 = dict(pairs)\n",
    "print(d2)"
   ]
  },
  {
   "cell_type": "markdown",
   "id": "13963fd4",
   "metadata": {},
   "source": [
    "## 7.1.7.6 Dict ↔ Two Lists (Keys and Values)"
   ]
  },
  {
   "cell_type": "code",
   "execution_count": null,
   "id": "32fd4780",
   "metadata": {},
   "outputs": [],
   "source": [
    "d = {'a': 1, 'b': 2}\n",
    "keys = list(d.keys())\n",
    "values = list(d.values())\n",
    "print(keys, values)\n",
    "d2 = dict(zip(keys, values))\n",
    "print(d2)"
   ]
  },
  {
   "cell_type": "markdown",
   "id": "e53ce92c",
   "metadata": {},
   "source": [
    "## 7.1.7.7 Strings ↔ Data Structures"
   ]
  },
  {
   "cell_type": "code",
   "execution_count": null,
   "id": "b6bda2b0",
   "metadata": {},
   "outputs": [],
   "source": [
    "s = '[1, 2, 3]'\n",
    "import ast\n",
    "lst = ast.literal_eval(s)\n",
    "print(lst, type(lst))"
   ]
  },
  {
   "cell_type": "markdown",
   "id": "df92ce75",
   "metadata": {},
   "source": [
    "## 7.1.7.8 Type Coercion Pitfalls"
   ]
  },
  {
   "cell_type": "code",
   "execution_count": null,
   "id": "d33862ad",
   "metadata": {},
   "outputs": [],
   "source": [
    "s = set('hello')\n",
    "print(s)  # Each character becomes an element\n",
    "\n",
    "# Wrong way to create tuple from int:\n",
    "# t = tuple(5)  # TypeError\n",
    "\n",
    "# Correct:\n",
    "t = tuple([5])\n",
    "print(t)"
   ]
  },
  {
   "cell_type": "markdown",
   "id": "30e8d550",
   "metadata": {},
   "source": [
    "## 7.1.7.9 Best Practices\n",
    "- Use `isinstance()` for type-safe checks\n",
    "- Use `ast.literal_eval()` for safe string → object conversion\n",
    "- Be cautious when converting to set: order is lost and duplicates removed"
   ]
  },
  {
   "cell_type": "markdown",
   "id": "8be8ef31",
   "metadata": {},
   "source": [
    "## 7.1.7.10 Related Resources\n",
    "- Python Docs: [Built-in Types](https://docs.python.org/3/library/stdtypes.html)\n",
    "- Phyblas: [ข้อมูลชนิดลำดับ](https://phyblas.hinaboshi.com/tsuchinoko08)\n",
    "- W3Schools: [Python Data Types](https://www.w3schools.com/python/python_datatypes.asp)"
   ]
  }
 ],
 "metadata": {},
 "nbformat": 4,
 "nbformat_minor": 5
}