{
 "cells": [
  {
   "cell_type": "markdown",
   "id": "40c3fb4d",
   "metadata": {},
   "source": [
    "# 7.1.4 Dictionaries\n",
    "Dictionaries store key-value pairs for fast lookups and organization."
   ]
  },
  {
   "cell_type": "markdown",
   "id": "758d4bdf",
   "metadata": {},
   "source": [
    "## 7.1.4.1 Creating Dictionaries\n",
    "Use curly braces or the `dict()` constructor."
   ]
  },
  {
   "cell_type": "code",
   "execution_count": null,
   "id": "8437ca8b",
   "metadata": {},
   "outputs": [],
   "source": [
    "d1 = {'a': 1, 'b': 2}\n",
    "d2 = dict(c=3, d=4)\n",
    "print(d1)\n",
    "print(d2)"
   ]
  },
  {
   "cell_type": "markdown",
   "id": "66d96f85",
   "metadata": {},
   "source": [
    "## 7.1.4.2 Accessing & Modifying Items\n",
    "Access with keys and update or insert new items."
   ]
  },
  {
   "cell_type": "code",
   "execution_count": null,
   "id": "c9aacfb5",
   "metadata": {},
   "outputs": [],
   "source": [
    "d = {'x': 10, 'y': 20}\n",
    "print(d['x'])\n",
    "d['z'] = 30  # Add new key\n",
    "print(d)\n",
    "d['x'] = 99  # Modify existing\n",
    "print(d)"
   ]
  },
  {
   "cell_type": "markdown",
   "id": "5969bb9f",
   "metadata": {},
   "source": [
    "## 7.1.4.3 Dictionary Methods\n",
    "Useful methods for managing key-value pairs."
   ]
  },
  {
   "cell_type": "code",
   "execution_count": null,
   "id": "12f57839",
   "metadata": {},
   "outputs": [],
   "source": [
    "d = {'a': 1, 'b': 2, 'c': 3}\n",
    "print(d.keys())\n",
    "print(d.values())\n",
    "print(d.items())\n",
    "d.pop('b')\n",
    "print(d)\n",
    "d.clear()\n",
    "print(d)"
   ]
  },
  {
   "cell_type": "markdown",
   "id": "289baa1d",
   "metadata": {},
   "source": [
    "## 7.1.4.4 Iterating Through Dictionaries\n",
    "You can iterate through keys, values, or both."
   ]
  },
  {
   "cell_type": "code",
   "execution_count": 1,
   "id": "9d582a67",
   "metadata": {},
   "outputs": [
    {
     "name": "stdout",
     "output_type": "stream",
     "text": [
      "a 1\n",
      "b 2\n",
      "a => 1\n",
      "b => 2\n"
     ]
    }
   ],
   "source": [
    "d = {'a': 1, 'b': 2}\n",
    "for key in d:\n",
    "    print(key, d[key])\n",
    "for key, value in d.items():\n",
    "    print(f\"{key} => {value}\")"
   ]
  },
  {
   "cell_type": "markdown",
   "id": "9ad010a2",
   "metadata": {},
   "source": [
    "## 7.1.4.5 Dictionary Comprehensions\n",
    "A concise way to create dictionaries from iterables."
   ]
  },
  {
   "cell_type": "code",
   "execution_count": null,
   "id": "885627eb",
   "metadata": {},
   "outputs": [],
   "source": [
    "squares = {x: x**2 for x in range(5)}\n",
    "print(squares)"
   ]
  },
  {
   "cell_type": "markdown",
   "id": "df4280a2",
   "metadata": {},
   "source": [
    "## 7.1.4.6 Nested Dictionaries\n",
    "You can store dictionaries inside other dictionaries."
   ]
  },
  {
   "cell_type": "code",
   "execution_count": 2,
   "id": "c1516efd",
   "metadata": {},
   "outputs": [
    {
     "name": "stdout",
     "output_type": "stream",
     "text": [
      "30\n"
     ]
    }
   ],
   "source": [
    "nested = {'person1': {'name': 'Alice', 'age': 30}, 'person2': {'name': 'Bob', 'age': 25}}\n",
    "print(nested['person1']['age'])"
   ]
  },
  {
   "cell_type": "markdown",
   "id": "ec5c169c",
   "metadata": {},
   "source": [
    "## 7.1.4.7 Common Use Cases\n",
    "Dictionaries are often used for data lookup, grouping, or object-like records."
   ]
  },
  {
   "cell_type": "code",
   "execution_count": null,
   "id": "b9176b79",
   "metadata": {},
   "outputs": [],
   "source": [
    "inventory = {'apple': 3, 'banana': 7}\n",
    "print(inventory.get('apple', 0))\n",
    "print(inventory.get('orange', 0))"
   ]
  },
  {
   "cell_type": "markdown",
   "id": "8d214256",
   "metadata": {},
   "source": [
    "## 7.1.4.8 Best Practices & Tips\n",
    "- Use `.get()` to avoid KeyError\n",
    "- Keys must be hashable (immutable types)"
   ]
  },
  {
   "cell_type": "code",
   "execution_count": null,
   "id": "592e8064",
   "metadata": {},
   "outputs": [],
   "source": [
    "d = {'a': 1}\n",
    "print(d.get('b'))  # None\n",
    "# d[[1, 2]] = 3  # This will raise TypeError (unhashable type: list)"
   ]
  },
  {
   "cell_type": "markdown",
   "id": "083332a2",
   "metadata": {},
   "source": [
    "## 7.1.4.9 Common Pitfalls\n",
    "- KeyError on missing key\n",
    "- Mutable objects as keys are not allowed"
   ]
  },
  {
   "cell_type": "code",
   "execution_count": null,
   "id": "bb380ac7",
   "metadata": {},
   "outputs": [],
   "source": [
    "d = {'a': 1}\n",
    "# print(d['b'])  # Raises KeyError\n",
    "print(d.get('b', 'not found'))  # Safe alternative"
   ]
  },
  {
   "cell_type": "markdown",
   "id": "cb30dc2d",
   "metadata": {},
   "source": [
    "## 7.1.4.10 Related Resources\n",
    "- Phyblas: [ดิกชันนารี](https://phyblas.hinaboshi.com/tsuchinoko14)\n",
    "- W3Schools: [Python Dictionaries](https://www.w3schools.com/python/python_dictionaries.asp)"
   ]
  }
 ],
 "metadata": {
  "kernelspec": {
   "display_name": "Python 3",
   "language": "python",
   "name": "python3"
  },
  "language_info": {
   "codemirror_mode": {
    "name": "ipython",
    "version": 3
   },
   "file_extension": ".py",
   "mimetype": "text/x-python",
   "name": "python",
   "nbconvert_exporter": "python",
   "pygments_lexer": "ipython3",
   "version": "3.10.0"
  }
 },
 "nbformat": 4,
 "nbformat_minor": 5
}
