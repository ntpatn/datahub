{
 "cells": [
  {
   "cell_type": "markdown",
   "id": "79c2609c",
   "metadata": {},
   "source": [
    "# 7.1.8 Iterable, Iterator, Generator\n",
    "Understanding how data flows in Python through iteration mechanisms."
   ]
  },
  {
   "cell_type": "markdown",
   "id": "83df1d74",
   "metadata": {},
   "source": [
    "## 7.1.8.1 Iterable\n",
    "An object is iterable if it can return its elements one at a time using `__iter__()`."
   ]
  },
  {
   "cell_type": "code",
   "execution_count": null,
   "id": "5e9a9fc5",
   "metadata": {},
   "outputs": [],
   "source": [
    "lst = [1, 2, 3]\n",
    "print(hasattr(lst, '__iter__'))  # True\n",
    "for item in lst:\n",
    "    print(item)"
   ]
  },
  {
   "cell_type": "markdown",
   "id": "04ed5880",
   "metadata": {},
   "source": [
    "## 7.1.8.2 Iterator\n",
    "An iterator is an object with `__next__()` and `__iter__()` methods.\n",
    "- `iter_obj = iter(some_iterable)`"
   ]
  },
  {
   "cell_type": "code",
   "execution_count": null,
   "id": "671529a5",
   "metadata": {},
   "outputs": [],
   "source": [
    "it = iter([1, 2, 3])\n",
    "print(next(it))\n",
    "print(next(it))\n",
    "print(next(it))\n",
    "# next(it)  # Raises StopIteration"
   ]
  },
  {
   "cell_type": "markdown",
   "id": "eba232fd",
   "metadata": {},
   "source": [
    "## 7.1.8.3 Generator Functions\n",
    "Generators use `yield` to lazily return values one at a time."
   ]
  },
  {
   "cell_type": "code",
   "execution_count": 1,
   "id": "4f17a635",
   "metadata": {},
   "outputs": [
    {
     "name": "stdout",
     "output_type": "stream",
     "text": [
      "1\n",
      "2\n",
      "3\n"
     ]
    }
   ],
   "source": [
    "def count_up_to(n):\n",
    "    i = 1\n",
    "    while i <= n:\n",
    "        yield i\n",
    "        i += 1\n",
    "\n",
    "for num in count_up_to(3):\n",
    "    print(num)"
   ]
  },
  {
   "cell_type": "markdown",
   "id": "e4ce3a51",
   "metadata": {},
   "source": [
    "## 7.1.8.4 Generator Expressions\n",
    "Compact syntax for creating generators."
   ]
  },
  {
   "cell_type": "code",
   "execution_count": 7,
   "id": "cc7110ff",
   "metadata": {},
   "outputs": [
    {
     "name": "stdout",
     "output_type": "stream",
     "text": [
      "0\n",
      "[1, 4]\n"
     ]
    }
   ],
   "source": [
    "gen = (x**2 for x in range(3))\n",
    "print(next(gen))\n",
    "print(list(gen))"
   ]
  },
  {
   "cell_type": "markdown",
   "id": "7f7785a5",
   "metadata": {},
   "source": [
    "## 7.1.8.5 Comparing Iterable vs Iterator vs Generator"
   ]
  },
  {
   "cell_type": "markdown",
   "id": "574b6da4",
   "metadata": {},
   "source": [
    "\n",
    "| Type       | Has `__iter__()` | Has `__next__()` | Lazily Evaluated | Example                  |\n",
    "|------------|------------------|------------------|------------------|--------------------------|\n",
    "| Iterable   | ✅               | ❌               | ❌               | list, tuple, set         |\n",
    "| Iterator   | ✅               | ✅               | ✅               | object from `iter()`     |\n",
    "| Generator  | ✅               | ✅               | ✅               | `yield` or generator expr|\n"
   ]
  },
  {
   "cell_type": "markdown",
   "id": "46982488",
   "metadata": {},
   "source": [
    "## 7.1.8.6 Manual Iteration"
   ]
  },
  {
   "cell_type": "code",
   "execution_count": null,
   "id": "063fa819",
   "metadata": {},
   "outputs": [],
   "source": [
    "it = iter(['a', 'b'])\n",
    "while True:\n",
    "    try:\n",
    "        print(next(it))\n",
    "    except StopIteration:\n",
    "        break"
   ]
  },
  {
   "cell_type": "markdown",
   "id": "49ecfdcd",
   "metadata": {},
   "source": [
    "## 7.1.8.7 Use Cases"
   ]
  },
  {
   "cell_type": "markdown",
   "id": "7dd4bbd0",
   "metadata": {},
   "source": [
    "\n",
    "- **Iterable**: Input to loops, comprehensions.\n",
    "\n",
    "- **Iterator**: On-the-fly data stream, like file objects.\n",
    "\n",
    "- **Generator**: Efficient large-data iteration, e.g., reading logs, streaming.\n"
   ]
  },
  {
   "cell_type": "markdown",
   "id": "d3bd54fd",
   "metadata": {},
   "source": [
    "## 7.1.8.8 Best Practices\n",
    "- Use generators for memory-efficient pipelines.\n",
    "- Prefer generator expressions in comprehensions with conditions."
   ]
  },
  {
   "cell_type": "markdown",
   "id": "f97ffe3d",
   "metadata": {},
   "source": [
    "## 7.1.8.9 Common Pitfalls\n",
    "- `next()` on exhausted iterator raises `StopIteration`\n",
    "- Generator can be consumed only once"
   ]
  },
  {
   "cell_type": "code",
   "execution_count": null,
   "id": "c010d2e2",
   "metadata": {},
   "outputs": [],
   "source": [
    "gen = (x for x in range(2))\n",
    "print(list(gen))\n",
    "print(list(gen))  # Empty after first use"
   ]
  },
  {
   "cell_type": "markdown",
   "id": "c3720225",
   "metadata": {},
   "source": [
    "## 7.1.8.10 Related Resources\n",
    "- Phyblas: [อิเทอเรเตอร์และเจเนอเรเตอร์](https://phyblas.hinaboshi.com/tsuchinoko26)\n",
    "- W3Schools: [Python Iterators](https://www.w3schools.com/python/python_iterators.asp)\n",
    "- W3Schools: [Python Generators](https://www.w3schools.com/python/python_generators.asp)"
   ]
  }
 ],
 "metadata": {
  "kernelspec": {
   "display_name": "Python 3",
   "language": "python",
   "name": "python3"
  },
  "language_info": {
   "codemirror_mode": {
    "name": "ipython",
    "version": 3
   },
   "file_extension": ".py",
   "mimetype": "text/x-python",
   "name": "python",
   "nbconvert_exporter": "python",
   "pygments_lexer": "ipython3",
   "version": "3.10.0"
  }
 },
 "nbformat": 4,
 "nbformat_minor": 5
}
