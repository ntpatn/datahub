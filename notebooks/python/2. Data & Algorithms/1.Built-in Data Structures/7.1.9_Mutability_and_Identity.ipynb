{
 "cells": [
  {
   "cell_type": "markdown",
   "id": "a58d74e2",
   "metadata": {},
   "source": [
    "# 7.1.9 Mutability & Identity\n",
    "Understand how Python handles object identity and mutability."
   ]
  },
  {
   "cell_type": "markdown",
   "id": "e1983bd8",
   "metadata": {},
   "source": [
    "## 7.1.9.1 What is Mutability?\n",
    "Mutable objects can be changed after creation; immutable ones cannot."
   ]
  },
  {
   "cell_type": "code",
   "execution_count": null,
   "id": "19b416a4",
   "metadata": {},
   "outputs": [],
   "source": [
    "mutable_list = [1, 2, 3]\n",
    "mutable_list.append(4)\n",
    "print(mutable_list)\n",
    "\n",
    "immutable_tuple = (1, 2, 3)\n",
    "# immutable_tuple[0] = 99  # Raises TypeError"
   ]
  },
  {
   "cell_type": "markdown",
   "id": "a24bbb15",
   "metadata": {},
   "source": [
    "## 7.1.9.2 Mutable vs Immutable Types"
   ]
  },
  {
   "cell_type": "markdown",
   "id": "c67b551b",
   "metadata": {},
   "source": [
    "\n",
    "- **Mutable**: list, set, dict, bytearray\n",
    "\n",
    "- **Immutable**: int, float, str, tuple, frozenset, bool\n"
   ]
  },
  {
   "cell_type": "markdown",
   "id": "d2b8ce00",
   "metadata": {},
   "source": [
    "## 7.1.9.3 Identity vs Equality"
   ]
  },
  {
   "cell_type": "code",
   "execution_count": null,
   "id": "07dc1c44",
   "metadata": {},
   "outputs": [],
   "source": [
    "a = [1, 2, 3]\n",
    "b = [1, 2, 3]\n",
    "print(a == b)  # True (values equal)\n",
    "print(a is b)  # False (different objects)"
   ]
  },
  {
   "cell_type": "markdown",
   "id": "0640be04",
   "metadata": {},
   "source": [
    "## 7.1.9.4 Object IDs\n",
    "Use `id()` to compare object identity."
   ]
  },
  {
   "cell_type": "code",
   "execution_count": null,
   "id": "698a140c",
   "metadata": {},
   "outputs": [],
   "source": [
    "x = [1, 2]\n",
    "y = x\n",
    "z = [1, 2]\n",
    "print(id(x), id(y), id(z))\n",
    "print(x is y)  # True\n",
    "print(x is z)  # False"
   ]
  },
  {
   "cell_type": "markdown",
   "id": "c3a07129",
   "metadata": {},
   "source": [
    "## 7.1.9.5 Mutability in Function Calls"
   ]
  },
  {
   "cell_type": "code",
   "execution_count": null,
   "id": "d41a8a53",
   "metadata": {},
   "outputs": [],
   "source": [
    "def modify(lst):\n",
    "    lst.append(99)\n",
    "\n",
    "mylist = [1, 2]\n",
    "modify(mylist)\n",
    "print(mylist)  # Modified outside the function"
   ]
  },
  {
   "cell_type": "markdown",
   "id": "ae4a7d10",
   "metadata": {},
   "source": [
    "## 7.1.9.6 Copying & Cloning"
   ]
  },
  {
   "cell_type": "code",
   "execution_count": null,
   "id": "256faa6b",
   "metadata": {},
   "outputs": [],
   "source": [
    "a = [1, 2, [3, 4]]\n",
    "shallow = a[:]\n",
    "import copy\n",
    "deep = copy.deepcopy(a)\n",
    "a[2].append(5)\n",
    "print(shallow)  # Inner list modified\n",
    "print(deep)     # Inner list preserved"
   ]
  },
  {
   "cell_type": "markdown",
   "id": "403e9e55",
   "metadata": {},
   "source": [
    "## 7.1.9.7 Hashing & Mutability"
   ]
  },
  {
   "cell_type": "code",
   "execution_count": null,
   "id": "32be511f",
   "metadata": {},
   "outputs": [],
   "source": [
    "try:\n",
    "    s = {[1, 2]}  # list is unhashable\n",
    "except TypeError as e:\n",
    "    print(e)\n",
    "\n",
    "frozen = frozenset([1, 2])\n",
    "print(hash(frozen))"
   ]
  },
  {
   "cell_type": "markdown",
   "id": "fcf58b1a",
   "metadata": {},
   "source": [
    "## 7.1.9.8 Best Practices\n",
    "- Avoid using mutable objects as default arguments in functions\n",
    "- Use `is` for identity, `==` for equality"
   ]
  },
  {
   "cell_type": "markdown",
   "id": "e64b5eb3",
   "metadata": {},
   "source": [
    "## 7.1.9.9 Common Pitfalls"
   ]
  },
  {
   "cell_type": "code",
   "execution_count": null,
   "id": "b3784b82",
   "metadata": {},
   "outputs": [],
   "source": [
    "def bad_append(val, lst=[]):\n",
    "    lst.append(val)\n",
    "    return lst\n",
    "\n",
    "print(bad_append(1))\n",
    "print(bad_append(2))  # Same list reused!"
   ]
  },
  {
   "cell_type": "markdown",
   "id": "4acb3ec6",
   "metadata": {},
   "source": [
    "## 7.1.9.10 Related Resources\n",
    "- Python Docs: [Data model](https://docs.python.org/3/reference/datamodel.html)\n",
    "- W3Schools: [Python Identity Operators](https://www.w3schools.com/python/python_operators.asp)\n",
    "- Phyblas: [ตัวแปรและชนิดของข้อมูล](https://phyblas.hinaboshi.com/tsuchinoko03)"
   ]
  }
 ],
 "metadata": {},
 "nbformat": 4,
 "nbformat_minor": 5
}