{
 "cells": [
  {
   "cell_type": "markdown",
   "id": "0976caed",
   "metadata": {},
   "source": [
    "# 7.1.3 Sets\n",
    "Sets are unordered collections of unique elements."
   ]
  },
  {
   "cell_type": "markdown",
   "id": "c9cf0747",
   "metadata": {},
   "source": [
    "## 7.1.3.1 Creating Sets\n",
    "Sets are defined using curly braces or the `set()` constructor."
   ]
  },
  {
   "cell_type": "code",
   "execution_count": null,
   "id": "c3b646f6",
   "metadata": {},
   "outputs": [],
   "source": [
    "s1 = {1, 2, 3}\n",
    "s2 = set([3, 4, 5])\n",
    "print(s1)\n",
    "print(s2)"
   ]
  },
  {
   "cell_type": "markdown",
   "id": "99634596",
   "metadata": {},
   "source": [
    "## 7.1.3.2 Adding & Removing Items\n",
    "Use `add()`, `remove()`, `discard()`, or `pop()` to modify sets."
   ]
  },
  {
   "cell_type": "code",
   "execution_count": null,
   "id": "1773ee7d",
   "metadata": {},
   "outputs": [],
   "source": [
    "s = {1, 2}\n",
    "s.add(3)\n",
    "s.remove(1)\n",
    "s.discard(4)  # No error if not found\n",
    "print(s)\n",
    "s.pop()  # Removes an arbitrary item\n",
    "print(s)"
   ]
  },
  {
   "cell_type": "markdown",
   "id": "a016d469",
   "metadata": {},
   "source": [
    "## 7.1.3.3 Set Operations\n",
    "Includes union, intersection, difference, and symmetric difference."
   ]
  },
  {
   "cell_type": "code",
   "execution_count": null,
   "id": "0ad6852f",
   "metadata": {},
   "outputs": [],
   "source": [
    "a = {1, 2, 3}\n",
    "b = {3, 4, 5}\n",
    "print(a | b)   # Union\n",
    "print(a & b)   # Intersection\n",
    "print(a - b)   # Difference\n",
    "print(a ^ b)   # Symmetric difference"
   ]
  },
  {
   "cell_type": "markdown",
   "id": "4601e841",
   "metadata": {},
   "source": [
    "## 7.1.3.4 Membership & Iteration\n",
    "Check presence with `in` and loop over elements."
   ]
  },
  {
   "cell_type": "code",
   "execution_count": null,
   "id": "ed348040",
   "metadata": {},
   "outputs": [],
   "source": [
    "s = {10, 20, 30}\n",
    "print(20 in s)\n",
    "for item in s:\n",
    "    print(item)"
   ]
  },
  {
   "cell_type": "markdown",
   "id": "3bb492eb",
   "metadata": {},
   "source": [
    "## 7.1.3.5 Set Comprehensions\n",
    "Similar to list comprehensions but for sets."
   ]
  },
  {
   "cell_type": "code",
   "execution_count": null,
   "id": "24fb37d7",
   "metadata": {},
   "outputs": [],
   "source": [
    "squared = {x**2 for x in range(5)}\n",
    "print(squared)"
   ]
  },
  {
   "cell_type": "markdown",
   "id": "0f8e5b56",
   "metadata": {},
   "source": [
    "## 7.1.3.6 Immutability & frozenset\n",
    "Use `frozenset` to create an immutable set."
   ]
  },
  {
   "cell_type": "code",
   "execution_count": null,
   "id": "ecf55148",
   "metadata": {},
   "outputs": [],
   "source": [
    "fs = frozenset([1, 2, 3])\n",
    "print(fs)\n",
    "# fs.add(4)  # Uncommenting this will raise an error"
   ]
  },
  {
   "cell_type": "markdown",
   "id": "487ed0d9",
   "metadata": {},
   "source": [
    "## 7.1.3.7 Best Practices & Tips\n",
    "- Sets are great for removing duplicates.\n",
    "- Use sets for fast membership testing."
   ]
  },
  {
   "cell_type": "code",
   "execution_count": 1,
   "id": "d44a54a1",
   "metadata": {},
   "outputs": [
    {
     "name": "stdout",
     "output_type": "stream",
     "text": [
      "{'a', 'b', 'c'}\n",
      "True\n"
     ]
    }
   ],
   "source": [
    "unique_items = set(['a', 'b', 'a', 'c'])\n",
    "print(unique_items)\n",
    "print('b' in unique_items)"
   ]
  },
  {
   "cell_type": "markdown",
   "id": "2b308313",
   "metadata": {},
   "source": [
    "## 7.1.3.8 Common Pitfalls\n",
    "- `{}` creates a dictionary, not a set.\n",
    "- Sets are unordered; indexing doesn't work."
   ]
  },
  {
   "cell_type": "code",
   "execution_count": 2,
   "id": "658883f4",
   "metadata": {},
   "outputs": [
    {
     "name": "stdout",
     "output_type": "stream",
     "text": [
      "<class 'dict'>\n",
      "<class 'set'>\n"
     ]
    }
   ],
   "source": [
    "empty_dict = {}\n",
    "print(type(empty_dict))  # dict\n",
    "empty_set = set()\n",
    "print(type(empty_set))  # set"
   ]
  },
  {
   "cell_type": "markdown",
   "id": "19cad43e",
   "metadata": {},
   "source": [
    "## 7.1.3.9 Related Resources\n",
    "- Phyblas: [เซ็ต](https://phyblas.hinaboshi.com/tsuchinoko13)\n",
    "- W3Schools: [Python Sets](https://www.w3schools.com/python/python_sets.asp)"
   ]
  }
 ],
 "metadata": {
  "kernelspec": {
   "display_name": "Python 3",
   "language": "python",
   "name": "python3"
  },
  "language_info": {
   "codemirror_mode": {
    "name": "ipython",
    "version": 3
   },
   "file_extension": ".py",
   "mimetype": "text/x-python",
   "name": "python",
   "nbconvert_exporter": "python",
   "pygments_lexer": "ipython3",
   "version": "3.10.0"
  }
 },
 "nbformat": 4,
 "nbformat_minor": 5
}
