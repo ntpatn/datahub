{
 "cells": [
  {
   "cell_type": "markdown",
   "id": "a28fdcc0",
   "metadata": {},
   "source": [
    "# 7.1.5 Arrays vs Lists\n",
    "Comparison between Python built-in lists and NumPy arrays."
   ]
  },
  {
   "cell_type": "markdown",
   "id": "0233eaa1",
   "metadata": {},
   "source": [
    "## 7.1.5.1 Purpose & Use Case\n",
    "- Lists: general-purpose container for any Python objects\n",
    "- Arrays (NumPy): optimized for numerical computations, supports vectorized operations"
   ]
  },
  {
   "cell_type": "markdown",
   "id": "bd626f04",
   "metadata": {},
   "source": [
    "## 7.1.5.2 Creation"
   ]
  },
  {
   "cell_type": "code",
   "execution_count": null,
   "id": "51480ece",
   "metadata": {},
   "outputs": [],
   "source": [
    "import numpy as np\n",
    "py_list = [1, 2, 3]\n",
    "np_array = np.array([1, 2, 3])\n",
    "print(type(py_list), py_list)\n",
    "print(type(np_array), np_array)"
   ]
  },
  {
   "cell_type": "markdown",
   "id": "705fa96c",
   "metadata": {},
   "source": [
    "## 7.1.5.3 Performance & Memory\n",
    "NumPy arrays are more memory-efficient and faster for numerical data."
   ]
  },
  {
   "cell_type": "code",
   "execution_count": null,
   "id": "518f3f3f",
   "metadata": {},
   "outputs": [],
   "source": [
    "import time\n",
    "size = 10**6\n",
    "l = list(range(size))\n",
    "a = np.arange(size)\n",
    "\n",
    "start = time.time()\n",
    "l2 = [x*2 for x in l]\n",
    "print(\"List time:\", time.time() - start)\n",
    "\n",
    "start = time.time()\n",
    "a2 = a * 2\n",
    "print(\"Array time:\", time.time() - start)"
   ]
  },
  {
   "cell_type": "markdown",
   "id": "b81e9d2f",
   "metadata": {},
   "source": [
    "## 7.1.5.4 Element-wise Operations"
   ]
  },
  {
   "cell_type": "code",
   "execution_count": null,
   "id": "c9dd3217",
   "metadata": {},
   "outputs": [],
   "source": [
    "a = np.array([1, 2, 3])\n",
    "print(a + 5)      # Adds 5 to each element\n",
    "print(a * 2)      # Multiplies each element\n",
    "\n",
    "l = [1, 2, 3]\n",
    "# print(l + 5)    # Raises TypeError"
   ]
  },
  {
   "cell_type": "markdown",
   "id": "898818d0",
   "metadata": {},
   "source": [
    "## 7.1.5.5 Methods & Functionality\n",
    "NumPy offers extensive mathematical methods; lists are generic containers."
   ]
  },
  {
   "cell_type": "code",
   "execution_count": null,
   "id": "6c6fca8b",
   "metadata": {},
   "outputs": [],
   "source": [
    "a = np.array([1, 2, 3, 4])\n",
    "print(a.mean())\n",
    "print(a.std())\n",
    "\n",
    "l = [1, 2, 3, 4]\n",
    "# print(l.mean())  # Raises AttributeError"
   ]
  },
  {
   "cell_type": "markdown",
   "id": "11889db4",
   "metadata": {},
   "source": [
    "## 7.1.5.6 Data Types & Homogeneity\n",
    "- Lists can hold mixed types\n",
    "- Arrays require all elements to be of the same type"
   ]
  },
  {
   "cell_type": "code",
   "execution_count": null,
   "id": "e91eab57",
   "metadata": {},
   "outputs": [],
   "source": [
    "mixed_list = [1, 'two', 3.0]\n",
    "homogeneous_array = np.array([1, 2, 3])\n",
    "print(mixed_list)\n",
    "print(homogeneous_array)"
   ]
  },
  {
   "cell_type": "markdown",
   "id": "c554dbb2",
   "metadata": {},
   "source": [
    "## 7.1.5.7 Multidimensional Support\n",
    "NumPy arrays naturally support multidimensional arrays."
   ]
  },
  {
   "cell_type": "code",
   "execution_count": null,
   "id": "2fa50efe",
   "metadata": {},
   "outputs": [],
   "source": [
    "matrix = np.array([[1, 2], [3, 4]])\n",
    "print(matrix)\n",
    "print(matrix[0][1])  # Access element in first row, second column"
   ]
  },
  {
   "cell_type": "markdown",
   "id": "643f7d28",
   "metadata": {},
   "source": [
    "## 7.1.5.8 Best Practices\n",
    "- Use lists for heterogeneous, flexible containers\n",
    "- Use NumPy arrays for numerical computations and performance-critical tasks"
   ]
  },
  {
   "cell_type": "markdown",
   "id": "7242ecd7",
   "metadata": {},
   "source": [
    "## 7.1.5.9 Common Pitfalls\n",
    "- Mistaking Python list operations for vectorized math\n",
    "- Mixing types in arrays can lead to type coercion"
   ]
  },
  {
   "cell_type": "code",
   "execution_count": null,
   "id": "d65f8297",
   "metadata": {},
   "outputs": [],
   "source": [
    "a = np.array([1, 'two', 3])\n",
    "print(a)  # All elements become strings"
   ]
  },
  {
   "cell_type": "markdown",
   "id": "ef755dc9",
   "metadata": {},
   "source": [
    "## 7.1.5.10 Related Resources\n",
    "- NumPy: [numpy.org](https://numpy.org/)\n",
    "- Phyblas: [NumPy เริ่มต้น](https://phyblas.hinaboshi.com/numa02)\n",
    "- W3Schools: [NumPy Intro](https://www.w3schools.com/python/numpy_intro.asp)"
   ]
  }
 ],
 "metadata": {},
 "nbformat": 4,
 "nbformat_minor": 5
}