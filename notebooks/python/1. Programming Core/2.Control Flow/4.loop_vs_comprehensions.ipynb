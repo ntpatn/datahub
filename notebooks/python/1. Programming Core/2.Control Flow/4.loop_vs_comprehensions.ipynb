{
 "cells": [
  {
   "cell_type": "markdown",
   "id": "3a65d051",
   "metadata": {},
   "source": [
    "# 4 Loop vs Comprehensions"
   ]
  },
  {
   "cell_type": "markdown",
   "id": "9128d172",
   "metadata": {},
   "source": [
    "Python provides list comprehensions as a concise alternative to traditional loops for creating new lists. This section compares both approaches with examples."
   ]
  },
  {
   "cell_type": "markdown",
   "id": "f30b08da",
   "metadata": {},
   "source": [
    "## 4.1 Using a for loop to build a list"
   ]
  },
  {
   "cell_type": "markdown",
   "id": "ba8e1476",
   "metadata": {},
   "source": [
    "You can use a traditional `for` loop to append elements one-by-one into a list."
   ]
  },
  {
   "cell_type": "code",
   "execution_count": null,
   "id": "af1d0947",
   "metadata": {},
   "outputs": [],
   "source": [
    "squares = []\n",
    "for x in range(5):\n",
    "    squares.append(x * x)\n",
    "print(squares)"
   ]
  },
  {
   "cell_type": "markdown",
   "id": "7a61b4ee",
   "metadata": {},
   "source": [
    "## 4.2 List comprehension"
   ]
  },
  {
   "cell_type": "markdown",
   "id": "2b278d82",
   "metadata": {},
   "source": [
    "List comprehensions provide a more concise and readable way to create lists in one line."
   ]
  },
  {
   "cell_type": "code",
   "execution_count": null,
   "id": "1d6fdab8",
   "metadata": {},
   "outputs": [],
   "source": [
    "squares = [x * x for x in range(5)]\n",
    "print(squares)"
   ]
  },
  {
   "cell_type": "markdown",
   "id": "3f8d9fd1",
   "metadata": {},
   "source": [
    "## 4.3 List comprehension with condition"
   ]
  },
  {
   "cell_type": "markdown",
   "id": "3377dcc2",
   "metadata": {},
   "source": [
    "You can include an `if` condition inside a list comprehension to filter elements."
   ]
  },
  {
   "cell_type": "code",
   "execution_count": null,
   "id": "21c30d2f",
   "metadata": {},
   "outputs": [],
   "source": [
    "evens = [x for x in range(10) if x % 2 == 0]\n",
    "print(evens)"
   ]
  }
 ],
 "metadata": {
  "language_info": {
   "name": "python"
  }
 },
 "nbformat": 4,
 "nbformat_minor": 5
}
