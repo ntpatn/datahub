{
 "cells": [
  {
   "cell_type": "markdown",
   "id": "db5e9f98",
   "metadata": {},
   "source": [
    "# 3 Loop Utilities"
   ]
  },
  {
   "cell_type": "markdown",
   "id": "3f29f949",
   "metadata": {},
   "source": [
    "Python provides several built-in functions that enhance the capabilities of loops. These utilities make it easier to iterate with counters, pair elements, or control ranges of values."
   ]
  },
  {
   "cell_type": "markdown",
   "id": "772f9467",
   "metadata": {},
   "source": [
    "## 3.1 range()\n",
    "The `range()` function generates a sequence of numbers. It's commonly used with `for` loops to repeat an action a specific number of times."
   ]
  },
  {
   "cell_type": "code",
   "execution_count": null,
   "id": "ba037dc7",
   "metadata": {},
   "outputs": [],
   "source": [
    "for i in range(1, 6):\n",
    "    print(i)"
   ]
  },
  {
   "cell_type": "markdown",
   "id": "828cd8d6",
   "metadata": {},
   "source": [
    "## 3.2 enumerate()\n",
    "The `enumerate()` function adds a counter to an iterable, returning both the index and the element."
   ]
  },
  {
   "cell_type": "code",
   "execution_count": null,
   "id": "e5f72a68",
   "metadata": {},
   "outputs": [],
   "source": [
    "fruits = [\"apple\", \"banana\", \"cherry\"]\n",
    "for index, fruit in enumerate(fruits):\n",
    "    print(index, fruit)"
   ]
  },
  {
   "cell_type": "markdown",
   "id": "b9f82651",
   "metadata": {},
   "source": [
    "## 3.3 zip()\n",
    "The `zip()` function combines multiple iterables into tuples, grouping elements by their position in each iterable."
   ]
  },
  {
   "cell_type": "code",
   "execution_count": null,
   "id": "7aba97b2",
   "metadata": {},
   "outputs": [],
   "source": [
    "names = [\"Alice\", \"Bob\", \"Charlie\"]\n",
    "scores = [85, 90, 95]\n",
    "for name, score in zip(names, scores):\n",
    "    print(f\"{name}: {score}\")"
   ]
  }
 ],
 "metadata": {
  "language_info": {
   "name": "python"
  }
 },
 "nbformat": 4,
 "nbformat_minor": 5
}
