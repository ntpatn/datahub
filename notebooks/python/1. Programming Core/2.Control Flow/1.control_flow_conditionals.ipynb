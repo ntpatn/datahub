{
 "cells": [
  {
   "cell_type": "markdown",
   "id": "d29b8295",
   "metadata": {},
   "source": [
    "# 1. Control Flow – Conditional Statements\n",
    "_This section explains how to use if-else logic to control the flow of a Python program._"
   ]
  },
  {
   "cell_type": "markdown",
   "id": "a5f0f777",
   "metadata": {},
   "source": [
    "## 1.1 Basic `if` Statements\n",
    "- Python uses `if` to run code conditionally.\n",
    "- The condition must evaluate to a boolean value (`True` or `False`)."
   ]
  },
  {
   "cell_type": "code",
   "execution_count": null,
   "id": "0a8a3eec",
   "metadata": {},
   "outputs": [],
   "source": [
    "x = 10\n",
    "if x > 0:\n",
    "    print(\"x is positive\")"
   ]
  },
  {
   "cell_type": "markdown",
   "id": "e918da61",
   "metadata": {},
   "source": [
    "## 1.2 `if-else` Statements\n",
    "- Use `else` to define an alternative block when the condition is `False`."
   ]
  },
  {
   "cell_type": "code",
   "execution_count": null,
   "id": "d8e19c0c",
   "metadata": {},
   "outputs": [],
   "source": [
    "x = -5\n",
    "if x > 0:\n",
    "    print(\"Positive\")\n",
    "else:\n",
    "    print(\"Not positive\")"
   ]
  },
  {
   "cell_type": "markdown",
   "id": "ad560f5e",
   "metadata": {},
   "source": [
    "## 1.3 `if-elif-else` Chains\n",
    "- Use `elif` (else if) for multiple exclusive conditions."
   ]
  },
  {
   "cell_type": "code",
   "execution_count": null,
   "id": "9fd2b236",
   "metadata": {},
   "outputs": [],
   "source": [
    "x = 0\n",
    "if x > 0:\n",
    "    print(\"Positive\")\n",
    "elif x == 0:\n",
    "    print(\"Zero\")\n",
    "else:\n",
    "    print(\"Negative\")"
   ]
  },
  {
   "cell_type": "markdown",
   "id": "5c7824d9",
   "metadata": {},
   "source": [
    "## 1.4 Nested Conditionals\n",
    "- You can nest `if` statements inside each other for complex logic."
   ]
  },
  {
   "cell_type": "code",
   "execution_count": null,
   "id": "3e9238c3",
   "metadata": {},
   "outputs": [],
   "source": [
    "x = 5\n",
    "y = 3\n",
    "if x > 0:\n",
    "    if y > 0:\n",
    "        print(\"Both positive\")"
   ]
  },
  {
   "cell_type": "markdown",
   "id": "bf3c4eb5",
   "metadata": {},
   "source": [
    "## 1.5 Ternary (Conditional) Expression\n",
    "- One-line shorthand for `if-else`.\n",
    "- Syntax: `value_if_true if condition else value_if_false`"
   ]
  },
  {
   "cell_type": "code",
   "execution_count": null,
   "id": "1c65170d",
   "metadata": {},
   "outputs": [],
   "source": [
    "x = 10\n",
    "result = \"Positive\" if x > 0 else \"Not positive\"\n",
    "print(result)"
   ]
  }
 ],
 "metadata": {
  "language_info": {
   "name": "python"
  }
 },
 "nbformat": 4,
 "nbformat_minor": 5
}
