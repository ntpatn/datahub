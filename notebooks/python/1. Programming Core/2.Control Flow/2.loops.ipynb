{
 "cells": [
  {
   "cell_type": "markdown",
   "id": "1eeed278",
   "metadata": {},
   "source": [
    "# 2. Loops"
   ]
  },
  {
   "cell_type": "markdown",
   "id": "f4bc1fca",
   "metadata": {},
   "source": [
    "Loops allow you to repeat actions efficiently. Python provides two primary looping constructs: `for` loops and `while` loops. Each is suitable for different situations depending on whether you know the number of iterations in advance."
   ]
  },
  {
   "cell_type": "markdown",
   "id": "c5abcb76",
   "metadata": {},
   "source": [
    "## 2.1 For Loops\n",
    "The `for` loop is used when iterating over a sequence like a list, tuple, string, or range."
   ]
  },
  {
   "cell_type": "code",
   "execution_count": null,
   "id": "31dee7c8",
   "metadata": {},
   "outputs": [],
   "source": [
    "fruits = [\"apple\", \"banana\", \"cherry\"]\n",
    "for fruit in fruits:\n",
    "    print(fruit)"
   ]
  },
  {
   "cell_type": "markdown",
   "id": "5d0afa62",
   "metadata": {},
   "source": [
    "## 2.2 While Loops\n",
    "The `while` loop runs as long as a condition is `True`. It's useful when you don’t know beforehand how many times to iterate."
   ]
  },
  {
   "cell_type": "code",
   "execution_count": null,
   "id": "bd32605e",
   "metadata": {},
   "outputs": [],
   "source": [
    "count = 3\n",
    "while count > 0:\n",
    "    print(count)\n",
    "    count -= 1"
   ]
  },
  {
   "cell_type": "markdown",
   "id": "1f1205b0",
   "metadata": {},
   "source": [
    "## 2.3 Loop Control: break\n",
    "The `break` statement immediately exits the loop, even if the condition hasn't become `False` yet."
   ]
  },
  {
   "cell_type": "code",
   "execution_count": null,
   "id": "2425917c",
   "metadata": {},
   "outputs": [],
   "source": [
    "for i in range(5):\n",
    "    if i == 3:\n",
    "        break\n",
    "    print(i)"
   ]
  },
  {
   "cell_type": "markdown",
   "id": "7daeea93",
   "metadata": {},
   "source": [
    "## 2.4 Loop Control: continue\n",
    "The `continue` statement skips the rest of the current iteration and proceeds to the next one."
   ]
  },
  {
   "cell_type": "code",
   "execution_count": null,
   "id": "83c5a1d7",
   "metadata": {},
   "outputs": [],
   "source": [
    "for i in range(5):\n",
    "    if i == 2:\n",
    "        continue\n",
    "    print(i)"
   ]
  },
  {
   "cell_type": "markdown",
   "id": "7540b8c5",
   "metadata": {},
   "source": [
    "## 2.5 Loop with else\n",
    "The `else` block runs after the loop completes normally (i.e., no `break` occurred)."
   ]
  },
  {
   "cell_type": "code",
   "execution_count": null,
   "id": "ee0a1ea5",
   "metadata": {},
   "outputs": [],
   "source": [
    "for i in range(3):\n",
    "    print(i)\n",
    "else:\n",
    "    print(\"Loop completed\")"
   ]
  }
 ],
 "metadata": {
  "language_info": {
   "name": "python"
  }
 },
 "nbformat": 4,
 "nbformat_minor": 5
}
