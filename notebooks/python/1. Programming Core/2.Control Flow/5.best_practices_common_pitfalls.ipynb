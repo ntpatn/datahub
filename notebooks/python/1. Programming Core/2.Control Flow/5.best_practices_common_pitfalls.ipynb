{
 "cells": [
  {
   "cell_type": "markdown",
   "id": "2fab751a",
   "metadata": {},
   "source": [
    "# 2.5 Best Practices & Common Pitfalls"
   ]
  },
  {
   "cell_type": "markdown",
   "id": "7c8b9061",
   "metadata": {},
   "source": [
    "This section covers common mistakes and useful practices when writing control flow in Python. Understanding these patterns can help you write safer, more readable, and more predictable code."
   ]
  },
  {
   "cell_type": "markdown",
   "id": "3419d9d4",
   "metadata": {},
   "source": [
    "## 2.5.1 Infinite loops"
   ]
  },
  {
   "cell_type": "markdown",
   "id": "e0359736",
   "metadata": {},
   "source": [
    "A `while` loop without a proper exit condition can result in an infinite loop. Always ensure the loop condition will eventually be `False`."
   ]
  },
  {
   "cell_type": "code",
   "execution_count": null,
   "id": "d440b6a4",
   "metadata": {},
   "outputs": [],
   "source": [
    "x = 5\n",
    "while x > 0:\n",
    "    print(x)\n",
    "    # Missing x -= 1 will cause infinite loop"
   ]
  },
  {
   "cell_type": "markdown",
   "id": "35116a8a",
   "metadata": {},
   "source": [
    "## 2.5.2 Off-by-one errors"
   ]
  },
  {
   "cell_type": "markdown",
   "id": "8af02731",
   "metadata": {},
   "source": [
    "Be cautious with loop boundaries, especially with `range()` and slicing. These errors happen when you include or exclude one index unintentionally."
   ]
  },
  {
   "cell_type": "code",
   "execution_count": null,
   "id": "33ce02fe",
   "metadata": {},
   "outputs": [],
   "source": [
    "# Intended to print 0 to 4, but prints 0 to 5\n",
    "for i in range(6):\n",
    "    print(i)"
   ]
  },
  {
   "cell_type": "markdown",
   "id": "447defd5",
   "metadata": {},
   "source": [
    "## 2.5.3 Modifying a list while iterating"
   ]
  },
  {
   "cell_type": "markdown",
   "id": "d0868d53",
   "metadata": {},
   "source": [
    "Changing a list during iteration can lead to unexpected results. It's safer to iterate over a copy or build a new list."
   ]
  },
  {
   "cell_type": "code",
   "execution_count": null,
   "id": "c3902ef1",
   "metadata": {},
   "outputs": [],
   "source": [
    "nums = [1, 2, 3, 4]\n",
    "for n in nums:\n",
    "    if n % 2 == 0:\n",
    "        nums.remove(n)  # This modifies the list while iterating\n",
    "print(nums)  # Unexpected result"
   ]
  },
  {
   "cell_type": "markdown",
   "id": "7fe5c1dd",
   "metadata": {},
   "source": [
    "## 2.5.4 Better alternative"
   ]
  },
  {
   "cell_type": "code",
   "execution_count": null,
   "id": "d41ef3dd",
   "metadata": {},
   "outputs": [],
   "source": [
    "nums = [1, 2, 3, 4]\n",
    "filtered = [n for n in nums if n % 2 != 0]\n",
    "print(filtered)"
   ]
  }
 ],
 "metadata": {},
 "nbformat": 4,
 "nbformat_minor": 5
}
