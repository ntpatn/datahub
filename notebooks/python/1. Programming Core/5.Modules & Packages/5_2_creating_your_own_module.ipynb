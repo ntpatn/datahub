{
 "cells": [
  {
   "cell_type": "markdown",
   "id": "719ba9f3",
   "metadata": {},
   "source": [
    "# 5.2 Creating Your Own Module"
   ]
  },
  {
   "cell_type": "markdown",
   "id": "0efe3c83",
   "metadata": {},
   "source": [
    "In Python, a module is simply a `.py` file that contains functions, classes, or variables. You can create your own module by writing reusable code in a file and importing it into other scripts."
   ]
  },
  {
   "cell_type": "markdown",
   "id": "e28c4518",
   "metadata": {},
   "source": [
    "## 5.2.1 Writing a custom module"
   ]
  },
  {
   "cell_type": "markdown",
   "id": "6bc8a1b6",
   "metadata": {},
   "source": [
    "Suppose you have a file named `mymath.py` in the same directory with the following content:"
   ]
  },
  {
   "cell_type": "code",
   "execution_count": null,
   "id": "4841fbd1",
   "metadata": {},
   "outputs": [],
   "source": [
    "# mymath.py\n",
    "def add(a, b):\n",
    "    return a + b"
   ]
  },
  {
   "cell_type": "markdown",
   "id": "3f43d229",
   "metadata": {},
   "source": [
    "## 5.2.2 Importing your module"
   ]
  },
  {
   "cell_type": "markdown",
   "id": "9ae3013c",
   "metadata": {},
   "source": [
    "You can then import it into another Python file:"
   ]
  },
  {
   "cell_type": "code",
   "execution_count": null,
   "id": "82faab5f",
   "metadata": {},
   "outputs": [],
   "source": [
    "import mymath\n",
    "print(mymath.add(3, 4))"
   ]
  },
  {
   "cell_type": "markdown",
   "id": "e04b4f5f",
   "metadata": {},
   "source": [
    "## 5.2.3 Understanding sys.path"
   ]
  },
  {
   "cell_type": "markdown",
   "id": "424bc0f2",
   "metadata": {},
   "source": [
    "Python searches for modules in the paths listed in `sys.path`."
   ]
  },
  {
   "cell_type": "code",
   "execution_count": null,
   "id": "3205b139",
   "metadata": {},
   "outputs": [],
   "source": [
    "import sys\n",
    "print(sys.path)"
   ]
  },
  {
   "cell_type": "markdown",
   "id": "8cc91952",
   "metadata": {},
   "source": [
    "📌 **TIP:**\n",
    "Ensure your custom module is in the same folder or in a path listed in `sys.path` to avoid `ModuleNotFoundError`."
   ]
  }
 ],
 "metadata": {},
 "nbformat": 4,
 "nbformat_minor": 5
}
