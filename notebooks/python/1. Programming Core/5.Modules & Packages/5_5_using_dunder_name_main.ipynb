{
 "cells": [
  {
   "cell_type": "markdown",
   "id": "b53a653f",
   "metadata": {},
   "source": [
    "# 5.5 Using `__name__ == '__main__'`"
   ]
  },
  {
   "cell_type": "markdown",
   "id": "75e12ac4",
   "metadata": {},
   "source": [
    "This pattern is used to distinguish between code that should run when the file is executed directly, and code that should only run when the file is imported as a module."
   ]
  },
  {
   "cell_type": "markdown",
   "id": "506572c2",
   "metadata": {},
   "source": [
    "## 5.5.1 What is `__name__`"
   ]
  },
  {
   "cell_type": "markdown",
   "id": "f6803c8e",
   "metadata": {},
   "source": [
    "`__name__` is a built-in variable in Python that is automatically set by the interpreter. Its value depends on how the script is run:"
   ]
  },
  {
   "cell_type": "code",
   "execution_count": 1,
   "id": "fd7fd452",
   "metadata": {},
   "outputs": [
    {
     "name": "stdout",
     "output_type": "stream",
     "text": [
      "__main__\n"
     ]
    }
   ],
   "source": [
    "# Inside myscript.py\n",
    "print(__name__)"
   ]
  },
  {
   "cell_type": "markdown",
   "id": "b4eeda31",
   "metadata": {},
   "source": [
    "- If run directly → `__name__ == '__main__'`\n",
    "- If imported → `__name__ == 'module_name'`"
   ]
  },
  {
   "cell_type": "markdown",
   "id": "2202ff09",
   "metadata": {},
   "source": [
    "## 5.5.2 Why use `if __name__ == '__main__'`"
   ]
  },
  {
   "cell_type": "markdown",
   "id": "054b0152",
   "metadata": {},
   "source": [
    "Use this block to write test code or script-like behavior that should not run when the file is imported elsewhere."
   ]
  },
  {
   "cell_type": "code",
   "execution_count": null,
   "id": "6c60690f",
   "metadata": {},
   "outputs": [],
   "source": [
    "# mymodule.py\n",
    "\n",
    "def add(a, b):\n",
    "    return a + b\n",
    "\n",
    "if __name__ == '__main__':\n",
    "    print(add(2, 3))"
   ]
  },
  {
   "cell_type": "markdown",
   "id": "3d9b3d8a",
   "metadata": {},
   "source": [
    "## 5.5.3 Common use cases"
   ]
  },
  {
   "cell_type": "markdown",
   "id": "a1899ba7",
   "metadata": {},
   "source": [
    "- Writing demo/test code at the bottom of a file\n",
    "- Preventing execution of script logic during import\n",
    "- Separating script vs. library behavior"
   ]
  }
 ],
 "metadata": {
  "kernelspec": {
   "display_name": "venv",
   "language": "python",
   "name": "python3"
  },
  "language_info": {
   "codemirror_mode": {
    "name": "ipython",
    "version": 3
   },
   "file_extension": ".py",
   "mimetype": "text/x-python",
   "name": "python",
   "nbconvert_exporter": "python",
   "pygments_lexer": "ipython3",
   "version": "3.10.0"
  }
 },
 "nbformat": 4,
 "nbformat_minor": 5
}
