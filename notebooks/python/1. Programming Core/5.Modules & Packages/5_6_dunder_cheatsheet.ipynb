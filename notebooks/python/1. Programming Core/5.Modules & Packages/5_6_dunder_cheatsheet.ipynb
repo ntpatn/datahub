{
 "cells": [
  {
   "cell_type": "markdown",
   "id": "4c2eac7e",
   "metadata": {},
   "source": [
    "# Dunder Variables & Methods Cheat Sheet (for Data & Software Engineering)"
   ]
  },
  {
   "cell_type": "markdown",
   "id": "8793b99e",
   "metadata": {},
   "source": [
    "## ✅ Dunder Variables (Special Variables)\n",
    "| Variable | Purpose | Example |\n",
    "|----------|---------|---------|\n",
    "| `__name__` | Indicates how the script is run | `if __name__ == '__main__':` |\n",
    "| `__file__` | File path of the script | `print(__file__)` |\n",
    "| `__doc__` | Docstring of module/class/function | `print(func.__doc__)` |\n",
    "| `__package__` | Package name for relative import | `from . import module` |\n",
    "| `__builtins__` | Access to built-in functions | `dir(__builtins__)` |"
   ]
  },
  {
   "cell_type": "markdown",
   "id": "5ddcd535",
   "metadata": {},
   "source": [
    "## 🧱 Dunder Methods (Magic Methods)"
   ]
  },
  {
   "cell_type": "markdown",
   "id": "d36f4fa9",
   "metadata": {},
   "source": [
    "## 1. Object Initialization\n",
    "\n",
    "| Method     | ใช้เมื่อ                                 |\n",
    "|------------|-------------------------------------------|\n",
    "| `__init__` | สร้างอ็อบเจกต์                           |\n",
    "| `__del__`  | ถูกเรียกตอนอ็อบเจกต์ถูกลบ (ไม่ควรใช้มาก) |"
   ]
  },
  {
   "cell_type": "code",
   "execution_count": 3,
   "id": "55fae26b",
   "metadata": {},
   "outputs": [
    {
     "name": "stdout",
     "output_type": "stream",
     "text": [
      "Pat\n",
      "End of program\n"
     ]
    }
   ],
   "source": [
    "class Person:\n",
    "    def __init__(self, name):\n",
    "        self.name = name\n",
    "        #print(f\"Hello {self.name}\")\n",
    "\n",
    "    def __del__(self):\n",
    "        pass\n",
    "        #print(f\"Goodbye {self.name}\")\n",
    "\n",
    "p = Person(\"Pat\")\n",
    "print(p.name)\n",
    "del p  # บังคับลบ\n",
    "print(\"End of program\")\n",
    "#print(p.name) # NameError: name 'p' is not defined\n"
   ]
  },
  {
   "cell_type": "markdown",
   "id": "b58e4856",
   "metadata": {},
   "source": [
    "\n",
    "## 2. Object Display\n",
    "\n",
    "| Method     | ใช้เมื่อ                    |\n",
    "|------------|-----------------------------|\n",
    "| `__str__`  | ใช้เมื่อเรียก `print(obj)` |\n",
    "| `__repr__` | ใช้แสดงผลเพื่อ debug หรือใน shell |\n"
   ]
  },
  {
   "cell_type": "code",
   "execution_count": 4,
   "id": "10a39ca8",
   "metadata": {},
   "outputs": [
    {
     "name": "stdout",
     "output_type": "stream",
     "text": [
      "My name is Pat\n",
      "Person(Pat)\n"
     ]
    }
   ],
   "source": [
    "class Person:\n",
    "    def __init__(self, name):\n",
    "        self.name = name\n",
    "    def __str__(self):\n",
    "        return f\"My name is {self.name}\"\n",
    "    def __repr__(self):\n",
    "        return f\"Person({self.name})\"\n",
    "\n",
    "p = Person('Pat')\n",
    "print(str(p))\n",
    "print(repr(p))"
   ]
  },
  {
   "cell_type": "markdown",
   "id": "5153df61",
   "metadata": {},
   "source": [
    "\n",
    "## 3. Collections & Data Access\n",
    "\n",
    "| Method         | ใช้เมื่อ                      |\n",
    "|----------------|-------------------------------|\n",
    "| `__len__`      | ใช้กับ `len(obj)`             |\n",
    "| `__getitem__`  | เข้าถึงสมาชิก เช่น `obj[0]`  |\n",
    "| `__setitem__`  | กำหนดสมาชิก เช่น `obj[0] = x`|\n",
    "| `__delitem__`  | ลบสมาชิก เช่น `del obj[0]`    |\n"
   ]
  },
  {
   "cell_type": "code",
   "execution_count": 4,
   "id": "dc0e232d",
   "metadata": {},
   "outputs": [
    {
     "name": "stdout",
     "output_type": "stream",
     "text": [
      "2\n",
      "10\n",
      "3\n"
     ]
    }
   ],
   "source": [
    "class MyList:\n",
    "    def __init__(self):\n",
    "        self.data = [1, 2, 3]\n",
    "    def __getitem__(self, idx):\n",
    "        return self.data[idx]\n",
    "    def __setitem__(self, idx, value):\n",
    "        self.data[idx] = value\n",
    "    def __len__(self):\n",
    "        return len(self.data)\n",
    "\n",
    "x = MyList()\n",
    "print(x[1])\n",
    "x[1] = 10\n",
    "print(x[1])\n",
    "print(len(x))"
   ]
  },
  {
   "cell_type": "markdown",
   "id": "8d14f737",
   "metadata": {},
   "source": [
    "\n",
    "## 4. Callable Object\n",
    "\n",
    "| Method     | ใช้เมื่อ                                |\n",
    "|------------|------------------------------------------|\n",
    "| `__call__` | เรียก object เหมือนเป็นฟังก์ชัน `obj()` |\n"
   ]
  },
  {
   "cell_type": "code",
   "execution_count": null,
   "id": "b8791807",
   "metadata": {},
   "outputs": [],
   "source": [
    "class Squarer:\n",
    "    def __call__(self, x):\n",
    "        return x ** 2\n",
    "\n",
    "square = Squarer()\n",
    "print(square(5))"
   ]
  },
  {
   "cell_type": "markdown",
   "id": "99f63652",
   "metadata": {},
   "source": [
    "### Context Manager (`with` syntax)"
   ]
  },
  {
   "cell_type": "markdown",
   "id": "279e6160",
   "metadata": {},
   "source": [
    "\n",
    "## 5. Context Manager\n",
    "\n",
    "| Method      | ใช้เมื่อ                     |\n",
    "|-------------|------------------------------|\n",
    "| `__enter__` | เริ่มต้น context (`with`)    |\n",
    "| `__exit__`  | จบ context (`with`)           |\n"
   ]
  },
  {
   "cell_type": "code",
   "execution_count": null,
   "id": "83eecce4",
   "metadata": {},
   "outputs": [],
   "source": [
    "class MyContext:\n",
    "    def __enter__(self):\n",
    "        print('Entering context')\n",
    "        return self\n",
    "    def __exit__(self, exc_type, exc_val, exc_tb):\n",
    "        print('Exiting context')\n",
    "\n",
    "with MyContext():\n",
    "    print('Inside context')"
   ]
  },
  {
   "cell_type": "markdown",
   "id": "a28c8ad6",
   "metadata": {},
   "source": [
    "\n",
    "## 6. Operator Overloading\n",
    "\n",
    "| Method     | ใช้เมื่อ                     |\n",
    "|------------|------------------------------|\n",
    "| `__add__`  | ใช้กับ `+` เช่น `obj1 + obj2`|\n",
    "| `__sub__`  | ใช้กับ `-`                    |\n",
    "| `__mul__`  | ใช้กับ `*`                    |\n",
    "| `__eq__`   | ใช้กับ `==`                   |\n",
    "| `__lt__`   | ใช้กับ `<`                    |\n",
    "| `__gt__`   | ใช้กับ `>`                    |\n"
   ]
  },
  {
   "cell_type": "code",
   "execution_count": null,
   "id": "27717364",
   "metadata": {},
   "outputs": [],
   "source": [
    "class Number:\n",
    "    def __init__(self, value):\n",
    "        self.value = value\n",
    "    def __add__(self, other):\n",
    "        return Number(self.value + other.value)\n",
    "    def __str__(self):\n",
    "        return str(self.value)\n",
    "\n",
    "a = Number(3)\n",
    "b = Number(7)\n",
    "c = a + b\n",
    "print(c)"
   ]
  },
  {
   "cell_type": "markdown",
   "id": "6869a04a",
   "metadata": {},
   "source": [
    "## 🔹 Magic Method: `__init__`\n",
    "| รายละเอียด | คำอธิบาย |\n",
    "|------------|-----------|\n",
    "| 📌 ใช้เมื่อ | ต้องการกำหนดค่าตั้งต้น (initialize) ให้กับ object ที่สร้างขึ้น |\n",
    "| 🧠 ทำหน้าที่ | เป็น constructor ของ class — Python จะเรียก `__init__` ให้อัตโนมัติเมื่อเราสร้าง object |\n",
    "| 🔧 ใช้ทำอะไร | - รับ argument ตอนสร้าง object<br>- กำหนด attribute ภายใน<br>- เตรียม object ให้พร้อมใช้งาน |"
   ]
  },
  {
   "cell_type": "code",
   "execution_count": null,
   "id": "157de758",
   "metadata": {},
   "outputs": [],
   "source": [
    "class User:\n",
    "    def __init__(self, name, age):\n",
    "        self.name = name\n",
    "        self.age = age\n",
    "\n",
    "u = User(\"Pat\", 30)\n",
    "print(u.name)  # Pat"
   ]
  },
  {
   "cell_type": "markdown",
   "id": "452fdf74",
   "metadata": {},
   "source": [
    "## 🔹 Magic Method: `__del__`\n",
    "| รายละเอียด | คำอธิบาย |\n",
    "|------------|-----------|\n",
    "| 📌 ใช้เมื่อ | Python กำลัง \"ลบ\" object ออกจากหน่วยความจำ |\n",
    "| 🧠 ทำหน้าที่ | Destructor – ถูกเรียกโดยอัตโนมัติเมื่อ object ถูก garbage collected |\n",
    "| ⚠️ ข้อควรระวัง | - ไม่ควรใช้เพื่อควบคุม logic หลัก<br>- Python ไม่รับประกันว่าจะเรียก `__del__` ตอนไหนแน่นอน (โดยเฉพาะในระบบแบบ reference cycle) |"
   ]
  },
  {
   "cell_type": "code",
   "execution_count": null,
   "id": "deaeb8a9",
   "metadata": {},
   "outputs": [],
   "source": [
    "class Connection:\n",
    "    def __init__(self):\n",
    "        print(\"Connecting...\")\n",
    "    def __del__(self):\n",
    "        print(\"Closing connection\")\n",
    "\n",
    "conn = Connection()\n",
    "del conn  # บังคับลบ"
   ]
  },
  {
   "cell_type": "markdown",
   "id": "a4afc382",
   "metadata": {},
   "source": [
    "### 🔄 สรุปเปรียบเทียบ:\n",
    "| Method     | บทบาท | เรียกโดย Python เมื่อ... | ใช้บ่อย? |\n",
    "|------------|--------|----------------------------|-----------|\n",
    "| `__init__` | constructor | สร้าง object ใหม่ (`MyClass(...)`) | ✅ ใช้ประจำ |\n",
    "| `__del__`  | destructor  | Python กำลังลบ object (GC)     | ❌ ใช้น้อยมาก |"
   ]
  }
 ],
 "metadata": {
  "kernelspec": {
   "display_name": "Python 3",
   "language": "python",
   "name": "python3"
  },
  "language_info": {
   "codemirror_mode": {
    "name": "ipython",
    "version": 3
   },
   "file_extension": ".py",
   "mimetype": "text/x-python",
   "name": "python",
   "nbconvert_exporter": "python",
   "pygments_lexer": "ipython3",
   "version": "3.10.0"
  }
 },
 "nbformat": 4,
 "nbformat_minor": 5
}
