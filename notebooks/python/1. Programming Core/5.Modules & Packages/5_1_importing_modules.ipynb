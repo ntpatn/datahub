{
 "cells": [
  {
   "cell_type": "markdown",
   "id": "6d5c5521",
   "metadata": {},
   "source": [
    "# 5.1 Importing Modules"
   ]
  },
  {
   "cell_type": "markdown",
   "id": "b819addf",
   "metadata": {},
   "source": [
    "Python provides several ways to import external modules and functions into your program. Modules help organize reusable code, and the import system allows you to use built-in, third-party, or custom modules."
   ]
  },
  {
   "cell_type": "markdown",
   "id": "5a67fae4",
   "metadata": {},
   "source": [
    "## 5.1.1 Basic import"
   ]
  },
  {
   "cell_type": "markdown",
   "id": "30987d85",
   "metadata": {},
   "source": [
    "Use `import module_name` to import an entire module."
   ]
  },
  {
   "cell_type": "code",
   "execution_count": null,
   "id": "d4859885",
   "metadata": {},
   "outputs": [],
   "source": [
    "import math\n",
    "print(math.sqrt(16))"
   ]
  },
  {
   "cell_type": "markdown",
   "id": "363faa53",
   "metadata": {},
   "source": [
    "## 5.1.2 Importing specific names"
   ]
  },
  {
   "cell_type": "markdown",
   "id": "327de7e1",
   "metadata": {},
   "source": [
    "Use `from module import name` to import a specific function or class."
   ]
  },
  {
   "cell_type": "code",
   "execution_count": null,
   "id": "9b58469b",
   "metadata": {},
   "outputs": [],
   "source": [
    "from math import pi\n",
    "print(pi)"
   ]
  },
  {
   "cell_type": "markdown",
   "id": "800f4081",
   "metadata": {},
   "source": [
    "## 5.1.3 Aliasing with `as`"
   ]
  },
  {
   "cell_type": "markdown",
   "id": "7d711c82",
   "metadata": {},
   "source": [
    "You can assign an alias to the module or name for brevity or to avoid conflicts."
   ]
  },
  {
   "cell_type": "code",
   "execution_count": null,
   "id": "d564d0b7",
   "metadata": {},
   "outputs": [],
   "source": [
    "import numpy as np\n",
    "print(np.array([1, 2, 3]))"
   ]
  },
  {
   "cell_type": "markdown",
   "id": "e9f60a23",
   "metadata": {},
   "source": [
    "## 5.1.4 Importing multiple items"
   ]
  },
  {
   "cell_type": "code",
   "execution_count": null,
   "id": "205fc047",
   "metadata": {},
   "outputs": [],
   "source": [
    "from math import sin, cos, tan\n",
    "print(sin(0), cos(0), tan(0))"
   ]
  },
  {
   "cell_type": "markdown",
   "id": "33b8392f",
   "metadata": {},
   "source": [
    "## 5.1.5 Importing everything (not recommended)"
   ]
  },
  {
   "cell_type": "markdown",
   "id": "34f4bc21",
   "metadata": {},
   "source": [
    "Using `from module import *` imports all public names, but can cause namespace conflicts and is discouraged."
   ]
  },
  {
   "cell_type": "code",
   "execution_count": null,
   "id": "7738dee5",
   "metadata": {},
   "outputs": [],
   "source": [
    "from math import *\n",
    "print(sqrt(25))"
   ]
  }
 ],
 "metadata": {},
 "nbformat": 4,
 "nbformat_minor": 5
}
