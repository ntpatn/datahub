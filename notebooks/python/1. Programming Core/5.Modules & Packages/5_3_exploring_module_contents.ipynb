{
 "cells": [
  {
   "cell_type": "markdown",
   "id": "16479dee",
   "metadata": {},
   "source": [
    "# 5.3 Exploring Module Contents"
   ]
  },
  {
   "cell_type": "markdown",
   "id": "bf9803d5",
   "metadata": {},
   "source": [
    "Python provides built-in functions to explore the contents and documentation of modules. These tools help you understand what's available inside a module and how to use it."
   ]
  },
  {
   "cell_type": "markdown",
   "id": "adc56df0",
   "metadata": {},
   "source": [
    "## 5.3.1 Using dir()"
   ]
  },
  {
   "cell_type": "markdown",
   "id": "ae75f84a",
   "metadata": {},
   "source": [
    "`dir()` returns a list of names (functions, variables, etc.) defined in a module."
   ]
  },
  {
   "cell_type": "code",
   "execution_count": 6,
   "id": "46a0c75a",
   "metadata": {},
   "outputs": [
    {
     "name": "stdout",
     "output_type": "stream",
     "text": [
      "['__doc__', '__loader__', '__name__', '__package__', '__spec__', 'acos', 'acosh', 'asin', 'asinh', 'atan', 'atan2', 'atanh', 'ceil', 'comb', 'copysign', 'cos', 'cosh', 'degrees', 'dist', 'e', 'erf', 'erfc', 'exp', 'expm1', 'fabs', 'factorial', 'floor', 'fmod', 'frexp', 'fsum', 'gamma', 'gcd', 'hypot', 'inf', 'isclose', 'isfinite', 'isinf', 'isnan', 'isqrt', 'lcm', 'ldexp', 'lgamma', 'log', 'log10', 'log1p', 'log2', 'modf', 'nan', 'nextafter', 'perm', 'pi', 'pow', 'prod', 'radians', 'remainder', 'sin', 'sinh', 'sqrt', 'tan', 'tanh', 'tau', 'trunc', 'ulp']\n"
     ]
    }
   ],
   "source": [
    "import math\n",
    "print(dir(math))"
   ]
  },
  {
   "cell_type": "markdown",
   "id": "a46144f8",
   "metadata": {},
   "source": [
    "## 5.3.2 Using help()"
   ]
  },
  {
   "cell_type": "markdown",
   "id": "28c6f3e6",
   "metadata": {},
   "source": [
    "`help()` provides interactive documentation for modules, classes, or functions."
   ]
  },
  {
   "cell_type": "code",
   "execution_count": null,
   "id": "6a3ca65a",
   "metadata": {},
   "outputs": [],
   "source": [
    "help(math.sqrt)"
   ]
  },
  {
   "cell_type": "markdown",
   "id": "ef4033ac",
   "metadata": {},
   "source": [
    "## 5.3.3 Reading __doc__"
   ]
  },
  {
   "cell_type": "markdown",
   "id": "23c0f472",
   "metadata": {},
   "source": [
    "Most functions and modules include a string in the `__doc__` attribute describing their purpose."
   ]
  },
  {
   "cell_type": "code",
   "execution_count": 7,
   "id": "a1fa84d9",
   "metadata": {},
   "outputs": [
    {
     "name": "stdout",
     "output_type": "stream",
     "text": [
      "Return the square root of x.\n"
     ]
    }
   ],
   "source": [
    "print(math.sqrt.__doc__)"
   ]
  },
  {
   "cell_type": "markdown",
   "id": "6998a0c3",
   "metadata": {},
   "source": [
    "## 5.3.4 Introspection tips"
   ]
  },
  {
   "cell_type": "markdown",
   "id": "cd32a31c",
   "metadata": {},
   "source": [
    "You can use built-in functions like `type()`, `id()`, and `hasattr()` to inspect modules and their attributes."
   ]
  },
  {
   "cell_type": "code",
   "execution_count": 8,
   "id": "7b480f5e",
   "metadata": {},
   "outputs": [
    {
     "name": "stdout",
     "output_type": "stream",
     "text": [
      "<class 'module'>\n",
      "True\n"
     ]
    }
   ],
   "source": [
    "print(type(math))\n",
    "print(hasattr(math, \"pi\"))"
   ]
  }
 ],
 "metadata": {
  "kernelspec": {
   "display_name": "venv",
   "language": "python",
   "name": "python3"
  },
  "language_info": {
   "codemirror_mode": {
    "name": "ipython",
    "version": 3
   },
   "file_extension": ".py",
   "mimetype": "text/x-python",
   "name": "python",
   "nbconvert_exporter": "python",
   "pygments_lexer": "ipython3",
   "version": "3.10.0"
  }
 },
 "nbformat": 4,
 "nbformat_minor": 5
}
