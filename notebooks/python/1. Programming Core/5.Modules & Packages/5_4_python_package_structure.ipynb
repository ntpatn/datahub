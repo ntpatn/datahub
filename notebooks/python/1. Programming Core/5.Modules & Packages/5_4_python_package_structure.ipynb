{
 "cells": [
  {
   "cell_type": "markdown",
   "id": "d8241ce4",
   "metadata": {},
   "source": [
    "# 5.4 Python Package Structure"
   ]
  },
  {
   "cell_type": "markdown",
   "id": "ebc12af4",
   "metadata": {},
   "source": [
    "A package in Python is a directory that contains a special `__init__.py` file and one or more module files. Packages help organize related modules and allow for hierarchical imports."
   ]
  },
  {
   "cell_type": "markdown",
   "id": "854af34d",
   "metadata": {},
   "source": [
    "## 5.4.1 Creating a basic package"
   ]
  },
  {
   "cell_type": "markdown",
   "id": "3e6c6a08",
   "metadata": {},
   "source": [
    "Example structure:\n",
    "\n",
    "```\n",
    "mypackage/\n",
    "├── __init__.py\n",
    "├── math_utils.py\n",
    "└── string_utils.py\n",
    "```"
   ]
  },
  {
   "cell_type": "markdown",
   "id": "3d1abdad",
   "metadata": {},
   "source": [
    "## 5.4.2 Importing from a package"
   ]
  },
  {
   "cell_type": "markdown",
   "id": "e255c0c9",
   "metadata": {},
   "source": [
    "You can import modules or specific functions from a package:"
   ]
  },
  {
   "cell_type": "code",
   "execution_count": null,
   "id": "65fc4b70",
   "metadata": {},
   "outputs": [],
   "source": [
    "from mypackage import math_utils\n",
    "from mypackage.string_utils import to_upper"
   ]
  },
  {
   "cell_type": "markdown",
   "id": "0b4eedc2",
   "metadata": {},
   "source": [
    "## 5.4.3 Purpose of __init__.py"
   ]
  },
  {
   "cell_type": "markdown",
   "id": "24d66683",
   "metadata": {},
   "source": [
    "`__init__.py` marks a directory as a Python package. It can also contain package-level variables or initialization code."
   ]
  },
  {
   "cell_type": "code",
   "execution_count": 1,
   "id": "709ee630",
   "metadata": {},
   "outputs": [
    {
     "name": "stdout",
     "output_type": "stream",
     "text": [
      "mypackage initialized\n"
     ]
    }
   ],
   "source": [
    "# mypackage/__init__.py\n",
    "print(\"mypackage initialized\")"
   ]
  },
  {
   "cell_type": "markdown",
   "id": "0fe0f5c6",
   "metadata": {},
   "source": [
    "## 5.4.4 Nested packages"
   ]
  },
  {
   "cell_type": "markdown",
   "id": "aa18934f",
   "metadata": {},
   "source": [
    "You can create subpackages by placing packages inside packages, each with their own `__init__.py`."
   ]
  },
  {
   "cell_type": "markdown",
   "id": "dade76b9",
   "metadata": {},
   "source": [
    "```\n",
    "mypackage/\n",
    "├── __init__.py\n",
    "└── subpackage/\n",
    "    ├── __init__.py\n",
    "    └── helpers.py\n",
    "```"
   ]
  }
 ],
 "metadata": {
  "kernelspec": {
   "display_name": "Python 3",
   "language": "python",
   "name": "python3"
  },
  "language_info": {
   "codemirror_mode": {
    "name": "ipython",
    "version": 3
   },
   "file_extension": ".py",
   "mimetype": "text/x-python",
   "name": "python",
   "nbconvert_exporter": "python",
   "pygments_lexer": "ipython3",
   "version": "3.10.0"
  }
 },
 "nbformat": 4,
 "nbformat_minor": 5
}
