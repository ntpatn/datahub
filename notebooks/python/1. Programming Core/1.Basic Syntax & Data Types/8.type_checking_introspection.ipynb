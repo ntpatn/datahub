{
 "cells": [
  {
   "cell_type": "markdown",
   "id": "0eced976",
   "metadata": {},
   "source": [
    "# 8. Type Checking & Introspection\n",
    "_This section includes examples of tools for inspecting Python objects._"
   ]
  },
  {
   "cell_type": "markdown",
   "id": "66bfe082",
   "metadata": {},
   "source": [
    "## 8.1 `type()` and `isinstance()`\n",
    "- `type(obj)` returns the object's type\n",
    "- `isinstance(obj, type)` checks if object is of a certain type"
   ]
  },
  {
   "cell_type": "code",
   "execution_count": null,
   "id": "5fc811cb",
   "metadata": {},
   "outputs": [],
   "source": [
    "x = 10\n",
    "print(type(x))\n",
    "print(isinstance(x, int))"
   ]
  },
  {
   "cell_type": "markdown",
   "id": "24b46b6f",
   "metadata": {},
   "source": [
    "## 8.2 Other Useful Built-ins\n",
    "- `id(obj)`: memory address\n",
    "- `dir(obj)`: list attributes/methods\n",
    "- `help(obj)`: documentation"
   ]
  },
  {
   "cell_type": "code",
   "execution_count": null,
   "id": "a4761702",
   "metadata": {},
   "outputs": [],
   "source": [
    "print(id(x))\n",
    "print(dir(x))\n",
    "# Uncomment below to see help in notebook\n",
    "# help(x)"
   ]
  }
 ],
 "metadata": {},
 "nbformat": 4,
 "nbformat_minor": 5
}
