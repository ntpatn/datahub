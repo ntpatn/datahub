{
 "cells": [
  {
   "cell_type": "markdown",
   "id": "0ec08b1b",
   "metadata": {},
   "source": [
    "# 4. Data Types - Primitive Types\n",
    "_This section includes basic Python data types with examples and type conversions._"
   ]
  },
  {
   "cell_type": "markdown",
   "id": "0b5be0c2",
   "metadata": {},
   "source": [
    "## 4.1 Common Built-in Types\n",
    "- `int`: whole numbers (e.g., 1, 100, -5)\n",
    "- `float`: decimal numbers (e.g., 3.14, -0.001)\n",
    "- `str`: text (e.g., 'hello', \"123\")\n",
    "- `bool`: boolean values (`True`, `False`)"
   ]
  },
  {
   "cell_type": "code",
   "execution_count": null,
   "id": "b9b881e6",
   "metadata": {},
   "outputs": [],
   "source": [
    "age = 30\n",
    "price = 19.99\n",
    "name = \"Alice\"\n",
    "is_active = True"
   ]
  },
  {
   "cell_type": "markdown",
   "id": "3176fc79",
   "metadata": {},
   "source": [
    "## 4.2 Type Checking\n",
    "- Use `type()` to see the type of any variable.\n",
    "- Use `isinstance()` to check type safely with inheritance support."
   ]
  },
  {
   "cell_type": "code",
   "execution_count": null,
   "id": "4b5d016c",
   "metadata": {},
   "outputs": [],
   "source": [
    "print(type(age))            # <class 'int'>\n",
    "print(isinstance(price, float))  # True"
   ]
  },
  {
   "cell_type": "markdown",
   "id": "cbc4f9ee",
   "metadata": {},
   "source": [
    "## 4.3 Type Conversion (Casting)\n",
    "- Use built-in functions to convert between types:\n",
    "  - `int()` to convert to integer\n",
    "  - `float()` to convert to float\n",
    "  - `str()` to convert to string\n",
    "  - `bool()` to convert to boolean"
   ]
  },
  {
   "cell_type": "code",
   "execution_count": null,
   "id": "3ef9353a",
   "metadata": {},
   "outputs": [],
   "source": [
    "int(\"123\")     # 123\n",
    "float(\"3.14\")  # 3.14\n",
    "str(42)        # '42'\n",
    "bool(0)        # False"
   ]
  },
  {
   "cell_type": "markdown",
   "id": "880e5b95",
   "metadata": {},
   "source": [
    "## 4.4 Common Pitfalls\n",
    "- `int('abc')` → raises `ValueError`\n",
    "- `float('')` → raises `ValueError`\n",
    "- `bool([])` → `False`, but `bool([0])` → `True`\n",
    "- `int(3.99)` → truncates to `3`, not rounded"
   ]
  },
  {
   "cell_type": "code",
   "execution_count": null,
   "id": "7fbee9fa",
   "metadata": {},
   "outputs": [],
   "source": [
    "try:\n",
    "    int(\"abc\")\n",
    "except ValueError as e:\n",
    "    print(\"Error:\", e)\n",
    "\n",
    "print(int(3.99))      # 3\n",
    "print(bool([]))       # False\n",
    "print(bool([0]))      # True"
   ]
  }
 ],
 "metadata": {},
 "nbformat": 4,
 "nbformat_minor": 5
}
