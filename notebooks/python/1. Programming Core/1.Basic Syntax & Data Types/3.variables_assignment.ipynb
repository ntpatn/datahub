{
 "cells": [
  {
   "cell_type": "markdown",
   "id": "4722eb35",
   "metadata": {},
   "source": [
    "# 3. Variables & Assignment\n",
    "_This section includes explanations, best practices, and examples._"
   ]
  },
  {
   "cell_type": "markdown",
   "id": "37b14c08",
   "metadata": {},
   "source": [
    "## 3.1 Variable Declaration and Assignment\n",
    "- Variables are created upon assignment.\n",
    "- No type declaration needed (Python is dynamically typed).\n",
    "- Use `=` for assignment."
   ]
  },
  {
   "cell_type": "code",
   "execution_count": null,
   "id": "0c57333c",
   "metadata": {},
   "outputs": [],
   "source": [
    "x = 10\n",
    "y = 'hello'\n",
    "z = 3.14"
   ]
  },
  {
   "cell_type": "markdown",
   "id": "69c93f6c",
   "metadata": {},
   "source": [
    "## 3.2 Multiple Assignment\n",
    "- Assign multiple variables in a single line."
   ]
  },
  {
   "cell_type": "code",
   "execution_count": null,
   "id": "17f93dc0",
   "metadata": {},
   "outputs": [],
   "source": [
    "a, b, c = 1, 2, 3\n",
    "x = y = z = 0"
   ]
  },
  {
   "cell_type": "markdown",
   "id": "7ebe5e49",
   "metadata": {},
   "source": [
    "## 3.3 Swapping Variables\n",
    "- Swap without using a temporary variable."
   ]
  },
  {
   "cell_type": "code",
   "execution_count": null,
   "id": "01bfbd10",
   "metadata": {},
   "outputs": [],
   "source": [
    "x, y = 5, 10\n",
    "x, y = y, x  # Now x = 10, y = 5"
   ]
  },
  {
   "cell_type": "markdown",
   "id": "23ea7769",
   "metadata": {},
   "source": [
    "## 3.4 Variable Naming Best Practices\n",
    "- Use descriptive names like `score`, `user_age`.\n",
    "- Avoid single-letter names (except in loops).\n",
    "- Don't overwrite built-ins (`list`, `str`, etc)."
   ]
  },
  {
   "cell_type": "code",
   "execution_count": null,
   "id": "ed93ea5b",
   "metadata": {},
   "outputs": [],
   "source": [
    "list = [1, 2, 3]  # ❌ Avoid this"
   ]
  }
 ],
 "metadata": {},
 "nbformat": 4,
 "nbformat_minor": 5
}
