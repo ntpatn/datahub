{
 "cells": [
  {
   "cell_type": "markdown",
   "id": "3f3a4793",
   "metadata": {},
   "source": [
    "# 7. Operators\n",
    "_This section is presented in concise list format for quick reference._"
   ]
  },
  {
   "cell_type": "markdown",
   "id": "edf5f490",
   "metadata": {},
   "source": [
    "## 7.1 Arithmetic Operators\n",
    "- `+`, `-`, `*`, `/`, `//`, `%`, `**` for math operations"
   ]
  },
  {
   "cell_type": "code",
   "execution_count": null,
   "id": "2fbfa204",
   "metadata": {},
   "outputs": [],
   "source": [
    "a = 5\n",
    "b = 2\n",
    "print(a + b, a // b, a ** b)"
   ]
  },
  {
   "cell_type": "markdown",
   "id": "c3762d92",
   "metadata": {},
   "source": [
    "## 7.2 Comparison Operators\n",
    "- `==`, `!=`, `>`, `<`, `>=`, `<=` to compare values"
   ]
  },
  {
   "cell_type": "code",
   "execution_count": null,
   "id": "76cc6432",
   "metadata": {},
   "outputs": [],
   "source": [
    "print(a == b, a >= b)"
   ]
  },
  {
   "cell_type": "markdown",
   "id": "7ce8b992",
   "metadata": {},
   "source": [
    "## 7.3 Logical Operators\n",
    "- `and`, `or`, `not` for combining conditions"
   ]
  },
  {
   "cell_type": "code",
   "execution_count": null,
   "id": "bddaf992",
   "metadata": {},
   "outputs": [],
   "source": [
    "print(True and False)\n",
    "print(not True)"
   ]
  },
  {
   "cell_type": "markdown",
   "id": "137243bb",
   "metadata": {},
   "source": [
    "## 7.4 Assignment Operators\n",
    "- `=`, `+=`, `-=`, `*=`, `/=`, etc. for updating values"
   ]
  },
  {
   "cell_type": "code",
   "execution_count": null,
   "id": "3722b9d0",
   "metadata": {},
   "outputs": [],
   "source": [
    "x = 10\n",
    "x += 5\n",
    "print(x)"
   ]
  }
 ],
 "metadata": {},
 "nbformat": 4,
 "nbformat_minor": 5
}
