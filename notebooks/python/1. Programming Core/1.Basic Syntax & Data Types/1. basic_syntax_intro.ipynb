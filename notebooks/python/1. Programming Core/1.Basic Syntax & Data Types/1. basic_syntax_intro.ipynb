{
 "cells": [
  {
   "cell_type": "markdown",
   "id": "674713db",
   "metadata": {},
   "source": [
    "# 1. Introduction to Python Syntax"
   ]
  },
  {
   "cell_type": "markdown",
   "id": "a6c54beb",
   "metadata": {},
   "source": [
    "## 1.1 Code Blocks & Indentation\n",
    "- Python uses **indentation** to define code blocks (e.g., in `if`, `for`, `def`, `class`).\n",
    "- Standard practice is to use **4 spaces** (avoid mixing tabs and spaces).\n",
    "- No `{}` or `begin/end` blocks like in other languages."
   ]
  },
  {
   "cell_type": "code",
   "execution_count": null,
   "id": "7ab89cf8",
   "metadata": {},
   "outputs": [],
   "source": [
    "def greet(name):\n",
    "    print(f\"Hello, {name}\")\n",
    "    print(\"Welcome to Python!\")\n",
    "\n",
    "print(\"Outside the function\")"
   ]
  },
  {
   "cell_type": "markdown",
   "id": "1d3768e7",
   "metadata": {},
   "source": [
    "**Common mistake:**"
   ]
  },
  {
   "cell_type": "code",
   "execution_count": null,
   "id": "f91dc3c4",
   "metadata": {},
   "outputs": [],
   "source": [
    "def oops():\n",
    "print(\"this will error\")  # ❌ Error: expected an indented block"
   ]
  },
  {
   "cell_type": "markdown",
   "id": "302f287c",
   "metadata": {},
   "source": [
    "## 1.2 Line Breaks & Statement End\n",
    "- No semicolon (`;`) needed to end lines (unlike C/Java).\n",
    "- You *can* use semicolons to separate multiple statements on one line, but it is discouraged."
   ]
  },
  {
   "cell_type": "code",
   "execution_count": null,
   "id": "4e0a5a7f",
   "metadata": {},
   "outputs": [],
   "source": [
    "x = 1; y = 2  # Valid but not recommended"
   ]
  },
  {
   "cell_type": "markdown",
   "id": "580954ea",
   "metadata": {},
   "source": [
    "- Use backslash (`\\`) or enclosing brackets (`()`, `[]`, `{}`) to break long lines."
   ]
  },
  {
   "cell_type": "code",
   "execution_count": null,
   "id": "bf6b6e7b",
   "metadata": {},
   "outputs": [],
   "source": [
    "total = 1 + 2 + 3 + \\\n",
    "        4 + 5 + 6\n",
    "\n",
    "numbers = [\n",
    "    1, 2, 3,\n",
    "    4, 5, 6\n",
    "]"
   ]
  },
  {
   "cell_type": "markdown",
   "id": "6e2c32a6",
   "metadata": {},
   "source": [
    "## 1.3 Comments\n",
    "- Use `#` for single-line comments.\n",
    "- Use triple quotes (`'''` or `\"\"\"`) for multi-line comments or docstrings."
   ]
  },
  {
   "cell_type": "code",
   "execution_count": null,
   "id": "de1bcc5e",
   "metadata": {},
   "outputs": [],
   "source": [
    "# This is a comment\n",
    "\n",
    "def square(x):\n",
    "    \"\"\"Return square of x\"\"\"\n",
    "    return x * x"
   ]
  },
  {
   "cell_type": "markdown",
   "id": "8c1b195e",
   "metadata": {},
   "source": [
    "## 1.4 Encoding (optional but useful)\n",
    "- Python 3 uses UTF-8 by default.\n",
    "- You may declare encoding explicitly for compatibility."
   ]
  },
  {
   "cell_type": "code",
   "execution_count": null,
   "id": "f46f10df",
   "metadata": {},
   "outputs": [],
   "source": [
    "# -*- coding: utf-8 -*-"
   ]
  }
 ],
 "metadata": {},
 "nbformat": 4,
 "nbformat_minor": 5
}
