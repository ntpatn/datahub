{
 "cells": [
  {
   "cell_type": "markdown",
   "id": "9fd1d8ab",
   "metadata": {},
   "source": [
    "# 5. Type Conversion & Casting\n",
    "_This section includes explanations, examples, and common pitfalls._"
   ]
  },
  {
   "cell_type": "markdown",
   "id": "2574d52e",
   "metadata": {},
   "source": [
    "## 5.1 Implicit vs Explicit Conversion\n",
    "- **Implicit**: Python automatically converts types when safe (e.g., `int + float → float`).\n",
    "- **Explicit**: Use functions like `int()`, `float()`, `str()`, `bool()` to manually cast types."
   ]
  },
  {
   "cell_type": "code",
   "execution_count": null,
   "id": "69450286",
   "metadata": {},
   "outputs": [],
   "source": [
    "x = 10      # int\n",
    "y = 3.0     # float\n",
    "z = x + y   # float (implicit conversion)\n",
    "print(z)"
   ]
  },
  {
   "cell_type": "code",
   "execution_count": null,
   "id": "efa1ce60",
   "metadata": {},
   "outputs": [],
   "source": [
    "int(\"123\")     # 123\n",
    "float(\"3.14\")  # 3.14\n",
    "str(42)        # '42'\n",
    "bool(0)        # False"
   ]
  },
  {
   "cell_type": "markdown",
   "id": "03e12313",
   "metadata": {},
   "source": [
    "## 5.2 Common Pitfalls\n",
    "- `int('abc')` → raises `ValueError`\n",
    "- `float('')` → raises `ValueError`\n",
    "- `bool([])` → returns `False`, `bool([0])` → `True`\n",
    "- `int(3.99)` → truncated to `3`, not rounded"
   ]
  },
  {
   "cell_type": "code",
   "execution_count": null,
   "id": "466673d3",
   "metadata": {},
   "outputs": [],
   "source": [
    "try:\n",
    "    int(\"abc\")\n",
    "except ValueError as e:\n",
    "    print(\"Error:\", e)\n",
    "\n",
    "print(int(3.99))      # 3\n",
    "print(bool([]))       # False\n",
    "print(bool([0]))      # True"
   ]
  }
 ],
 "metadata": {},
 "nbformat": 4,
 "nbformat_minor": 5
}
