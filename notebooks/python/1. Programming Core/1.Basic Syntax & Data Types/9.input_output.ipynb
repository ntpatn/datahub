{
 "cells": [
  {
   "cell_type": "markdown",
   "id": "ce3b1906",
   "metadata": {},
   "source": [
    "# 9. Input / Output\n",
    "_This section includes simple techniques for user input and formatted output._"
   ]
  },
  {
   "cell_type": "markdown",
   "id": "d90cd38d",
   "metadata": {},
   "source": [
    "## 9.1 Input from User\n",
    "- `input()` reads a string from the user."
   ]
  },
  {
   "cell_type": "code",
   "execution_count": null,
   "id": "9789143d",
   "metadata": {},
   "outputs": [],
   "source": [
    "name = input(\"Enter your name: \")\n",
    "print(\"Hello,\", name)"
   ]
  },
  {
   "cell_type": "markdown",
   "id": "81036dfe",
   "metadata": {},
   "source": [
    "## 9.2 Output Formatting\n",
    "- `print()` supports f-strings for inline formatting"
   ]
  },
  {
   "cell_type": "code",
   "execution_count": null,
   "id": "8bccc1df",
   "metadata": {},
   "outputs": [],
   "source": [
    "x = 3.14159\n",
    "print(f\"Value of pi is {x:.2f}\")"
   ]
  }
 ],
 "metadata": {},
 "nbformat": 4,
 "nbformat_minor": 5
}
