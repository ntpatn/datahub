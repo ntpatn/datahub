{
 "cells": [
  {
   "cell_type": "markdown",
   "id": "4b430277",
   "metadata": {},
   "source": [
    "# 6. None Type & Nullability"
   ]
  },
  {
   "cell_type": "markdown",
   "id": "f29ed1f5",
   "metadata": {},
   "source": [
    "## 6.1 What is `None`\n",
    "- `None` represents the absence of a value.\n",
    "- It is an object of `NoneType`."
   ]
  },
  {
   "cell_type": "code",
   "execution_count": null,
   "id": "2163c9bf",
   "metadata": {},
   "outputs": [],
   "source": [
    "x = None\n",
    "print(type(x))  # <class 'NoneType'>"
   ]
  },
  {
   "cell_type": "markdown",
   "id": "51e57046",
   "metadata": {},
   "source": [
    "## 6.2 `is` vs `==`\n",
    "- Use `is` to check identity (`x is None`)\n",
    "- Use `==` to check equality (less preferred for `None`)"
   ]
  },
  {
   "cell_type": "code",
   "execution_count": null,
   "id": "794ca970",
   "metadata": {},
   "outputs": [],
   "source": [
    "if x is None:\n",
    "    print(\"x has no value\")"
   ]
  }
 ],
 "metadata": {},
 "nbformat": 4,
 "nbformat_minor": 5
}
