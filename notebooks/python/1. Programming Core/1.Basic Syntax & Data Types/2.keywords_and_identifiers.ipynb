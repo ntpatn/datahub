{
 "cells": [
  {
   "cell_type": "markdown",
   "id": "1c999a42",
   "metadata": {},
   "source": [
    "# 2. Keywords & Identifiers"
   ]
  },
  {
   "cell_type": "markdown",
   "id": "70686b5d",
   "metadata": {},
   "source": [
    "## 2.1 Python Keywords\n",
    "Python has a set of reserved words that cannot be used as identifiers (variable, function, or class names). These are known as **keywords**."
   ]
  },
  {
   "cell_type": "code",
   "execution_count": 1,
   "id": "684acb39",
   "metadata": {},
   "outputs": [
    {
     "name": "stdout",
     "output_type": "stream",
     "text": [
      "['False', 'None', 'True', 'and', 'as', 'assert', 'async', 'await', 'break', 'class', 'continue', 'def', 'del', 'elif', 'else', 'except', 'finally', 'for', 'from', 'global', 'if', 'import', 'in', 'is', 'lambda', 'nonlocal', 'not', 'or', 'pass', 'raise', 'return', 'try', 'while', 'with', 'yield']\n"
     ]
    }
   ],
   "source": [
    "import keyword\n",
    "print(keyword.kwlist)"
   ]
  },
  {
   "cell_type": "markdown",
   "id": "6fc3ce22",
   "metadata": {},
   "source": [
    "### Notes:\n",
    "- Keywords are case-sensitive.\n",
    "- Attempting to use them as variable names will raise a `SyntaxError`."
   ]
  },
  {
   "cell_type": "code",
   "execution_count": null,
   "id": "5150f541",
   "metadata": {},
   "outputs": [],
   "source": [
    "class = 'Physics'  # ❌ SyntaxError: invalid syntax"
   ]
  },
  {
   "cell_type": "markdown",
   "id": "a04a705a",
   "metadata": {},
   "source": [
    "## 2.2 Naming Rules for Identifiers\n",
    "An **identifier** is the name used to identify a variable, function, class, module, or object.\n",
    "\n",
    "### Rules:\n",
    "- Must start with a letter (A–Z, a–z) or an underscore (_)\n",
    "- Followed by letters, digits (0–9), or underscores\n",
    "- Cannot be a keyword\n",
    "- Case-sensitive (`data` and `Data` are different identifiers)"
   ]
  },
  {
   "cell_type": "code",
   "execution_count": null,
   "id": "66d897ab",
   "metadata": {},
   "outputs": [],
   "source": [
    "_hidden = True\n",
    "user1 = 'Alice'\n",
    "Data = 123  # valid\n",
    "print(_hidden, user1, Data)"
   ]
  },
  {
   "cell_type": "markdown",
   "id": "8d5fadda",
   "metadata": {},
   "source": [
    "## 2.3 Naming Conventions (PEP 8)\n",
    "While Python does not enforce naming style, it's good practice to follow the conventions in [PEP 8](https://peps.python.org/pep-0008/):\n",
    "\n",
    "- `snake_case` for variables and functions\n",
    "- `CamelCase` for class names\n",
    "- `ALL_CAPS` for constants\n",
    "- Avoid starting variable names with single or double underscores unless necessary"
   ]
  },
  {
   "cell_type": "code",
   "execution_count": null,
   "id": "290cf2f0",
   "metadata": {},
   "outputs": [],
   "source": [
    "def calculate_area():\n",
    "    pass\n",
    "\n",
    "PI = 3.14159\n",
    "\n",
    "class CircleShape:\n",
    "    pass"
   ]
  },
  {
   "cell_type": "markdown",
   "id": "e473e472",
   "metadata": {},
   "source": [
    "## 2.4 Best Practices\n",
    "- Use descriptive names (`score` instead of `s`)\n",
    "- Avoid misleading names (`l`, `O`, `I`) that look like numbers or other characters\n",
    "- Use `_` for unused variables (e.g., in unpacking)"
   ]
  },
  {
   "cell_type": "code",
   "execution_count": null,
   "id": "9550e58d",
   "metadata": {},
   "outputs": [],
   "source": [
    "x, _, z = (1, 2, 3)  # _ is commonly used for ignored values"
   ]
  }
 ],
 "metadata": {
  "kernelspec": {
   "display_name": "Python 3",
   "language": "python",
   "name": "python3"
  },
  "language_info": {
   "codemirror_mode": {
    "name": "ipython",
    "version": 3
   },
   "file_extension": ".py",
   "mimetype": "text/x-python",
   "name": "python",
   "nbconvert_exporter": "python",
   "pygments_lexer": "ipython3",
   "version": "3.10.0"
  }
 },
 "nbformat": 4,
 "nbformat_minor": 5
}
