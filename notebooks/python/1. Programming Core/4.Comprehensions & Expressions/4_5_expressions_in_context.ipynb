{
 "cells": [
  {
   "cell_type": "markdown",
   "id": "6e1b3c62",
   "metadata": {},
   "source": [
    "# 4.5 Expressions in Context"
   ]
  },
  {
   "cell_type": "markdown",
   "id": "8bf72332",
   "metadata": {},
   "source": [
    "Python provides several expressions that are commonly used inline to write compact and expressive logic. These include conditional expressions, unpacking, and the walrus operator."
   ]
  },
  {
   "cell_type": "markdown",
   "id": "35781b77",
   "metadata": {},
   "source": [
    "## 4.5.1 Ternary (conditional) expression"
   ]
  },
  {
   "cell_type": "markdown",
   "id": "9c496109",
   "metadata": {},
   "source": [
    "A shorthand for simple `if-else` expressions in a single line:\n",
    "`value_if_true if condition else value_if_false`"
   ]
  },
  {
   "cell_type": "code",
   "execution_count": null,
   "id": "fd4a3c03",
   "metadata": {},
   "outputs": [],
   "source": [
    "x = 5\n",
    "result = \"even\" if x % 2 == 0 else \"odd\"\n",
    "print(result)"
   ]
  },
  {
   "cell_type": "markdown",
   "id": "346179f0",
   "metadata": {},
   "source": [
    "## 4.5.2 Unpacking expressions"
   ]
  },
  {
   "cell_type": "markdown",
   "id": "4ce8cf72",
   "metadata": {},
   "source": [
    "Unpacking allows you to assign multiple variables at once from a tuple, list, or iterable."
   ]
  },
  {
   "cell_type": "code",
   "execution_count": null,
   "id": "0e2d596b",
   "metadata": {},
   "outputs": [],
   "source": [
    "a, b = [1, 2]\n",
    "print(a, b)"
   ]
  },
  {
   "cell_type": "markdown",
   "id": "2199c3ad",
   "metadata": {},
   "source": [
    "## 4.5.3 Walrus operator `:=` (Python 3.8+)"
   ]
  },
  {
   "cell_type": "markdown",
   "id": "c5eb3d75",
   "metadata": {},
   "source": [
    "The walrus operator assigns a value to a variable as part of an expression.\n",
    "Useful for combining assignment and condition in one line."
   ]
  },
  {
   "cell_type": "code",
   "execution_count": null,
   "id": "21b5f093",
   "metadata": {},
   "outputs": [],
   "source": [
    "if (n := len(\"hello\")) > 3:\n",
    "    print(f\"Length is {n}\")"
   ]
  }
 ],
 "metadata": {},
 "nbformat": 4,
 "nbformat_minor": 5
}
