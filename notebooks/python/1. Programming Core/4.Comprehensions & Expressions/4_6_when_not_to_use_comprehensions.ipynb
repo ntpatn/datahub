{
 "cells": [
  {
   "cell_type": "markdown",
   "id": "7c1f780d",
   "metadata": {},
   "source": [
    "# 4.6 When Not to Use Comprehensions"
   ]
  },
  {
   "cell_type": "markdown",
   "id": "fc44c393",
   "metadata": {},
   "source": [
    "Although comprehensions are powerful and concise, there are scenarios where using them can lead to unreadable or inefficient code."
   ]
  },
  {
   "cell_type": "markdown",
   "id": "dea72502",
   "metadata": {},
   "source": [
    "## 4.6.1 When logic becomes too complex"
   ]
  },
  {
   "cell_type": "markdown",
   "id": "2fe63c42",
   "metadata": {},
   "source": [
    "Nested loops, multiple conditions, or complex expressions make comprehensions harder to read. Prefer traditional loops for clarity."
   ]
  },
  {
   "cell_type": "code",
   "execution_count": null,
   "id": "8943f2cf",
   "metadata": {},
   "outputs": [],
   "source": [
    "matrix = [[i * j for j in range(5)] for i in range(5)]  # readable?\n",
    "print(matrix)"
   ]
  },
  {
   "cell_type": "markdown",
   "id": "d9e2e665",
   "metadata": {},
   "source": [
    "## 4.6.2 When side effects are involved"
   ]
  },
  {
   "cell_type": "markdown",
   "id": "020755f1",
   "metadata": {},
   "source": [
    "Comprehensions are meant for expressions, not actions. Avoid using them if you are printing, logging, or updating state."
   ]
  },
  {
   "cell_type": "code",
   "execution_count": null,
   "id": "53faaf78",
   "metadata": {},
   "outputs": [],
   "source": [
    "[print(x) for x in range(3)]  # avoid"
   ]
  },
  {
   "cell_type": "markdown",
   "id": "2a04fc14",
   "metadata": {},
   "source": [
    "## 4.6.3 When memory or performance matters"
   ]
  },
  {
   "cell_type": "markdown",
   "id": "90e7e64c",
   "metadata": {},
   "source": [
    "List comprehensions create the full list in memory. If you don’t need all the items at once, use generator expressions instead."
   ]
  },
  {
   "cell_type": "code",
   "execution_count": null,
   "id": "f0dc6f9f",
   "metadata": {},
   "outputs": [],
   "source": [
    "squares = (x * x for x in range(10**6))  # use with sum(), any(), etc."
   ]
  }
 ],
 "metadata": {},
 "nbformat": 4,
 "nbformat_minor": 5
}
