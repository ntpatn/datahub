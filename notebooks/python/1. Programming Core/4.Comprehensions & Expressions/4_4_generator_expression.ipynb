{
 "cells": [
  {
   "cell_type": "markdown",
   "id": "0548acb0",
   "metadata": {},
   "source": [
    "# 4.4 Generator Expression"
   ]
  },
  {
   "cell_type": "markdown",
   "id": "05f4b957",
   "metadata": {},
   "source": [
    "Generator expressions are similar to list comprehensions but use parentheses instead of square brackets. They return a generator object that yields items one at a time, making them more memory-efficient for large or infinite sequences."
   ]
  },
  {
   "cell_type": "markdown",
   "id": "5677277a",
   "metadata": {},
   "source": [
    "## 4.4.1 Basic usage"
   ]
  },
  {
   "cell_type": "code",
   "execution_count": null,
   "id": "ec4a71c6",
   "metadata": {},
   "outputs": [],
   "source": [
    "squares = (x * x for x in range(5))\n",
    "for val in squares:\n",
    "    print(val)"
   ]
  },
  {
   "cell_type": "markdown",
   "id": "e4fed7f8",
   "metadata": {},
   "source": [
    "## 4.4.2 Using with built-in functions"
   ]
  },
  {
   "cell_type": "markdown",
   "id": "f0661bc7",
   "metadata": {},
   "source": [
    "Generators are often passed to functions like `sum()`, `any()`, and `all()`."
   ]
  },
  {
   "cell_type": "code",
   "execution_count": null,
   "id": "c7d69e50",
   "metadata": {},
   "outputs": [],
   "source": [
    "nums = range(5)\n",
    "print(sum(x * x for x in nums))"
   ]
  },
  {
   "cell_type": "code",
   "execution_count": null,
   "id": "59f9c6ed",
   "metadata": {},
   "outputs": [],
   "source": [
    "flags = [False, False, True]\n",
    "print(any(flag for flag in flags))\n",
    "print(all(flag for flag in flags))"
   ]
  },
  {
   "cell_type": "markdown",
   "id": "de355f09",
   "metadata": {},
   "source": [
    "## 4.4.3 Comparison with list comprehension"
   ]
  },
  {
   "cell_type": "markdown",
   "id": "0c3bca55",
   "metadata": {},
   "source": [
    "- Generator: uses less memory, evaluated lazily\n",
    "- List comprehension: uses more memory, evaluated eagerly\n",
    "\n",
    "Use generators when working with large datasets or streaming data."
   ]
  },
  {
   "cell_type": "code",
   "execution_count": null,
   "id": "56b52355",
   "metadata": {},
   "outputs": [],
   "source": [
    "import sys\n",
    "list_comp = [x * 2 for x in range(1000)]\n",
    "gen_expr = (x * 2 for x in range(1000))\n",
    "\n",
    "print(\"List comprehension:\", sys.getsizeof(list_comp))\n",
    "print(\"Generator expression:\", sys.getsizeof(gen_expr))"
   ]
  }
 ],
 "metadata": {},
 "nbformat": 4,
 "nbformat_minor": 5
}
