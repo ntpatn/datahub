{
 "cells": [
  {
   "cell_type": "markdown",
   "id": "f3b748bb",
   "metadata": {},
   "source": [
    "# 4.3 Set Comprehension"
   ]
  },
  {
   "cell_type": "markdown",
   "id": "92b953a2",
   "metadata": {},
   "source": [
    "Set comprehensions allow you to generate a set using a concise syntax. Sets automatically remove duplicates, and comprehensions make it easier to build them from existing iterables."
   ]
  },
  {
   "cell_type": "markdown",
   "id": "74470b65",
   "metadata": {},
   "source": [
    "## 4.3.1 Basic usage"
   ]
  },
  {
   "cell_type": "markdown",
   "id": "59f4ca46",
   "metadata": {},
   "source": [
    "The syntax is:\n",
    "`{expression for item in iterable}`"
   ]
  },
  {
   "cell_type": "code",
   "execution_count": null,
   "id": "794f4fe6",
   "metadata": {},
   "outputs": [],
   "source": [
    "unique_lengths = {len(word) for word in [\"apple\", \"banana\", \"pear\"]}\n",
    "print(unique_lengths)"
   ]
  },
  {
   "cell_type": "markdown",
   "id": "97dbb1fc",
   "metadata": {},
   "source": [
    "## 4.3.2 With filtering condition"
   ]
  },
  {
   "cell_type": "markdown",
   "id": "24e5006b",
   "metadata": {},
   "source": [
    "You can filter which values are included in the set using an `if` clause."
   ]
  },
  {
   "cell_type": "code",
   "execution_count": null,
   "id": "a69e1939",
   "metadata": {},
   "outputs": [],
   "source": [
    "unique_even_lengths = {len(word) for word in [\"apple\", \"banana\", \"pear\"] if len(word) % 2 == 0}\n",
    "print(unique_even_lengths)"
   ]
  },
  {
   "cell_type": "markdown",
   "id": "951a1892",
   "metadata": {},
   "source": [
    "## 4.3.3 Removing duplicates"
   ]
  },
  {
   "cell_type": "markdown",
   "id": "b5a54f6e",
   "metadata": {},
   "source": [
    "Set comprehension can be used to eliminate duplicates from a list."
   ]
  },
  {
   "cell_type": "code",
   "execution_count": null,
   "id": "4edc172c",
   "metadata": {},
   "outputs": [],
   "source": [
    "numbers = [1, 2, 2, 3, 4, 4, 5]\n",
    "unique = {n for n in numbers}\n",
    "print(unique)"
   ]
  }
 ],
 "metadata": {},
 "nbformat": 4,
 "nbformat_minor": 5
}
