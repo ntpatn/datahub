{
 "cells": [
  {
   "cell_type": "markdown",
   "id": "01077a9e",
   "metadata": {},
   "source": [
    "# 4.2 Dictionary Comprehension"
   ]
  },
  {
   "cell_type": "markdown",
   "id": "c1860ea6",
   "metadata": {},
   "source": [
    "Dictionary comprehensions allow you to construct key-value pairs using a concise syntax, similar to list comprehensions."
   ]
  },
  {
   "cell_type": "markdown",
   "id": "588d7e84",
   "metadata": {},
   "source": [
    "## 4.2.1 Basic usage"
   ]
  },
  {
   "cell_type": "markdown",
   "id": "5d519368",
   "metadata": {},
   "source": [
    "The syntax is:\n",
    "`{key_expr: value_expr for item in iterable}`"
   ]
  },
  {
   "cell_type": "code",
   "execution_count": null,
   "id": "6a12a4d8",
   "metadata": {},
   "outputs": [],
   "source": [
    "squares = {x: x ** 2 for x in range(5)}\n",
    "print(squares)"
   ]
  },
  {
   "cell_type": "markdown",
   "id": "1705b4b6",
   "metadata": {},
   "source": [
    "## 4.2.2 With filtering condition"
   ]
  },
  {
   "cell_type": "markdown",
   "id": "0553b738",
   "metadata": {},
   "source": [
    "You can add an `if` clause to filter which items should be included in the dictionary."
   ]
  },
  {
   "cell_type": "code",
   "execution_count": null,
   "id": "37e4f0ef",
   "metadata": {},
   "outputs": [],
   "source": [
    "even_squares = {x: x ** 2 for x in range(10) if x % 2 == 0}\n",
    "print(even_squares)"
   ]
  },
  {
   "cell_type": "markdown",
   "id": "aff8e069",
   "metadata": {},
   "source": [
    "## 4.2.3 From list of tuples"
   ]
  },
  {
   "cell_type": "markdown",
   "id": "a2510ca0",
   "metadata": {},
   "source": [
    "You can convert a list of pairs into a dictionary using comprehension."
   ]
  },
  {
   "cell_type": "code",
   "execution_count": 1,
   "id": "198e5f66",
   "metadata": {},
   "outputs": [
    {
     "name": "stdout",
     "output_type": "stream",
     "text": [
      "{'a': 1, 'b': 2, 'c': 3}\n"
     ]
    }
   ],
   "source": [
    "pairs = [(\"a\", 1), (\"b\", 2), (\"c\", 3)]\n",
    "d = {k: v for k, v in pairs}\n",
    "print(d)"
   ]
  },
  {
   "cell_type": "code",
   "execution_count": null,
   "id": "b09565ae",
   "metadata": {},
   "outputs": [],
   "source": []
  }
 ],
 "metadata": {
  "kernelspec": {
   "display_name": "venv",
   "language": "python",
   "name": "python3"
  },
  "language_info": {
   "codemirror_mode": {
    "name": "ipython",
    "version": 3
   },
   "file_extension": ".py",
   "mimetype": "text/x-python",
   "name": "python",
   "nbconvert_exporter": "python",
   "pygments_lexer": "ipython3",
   "version": "3.10.0"
  }
 },
 "nbformat": 4,
 "nbformat_minor": 5
}
