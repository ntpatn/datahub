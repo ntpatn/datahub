{
 "cells": [
  {
   "cell_type": "markdown",
   "id": "6167f01d",
   "metadata": {},
   "source": [
    "# 4.1 List Comprehension"
   ]
  },
  {
   "cell_type": "markdown",
   "id": "1e37ec8b",
   "metadata": {},
   "source": [
    "List comprehensions provide a compact syntax for generating lists based on existing iterables. They are faster and more expressive than traditional loops for simple transformations and filters."
   ]
  },
  {
   "cell_type": "markdown",
   "id": "d88774c0",
   "metadata": {},
   "source": [
    "## 4.1.1 Basic usage"
   ]
  },
  {
   "cell_type": "markdown",
   "id": "9a0e00a7",
   "metadata": {},
   "source": [
    "The simplest form of a list comprehension looks like:\n",
    "`[expression for item in iterable]`"
   ]
  },
  {
   "cell_type": "code",
   "execution_count": null,
   "id": "32b80fa3",
   "metadata": {},
   "outputs": [],
   "source": [
    "squares = [x * x for x in range(5)]\n",
    "print(squares)"
   ]
  },
  {
   "cell_type": "markdown",
   "id": "071c27f5",
   "metadata": {},
   "source": [
    "## 4.1.2 With filtering condition"
   ]
  },
  {
   "cell_type": "markdown",
   "id": "afb8db0d",
   "metadata": {},
   "source": [
    "You can add an `if` condition to filter which elements to include."
   ]
  },
  {
   "cell_type": "code",
   "execution_count": null,
   "id": "e7947100",
   "metadata": {},
   "outputs": [],
   "source": [
    "evens = [x for x in range(10) if x % 2 == 0]\n",
    "print(evens)"
   ]
  },
  {
   "cell_type": "markdown",
   "id": "176ecc86",
   "metadata": {},
   "source": [
    "## 4.1.3 With inline if/else"
   ]
  },
  {
   "cell_type": "markdown",
   "id": "53156e50",
   "metadata": {},
   "source": [
    "You can include a conditional expression in the output part:\n",
    "`[value_if_true if condition else value_if_false for item in iterable]`"
   ]
  },
  {
   "cell_type": "code",
   "execution_count": null,
   "id": "2def79e8",
   "metadata": {},
   "outputs": [],
   "source": [
    "labels = [\"even\" if x % 2 == 0 else \"odd\" for x in range(5)]\n",
    "print(labels)"
   ]
  },
  {
   "cell_type": "markdown",
   "id": "6b57ea65",
   "metadata": {},
   "source": [
    "## 4.1.4 Nested list comprehension"
   ]
  },
  {
   "cell_type": "markdown",
   "id": "e3abc7dd",
   "metadata": {},
   "source": [
    "List comprehensions can be nested to flatten or generate multi-dimensional lists."
   ]
  },
  {
   "cell_type": "code",
   "execution_count": null,
   "id": "1393cf7d",
   "metadata": {},
   "outputs": [],
   "source": [
    "matrix = [[i * j for j in range(3)] for i in range(3)]\n",
    "print(matrix)"
   ]
  },
  {
   "cell_type": "markdown",
   "id": "368e7a47",
   "metadata": {},
   "source": [
    "📌 **TIP:**\n",
    "Use list comprehensions for readability and performance — but avoid overusing them for deeply nested logic."
   ]
  }
 ],
 "metadata": {},
 "nbformat": 4,
 "nbformat_minor": 5
}
