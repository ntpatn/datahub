{
 "cells": [
  {
   "cell_type": "markdown",
   "id": "5f82235b",
   "metadata": {},
   "source": [
    "# 3.2 Positional vs Keyword Arguments"
   ]
  },
  {
   "cell_type": "markdown",
   "id": "ac359a34",
   "metadata": {},
   "source": [
    "Python functions allow arguments to be passed either by position or by name (keyword). Understanding the difference improves readability and reduces bugs."
   ]
  },
  {
   "cell_type": "markdown",
   "id": "cc08cc26",
   "metadata": {},
   "source": [
    "## 3.2.1 Positional arguments"
   ]
  },
  {
   "cell_type": "markdown",
   "id": "6cb6b014",
   "metadata": {},
   "source": [
    "Arguments are assigned based on their order in the function call."
   ]
  },
  {
   "cell_type": "code",
   "execution_count": null,
   "id": "d5fab561",
   "metadata": {},
   "outputs": [],
   "source": [
    "def describe_pet(animal, name):\n",
    "    print(f\"{name} is a {animal}.\")\n",
    "\n",
    "describe_pet(\"dog\", \"Rex\")"
   ]
  },
  {
   "cell_type": "markdown",
   "id": "1c31b48a",
   "metadata": {},
   "source": [
    "## 3.2.2 Keyword arguments"
   ]
  },
  {
   "cell_type": "markdown",
   "id": "e7be3e2e",
   "metadata": {},
   "source": [
    "Arguments can be passed using their parameter names, regardless of position."
   ]
  },
  {
   "cell_type": "code",
   "execution_count": null,
   "id": "c1c1c332",
   "metadata": {},
   "outputs": [],
   "source": [
    "describe_pet(name=\"Whiskers\", animal=\"cat\")"
   ]
  },
  {
   "cell_type": "markdown",
   "id": "c0d7174f",
   "metadata": {},
   "source": [
    "📌 **TIP:**\n",
    "Using keyword arguments improves clarity and makes the code more maintainable, especially with functions that have many parameters."
   ]
  },
  {
   "cell_type": "markdown",
   "id": "76bd8771",
   "metadata": {},
   "source": [
    "## 3.2.3 Default argument values"
   ]
  },
  {
   "cell_type": "markdown",
   "id": "7d10984e",
   "metadata": {},
   "source": [
    "You can assign default values to parameters. If not provided in the function call, the default is used."
   ]
  },
  {
   "cell_type": "code",
   "execution_count": null,
   "id": "42394b9e",
   "metadata": {},
   "outputs": [],
   "source": [
    "def greet(name, message=\"Hello\"):\n",
    "    print(f\"{message}, {name}!\")\n",
    "\n",
    "greet(\"Pat\")\n",
    "greet(\"Nam\", message=\"Hi\")"
   ]
  },
  {
   "cell_type": "markdown",
   "id": "eb545556",
   "metadata": {},
   "source": [
    "⚠️ **Caution:**\n",
    "Default values are evaluated only once. Avoid using mutable objects (like lists or dicts) as default values."
   ]
  },
  {
   "cell_type": "code",
   "execution_count": null,
   "id": "90a5c9b7",
   "metadata": {},
   "outputs": [],
   "source": [
    "def add_item(item, container=[]):\n",
    "    container.append(item)\n",
    "    return container\n",
    "\n",
    "print(add_item(\"apple\"))\n",
    "print(add_item(\"banana\"))  # Unexpected: ['apple', 'banana']"
   ]
  }
 ],
 "metadata": {},
 "nbformat": 4,
 "nbformat_minor": 5
}
