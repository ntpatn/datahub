{
 "cells": [
  {
   "cell_type": "markdown",
   "id": "a344440b",
   "metadata": {},
   "source": [
    "# 3.5 Lambda Functions"
   ]
  },
  {
   "cell_type": "markdown",
   "id": "a913c169",
   "metadata": {},
   "source": [
    "`lambda` functions are anonymous, one-line functions in Python. They're useful for simple operations and are often used as arguments to higher-order functions like `map`, `filter`, or `sorted`."
   ]
  },
  {
   "cell_type": "markdown",
   "id": "1f9aa620",
   "metadata": {},
   "source": [
    "## 3.5.1 Basic syntax"
   ]
  },
  {
   "cell_type": "markdown",
   "id": "409a7675",
   "metadata": {},
   "source": [
    "The general syntax is:\n",
    "```python\n",
    "lambda arguments: expression\n",
    "```"
   ]
  },
  {
   "cell_type": "code",
   "execution_count": null,
   "id": "2ec027e0",
   "metadata": {},
   "outputs": [],
   "source": [
    "square = lambda x: x * x\n",
    "print(square(5))"
   ]
  },
  {
   "cell_type": "markdown",
   "id": "1495cc52",
   "metadata": {},
   "source": [
    "## 3.5.2 Used in place (without assignment)"
   ]
  },
  {
   "cell_type": "markdown",
   "id": "a3d4ade8",
   "metadata": {},
   "source": [
    "Lambda functions can be used directly where a function is expected, without naming them."
   ]
  },
  {
   "cell_type": "code",
   "execution_count": null,
   "id": "c492ea56",
   "metadata": {},
   "outputs": [],
   "source": [
    "print((lambda x, y: x + y)(2, 3))"
   ]
  },
  {
   "cell_type": "markdown",
   "id": "b778f2ad",
   "metadata": {},
   "source": [
    "## 3.5.3 Lambda with built-in functions"
   ]
  },
  {
   "cell_type": "markdown",
   "id": "b4ee118b",
   "metadata": {},
   "source": [
    "Commonly used with `sorted()`, `map()`, and `filter()`."
   ]
  },
  {
   "cell_type": "code",
   "execution_count": null,
   "id": "f123dc73",
   "metadata": {},
   "outputs": [],
   "source": [
    "names = [\"Pat\", \"Alexander\", \"Nam\"]\n",
    "# Sort by length of names\n",
    "sorted_names = sorted(names, key=lambda name: len(name))\n",
    "print(sorted_names)"
   ]
  },
  {
   "cell_type": "code",
   "execution_count": null,
   "id": "1171c95d",
   "metadata": {},
   "outputs": [],
   "source": [
    "nums = [1, 2, 3, 4, 5]\n",
    "squares = list(map(lambda x: x ** 2, nums))\n",
    "print(squares)"
   ]
  },
  {
   "cell_type": "markdown",
   "id": "cf4aaf47",
   "metadata": {},
   "source": [
    "📌 **TIP:**\n",
    "Use `lambda` for **short and simple** logic. If a function is more than one line or needs documentation, use `def`."
   ]
  },
  {
   "cell_type": "markdown",
   "id": "a4076b34",
   "metadata": {},
   "source": [
    "⚠️ **Limitations:**\n",
    "- Only a single expression is allowed (no statements)\n",
    "- No assignment, loops, or conditionals (except in expression form)\n",
    "- Can be harder to debug and name in tracebacks"
   ]
  }
 ],
 "metadata": {},
 "nbformat": 4,
 "nbformat_minor": 5
}
