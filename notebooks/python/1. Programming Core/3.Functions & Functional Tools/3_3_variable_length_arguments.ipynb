{
 "cells": [
  {
   "cell_type": "markdown",
   "id": "b1c12215",
   "metadata": {},
   "source": [
    "# 3.3 Variable-Length Arguments"
   ]
  },
  {
   "cell_type": "markdown",
   "id": "d8ad249d",
   "metadata": {},
   "source": [
    "Python allows you to define functions that accept a variable number of arguments using `*args` and `**kwargs`. These are commonly used in flexible interfaces or decorators."
   ]
  },
  {
   "cell_type": "markdown",
   "id": "986b6976",
   "metadata": {},
   "source": [
    "## 3.3.1 *args"
   ]
  },
  {
   "cell_type": "markdown",
   "id": "64bde6c9",
   "metadata": {},
   "source": [
    "Use `*args` to collect extra **positional** arguments into a tuple."
   ]
  },
  {
   "cell_type": "code",
   "execution_count": null,
   "id": "66a8a553",
   "metadata": {},
   "outputs": [],
   "source": [
    "def print_args(*args):\n",
    "    for arg in args:\n",
    "        print(arg)\n",
    "\n",
    "print_args(\"apple\", \"banana\", \"cherry\")"
   ]
  },
  {
   "cell_type": "markdown",
   "id": "cf3a497b",
   "metadata": {},
   "source": [
    "📌 **TIP:**\n",
    "`*args` is useful when you want to forward multiple positional arguments to another function."
   ]
  },
  {
   "cell_type": "markdown",
   "id": "1c95e760",
   "metadata": {},
   "source": [
    "## 3.3.2 **kwargs"
   ]
  },
  {
   "cell_type": "markdown",
   "id": "5a41120b",
   "metadata": {},
   "source": [
    "Use `**kwargs` to collect extra **keyword** arguments into a dictionary."
   ]
  },
  {
   "cell_type": "code",
   "execution_count": null,
   "id": "54378234",
   "metadata": {},
   "outputs": [],
   "source": [
    "def print_kwargs(**kwargs):\n",
    "    for key, value in kwargs.items():\n",
    "        print(f\"{key} = {value}\")\n",
    "\n",
    "print_kwargs(fruit=\"apple\", color=\"red\")"
   ]
  },
  {
   "cell_type": "markdown",
   "id": "3cd11698",
   "metadata": {},
   "source": [
    "📌 **TIP:**\n",
    "`**kwargs` is great for functions that accept optional or configuration parameters."
   ]
  },
  {
   "cell_type": "markdown",
   "id": "6d589d0d",
   "metadata": {},
   "source": [
    "## 3.3.3 Combining *args and **kwargs"
   ]
  },
  {
   "cell_type": "markdown",
   "id": "16294c30",
   "metadata": {},
   "source": [
    "You can combine both in the same function, but `*args` must come before `**kwargs`."
   ]
  },
  {
   "cell_type": "code",
   "execution_count": null,
   "id": "05e86cb0",
   "metadata": {},
   "outputs": [],
   "source": [
    "def flexible(*args, **kwargs):\n",
    "    print(\"Positional:\", args)\n",
    "    print(\"Keyword:\", kwargs)\n",
    "\n",
    "flexible(1, 2, user=\"Pat\", role=\"admin\")"
   ]
  }
 ],
 "metadata": {},
 "nbformat": 4,
 "nbformat_minor": 5
}
