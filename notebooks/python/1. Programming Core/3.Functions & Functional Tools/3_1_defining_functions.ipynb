{
 "cells": [
  {
   "cell_type": "markdown",
   "id": "9499db03",
   "metadata": {},
   "source": [
    "# 3.1 Defining Functions"
   ]
  },
  {
   "cell_type": "markdown",
   "id": "9e1c26a2",
   "metadata": {},
   "source": [
    "Functions allow you to group a block of code into a reusable unit. They are essential for organizing logic, avoiding duplication, and improving readability."
   ]
  },
  {
   "cell_type": "markdown",
   "id": "aa3eb1e7",
   "metadata": {},
   "source": [
    "## 3.1.1 Basic function definition"
   ]
  },
  {
   "cell_type": "markdown",
   "id": "f5e9ed71",
   "metadata": {},
   "source": [
    "You define a function using the `def` keyword followed by the function name and parentheses."
   ]
  },
  {
   "cell_type": "code",
   "execution_count": null,
   "id": "6425f665",
   "metadata": {},
   "outputs": [],
   "source": [
    "def greet():\n",
    "    print(\"Hello!\")\n",
    "\n",
    "greet()"
   ]
  },
  {
   "cell_type": "markdown",
   "id": "1b30ce68",
   "metadata": {},
   "source": [
    "## 3.1.2 Function with parameters and return"
   ]
  },
  {
   "cell_type": "markdown",
   "id": "2b5e7b6e",
   "metadata": {},
   "source": [
    "Functions can accept input parameters and return a value using the `return` keyword."
   ]
  },
  {
   "cell_type": "code",
   "execution_count": null,
   "id": "15f6806e",
   "metadata": {},
   "outputs": [],
   "source": [
    "def add(a, b):\n",
    "    return a + b\n",
    "\n",
    "result = add(3, 5)\n",
    "print(result)"
   ]
  },
  {
   "cell_type": "markdown",
   "id": "730b9ac4",
   "metadata": {},
   "source": [
    "## 3.1.3 Docstrings"
   ]
  },
  {
   "cell_type": "markdown",
   "id": "b9dd2709",
   "metadata": {},
   "source": [
    "Use triple quotes (`\"\"\"`) after the function header to document what the function does."
   ]
  },
  {
   "cell_type": "markdown",
   "id": "86e637ac",
   "metadata": {},
   "source": [
    "Docstring formats\n",
    "- Google Style\n",
    "- Numpydoc\n",
    "- reStructuredText\n",
    "- EpyText"
   ]
  },
  {
   "cell_type": "code",
   "execution_count": null,
   "id": "92a28d32",
   "metadata": {},
   "outputs": [],
   "source": [
    "def multiply(a, b):\n",
    "    \"\"\"Returns the product of a and b.\"\"\"\n",
    "    return a * b"
   ]
  },
  {
   "cell_type": "markdown",
   "id": "b54aad9c",
   "metadata": {},
   "source": [
    "📌 **TIP:**\n",
    "Docstrings are important for clarity, documentation tools, and editor assistance (e.g., tooltips in VS Code or Jupyter)."
   ]
  },
  {
   "cell_type": "markdown",
   "id": "b087c064",
   "metadata": {},
   "source": [
    "## 3.1.4 Function without return"
   ]
  },
  {
   "cell_type": "markdown",
   "id": "c85f7df1",
   "metadata": {},
   "source": [
    "If a function does not explicitly return a value, it returns `None` by default."
   ]
  },
  {
   "cell_type": "code",
   "execution_count": null,
   "id": "75c3db71",
   "metadata": {},
   "outputs": [],
   "source": [
    "def print_greeting(name):\n",
    "    print(f\"Hello, {name}!\")\n",
    "\n",
    "value = print_greeting(\"Pat\")\n",
    "print(value)  # Output: None"
   ]
  }
 ],
 "metadata": {
  "language_info": {
   "name": "python"
  }
 },
 "nbformat": 4,
 "nbformat_minor": 5
}
