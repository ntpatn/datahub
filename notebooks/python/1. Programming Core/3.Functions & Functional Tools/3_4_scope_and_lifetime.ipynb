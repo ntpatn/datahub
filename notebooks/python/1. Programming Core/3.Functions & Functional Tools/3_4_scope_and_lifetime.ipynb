{
 "cells": [
  {
   "cell_type": "markdown",
   "id": "3e751925",
   "metadata": {},
   "source": [
    "# 3.4 Scope & Lifetime"
   ]
  },
  {
   "cell_type": "markdown",
   "id": "e09b32e1",
   "metadata": {},
   "source": [
    "Understanding variable **scope** and **lifetime** is essential in Python.\n",
    "- **Scope** defines where a variable can be accessed.\n",
    "- **Lifetime** refers to how long the variable exists in memory.\n",
    "\n",
    "Python uses the LEGB rule to resolve variable names:\n",
    "1. **Local** – names inside the current function\n",
    "2. **Enclosing** – names in enclosing functions (nested scope)\n",
    "3. **Global** – names in the top-level script or module\n",
    "4. **Built-in** – names in the built-in namespace (like `len`, `range`)"
   ]
  },
  {
   "cell_type": "markdown",
   "id": "bbe0872e",
   "metadata": {},
   "source": [
    "## 3.4.1 Local and Global Scope"
   ]
  },
  {
   "cell_type": "markdown",
   "id": "5243d0eb",
   "metadata": {},
   "source": [
    "Variables defined **inside a function** are local and exist only during that function call.\n",
    "Variables defined **outside any function** are global and accessible within functions (read-only unless declared `global`)."
   ]
  },
  {
   "cell_type": "code",
   "execution_count": null,
   "id": "a5550b4b",
   "metadata": {},
   "outputs": [],
   "source": [
    "# Example of local vs global scope\n",
    "x = 10  # global\n",
    "\n",
    "def show_scope():\n",
    "    x = 5  # local, shadows global x\n",
    "    print(\"Inside function:\", x)\n",
    "\n",
    "show_scope()\n",
    "print(\"Outside function:\", x)"
   ]
  },
  {
   "cell_type": "markdown",
   "id": "dce618ac",
   "metadata": {},
   "source": [
    "📌 **TIP:**\n",
    "If you assign a value to a variable inside a function, Python treats it as local **unless explicitly declared `global`.**"
   ]
  },
  {
   "cell_type": "markdown",
   "id": "a53bf50d",
   "metadata": {},
   "source": [
    "## 3.4.2 Modifying Global Variables"
   ]
  },
  {
   "cell_type": "markdown",
   "id": "f17d2573",
   "metadata": {},
   "source": [
    "To update a global variable from inside a function, use the `global` keyword."
   ]
  },
  {
   "cell_type": "code",
   "execution_count": null,
   "id": "6097c349",
   "metadata": {},
   "outputs": [],
   "source": [
    "count = 0\n",
    "\n",
    "def increment():\n",
    "    global count\n",
    "    count += 1\n",
    "\n",
    "increment()\n",
    "print(count)"
   ]
  },
  {
   "cell_type": "markdown",
   "id": "6985265d",
   "metadata": {},
   "source": [
    "⚠️ **Caution:**\n",
    "Use `global` sparingly — it breaks modularity and can make debugging harder."
   ]
  },
  {
   "cell_type": "markdown",
   "id": "b3e5c839",
   "metadata": {},
   "source": [
    "## 3.4.3 The `nonlocal` Keyword"
   ]
  },
  {
   "cell_type": "markdown",
   "id": "da5546cf",
   "metadata": {},
   "source": [
    "`nonlocal` lets you modify a variable from an **enclosing function scope**, not global.\n",
    "This is useful in closures, nested functions, and decorators."
   ]
  },
  {
   "cell_type": "code",
   "execution_count": 2,
   "id": "c9274c69",
   "metadata": {},
   "outputs": [
    {
     "name": "stdout",
     "output_type": "stream",
     "text": [
      "Hello\n"
     ]
    }
   ],
   "source": [
    "def outer():\n",
    "    msg = \"Hi\"\n",
    "    def inner():\n",
    "        nonlocal msg\n",
    "        msg = \"Hello\"\n",
    "    inner()\n",
    "    print(msg)\n",
    "\n",
    "outer()"
   ]
  },
  {
   "cell_type": "markdown",
   "id": "0a50aed6",
   "metadata": {},
   "source": [
    "📌 **TIP:**\n",
    "Use `nonlocal` when writing functions that retain state across calls (e.g. closures or stateful decorators)."
   ]
  },
  {
   "cell_type": "markdown",
   "id": "3720dbaa",
   "metadata": {},
   "source": [
    "## 3.4.4 Variable Lifetime"
   ]
  },
  {
   "cell_type": "markdown",
   "id": "228826b5",
   "metadata": {},
   "source": [
    "A variable's lifetime is tied to its scope:\n",
    "- Local variables are created when the function starts and destroyed when it ends.\n",
    "- Global variables live until the script ends or they're deleted."
   ]
  },
  {
   "cell_type": "code",
   "execution_count": 1,
   "id": "25506739",
   "metadata": {},
   "outputs": [
    {
     "name": "stdout",
     "output_type": "stream",
     "text": [
      "Inside function: 123\n"
     ]
    }
   ],
   "source": [
    "def create():\n",
    "    temp = 123  # only lives during this function call\n",
    "    print(\"Inside function:\", temp)\n",
    "\n",
    "create()\n",
    "# print(temp)  # Uncommenting this would cause NameError"
   ]
  },
  {
   "cell_type": "code",
   "execution_count": null,
   "id": "18a097bf",
   "metadata": {},
   "outputs": [],
   "source": []
  }
 ],
 "metadata": {
  "kernelspec": {
   "display_name": "venv",
   "language": "python",
   "name": "python3"
  },
  "language_info": {
   "codemirror_mode": {
    "name": "ipython",
    "version": 3
   },
   "file_extension": ".py",
   "mimetype": "text/x-python",
   "name": "python",
   "nbconvert_exporter": "python",
   "pygments_lexer": "ipython3",
   "version": "3.10.0"
  }
 },
 "nbformat": 4,
 "nbformat_minor": 5
}
