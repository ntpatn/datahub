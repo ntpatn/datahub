{
 "cells": [
  {
   "cell_type": "markdown",
   "id": "8207350b",
   "metadata": {},
   "source": [
    "# 6.5 Decorators as Contextual Logic (Optional)"
   ]
  },
  {
   "cell_type": "markdown",
   "id": "fb74c2ff",
   "metadata": {},
   "source": [
    "While decorators and context managers are separate features in Python, decorators can be used to inject setup/teardown behavior around functions, making them useful for contextual logic."
   ]
  },
  {
   "cell_type": "markdown",
   "id": "b53c94db",
   "metadata": {},
   "source": [
    "## 6.5.1 Basic decorator example"
   ]
  },
  {
   "cell_type": "markdown",
   "id": "2fe4acd0",
   "metadata": {},
   "source": [
    "A simple decorator that logs when a function starts and ends can provide contextual wrapping behavior."
   ]
  },
  {
   "cell_type": "code",
   "execution_count": null,
   "id": "93e5a875",
   "metadata": {},
   "outputs": [],
   "source": [
    "def log_calls(func):\n",
    "    def wrapper(*args, **kwargs):\n",
    "        print(\"Starting function\")\n",
    "        result = func(*args, **kwargs)\n",
    "        print(\"Ending function\")\n",
    "        return result\n",
    "    return wrapper\n",
    "\n",
    "@log_calls\n",
    "def process():\n",
    "    print(\"Processing...\")\n",
    "\n",
    "process()"
   ]
  },
  {
   "cell_type": "markdown",
   "id": "e85e8197",
   "metadata": {},
   "source": [
    "## 6.5.2 Combining decorators and context managers"
   ]
  },
  {
   "cell_type": "markdown",
   "id": "109ba11b",
   "metadata": {},
   "source": [
    "You can use a decorator to wrap logic and a context manager inside to handle resources or state."
   ]
  },
  {
   "cell_type": "code",
   "execution_count": 1,
   "id": "a2621f43",
   "metadata": {},
   "outputs": [
    {
     "name": "stdout",
     "output_type": "stream",
     "text": [
      "Enter scope\n",
      "Inside scoped block\n",
      "Exit scope\n"
     ]
    }
   ],
   "source": [
    "from contextlib import contextmanager\n",
    "\n",
    "@contextmanager\n",
    "def scoped():\n",
    "    print(\"Enter scope\")\n",
    "    yield\n",
    "    print(\"Exit scope\")\n",
    "\n",
    "def run():\n",
    "    with scoped():\n",
    "        print(\"Inside scoped block\")\n",
    "\n",
    "run()"
   ]
  },
  {
   "cell_type": "markdown",
   "id": "7e6c5e96",
   "metadata": {},
   "source": [
    "## 6.5.3 Use cases"
   ]
  },
  {
   "cell_type": "markdown",
   "id": "bcd8db70",
   "metadata": {},
   "source": [
    "- Logging\n",
    "- Benchmarking\n",
    "- Authorization and validation\n",
    "- Retry mechanisms"
   ]
  }
 ],
 "metadata": {
  "kernelspec": {
   "display_name": "venv",
   "language": "python",
   "name": "python3"
  },
  "language_info": {
   "codemirror_mode": {
    "name": "ipython",
    "version": 3
   },
   "file_extension": ".py",
   "mimetype": "text/x-python",
   "name": "python",
   "nbconvert_exporter": "python",
   "pygments_lexer": "ipython3",
   "version": "3.10.0"
  }
 },
 "nbformat": 4,
 "nbformat_minor": 5
}
