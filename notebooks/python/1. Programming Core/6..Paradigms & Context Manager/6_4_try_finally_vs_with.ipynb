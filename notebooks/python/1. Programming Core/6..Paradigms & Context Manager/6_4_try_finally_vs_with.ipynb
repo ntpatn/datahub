{
 "cells": [
  {
   "cell_type": "markdown",
   "id": "5b8c6f0a",
   "metadata": {},
   "source": [
    "# 6.4 `try/finally` vs `with`"
   ]
  },
  {
   "cell_type": "markdown",
   "id": "e8b7957a",
   "metadata": {},
   "source": [
    "Both `try/finally` and `with` are used to ensure cleanup of resources. However, `with` is more concise, less error-prone, and preferred for common patterns like file handling."
   ]
  },
  {
   "cell_type": "markdown",
   "id": "60dba7bc",
   "metadata": {},
   "source": [
    "## 6.4.1 Using `try/finally`"
   ]
  },
  {
   "cell_type": "markdown",
   "id": "8881276b",
   "metadata": {},
   "source": [
    "Manually managing resources with `try/finally` requires more lines of code and more room for mistakes."
   ]
  },
  {
   "cell_type": "code",
   "execution_count": null,
   "id": "415623f9",
   "metadata": {},
   "outputs": [],
   "source": [
    "f = open(\"example.txt\", \"w\")\n",
    "try:\n",
    "    f.write(\"data\")\n",
    "finally:\n",
    "    f.close()"
   ]
  },
  {
   "cell_type": "markdown",
   "id": "656eb2f6",
   "metadata": {},
   "source": [
    "## 6.4.2 Using `with` statement"
   ]
  },
  {
   "cell_type": "markdown",
   "id": "0be584d1",
   "metadata": {},
   "source": [
    "The `with` statement handles resource setup and cleanup automatically."
   ]
  },
  {
   "cell_type": "code",
   "execution_count": null,
   "id": "11011632",
   "metadata": {},
   "outputs": [],
   "source": [
    "with open(\"example.txt\", \"w\") as f:\n",
    "    f.write(\"data\")"
   ]
  },
  {
   "cell_type": "markdown",
   "id": "d5491f0b",
   "metadata": {},
   "source": [
    "## 6.4.3 When to prefer each"
   ]
  },
  {
   "cell_type": "markdown",
   "id": "55edb257",
   "metadata": {},
   "source": [
    "- Use `with` when supported: it's safer, cleaner, and avoids forgetting `close()` or `release()`\n",
    "- Use `try/finally` when more granular control is needed or when using APIs that don’t support context managers"
   ]
  }
 ],
 "metadata": {},
 "nbformat": 4,
 "nbformat_minor": 5
}
