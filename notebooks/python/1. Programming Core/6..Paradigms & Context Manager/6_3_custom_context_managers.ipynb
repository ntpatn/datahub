{
 "cells": [
  {
   "cell_type": "markdown",
   "id": "21675444",
   "metadata": {},
   "source": [
    "# 6.3 Creating Custom Context Managers"
   ]
  },
  {
   "cell_type": "markdown",
   "id": "58c57cc6",
   "metadata": {},
   "source": [
    "You can define your own context managers to manage resources or behavior using either a class with `__enter__`/`__exit__` methods or the `contextlib` module."
   ]
  },
  {
   "cell_type": "markdown",
   "id": "8fdebd79",
   "metadata": {},
   "source": [
    "## 6.3.1 Using class with `__enter__` and `__exit__`"
   ]
  },
  {
   "cell_type": "markdown",
   "id": "7ce1ba87",
   "metadata": {},
   "source": [
    "A class-based context manager must define two methods:"
   ]
  },
  {
   "cell_type": "code",
   "execution_count": null,
   "id": "2ba2d03b",
   "metadata": {},
   "outputs": [],
   "source": [
    "class Custom:\n",
    "    def __enter__(self):\n",
    "        print(\"Entering context\")\n",
    "        return self\n",
    "    def __exit__(self, exc_type, exc_value, traceback):\n",
    "        print(\"Exiting context\")\n",
    "\n",
    "with Custom():\n",
    "    print(\"Inside block\")"
   ]
  },
  {
   "cell_type": "markdown",
   "id": "261d5091",
   "metadata": {},
   "source": [
    "## 6.3.2 Using `contextlib.contextmanager`"
   ]
  },
  {
   "cell_type": "markdown",
   "id": "9121a733",
   "metadata": {},
   "source": [
    "You can also use a generator-based approach using `@contextmanager`."
   ]
  },
  {
   "cell_type": "code",
   "execution_count": null,
   "id": "b1bc6649",
   "metadata": {},
   "outputs": [],
   "source": [
    "from contextlib import contextmanager\n",
    "\n",
    "@contextmanager\n",
    "def managed():\n",
    "    print(\"Start\")\n",
    "    yield\n",
    "    print(\"End\")\n",
    "\n",
    "with managed():\n",
    "    print(\"Doing something\")"
   ]
  },
  {
   "cell_type": "markdown",
   "id": "33f30e42",
   "metadata": {},
   "source": [
    "## 6.3.3 Handling exceptions"
   ]
  },
  {
   "cell_type": "markdown",
   "id": "d4920dcd",
   "metadata": {},
   "source": [
    "You can manage errors using `try/except/finally` inside a custom context manager."
   ]
  },
  {
   "cell_type": "code",
   "execution_count": null,
   "id": "544a644e",
   "metadata": {},
   "outputs": [],
   "source": [
    "from contextlib import contextmanager\n",
    "\n",
    "@contextmanager\n",
    "def safe():\n",
    "    try:\n",
    "        print(\"Starting\")\n",
    "        yield\n",
    "    except Exception as e:\n",
    "        print(\"Handled error:\", e)\n",
    "    finally:\n",
    "        print(\"Cleanup\")\n",
    "\n",
    "with safe():\n",
    "    raise ValueError(\"Oops\")"
   ]
  }
 ],
 "metadata": {},
 "nbformat": 4,
 "nbformat_minor": 5
}
