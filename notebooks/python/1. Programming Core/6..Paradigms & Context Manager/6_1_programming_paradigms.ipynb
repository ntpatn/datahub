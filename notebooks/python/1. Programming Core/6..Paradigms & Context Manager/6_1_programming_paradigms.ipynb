{
 "cells": [
  {
   "cell_type": "markdown",
   "id": "3cfd468e",
   "metadata": {},
   "source": [
    "# 6.1 Programming Paradigms in Python"
   ]
  },
  {
   "cell_type": "markdown",
   "id": "b34efb10",
   "metadata": {},
   "source": [
    "Python supports multiple programming paradigms, allowing developers to choose the style that best fits a problem. The three most common paradigms in Python are procedural, object-oriented, and functional programming."
   ]
  },
  {
   "cell_type": "markdown",
   "id": "e9160d06",
   "metadata": {},
   "source": [
    "## 6.1.1 Procedural Programming"
   ]
  },
  {
   "cell_type": "markdown",
   "id": "0f114e4d",
   "metadata": {},
   "source": [
    "A straightforward approach where code is organized into procedures (functions) and runs top to bottom."
   ]
  },
  {
   "cell_type": "code",
   "execution_count": null,
   "id": "3bebe637",
   "metadata": {},
   "outputs": [],
   "source": [
    "def greet():\n",
    "    print(\"Hello\")\n",
    "\n",
    "greet()"
   ]
  },
  {
   "cell_type": "markdown",
   "id": "2a256afc",
   "metadata": {},
   "source": [
    "## 6.1.2 Object-Oriented Programming"
   ]
  },
  {
   "cell_type": "markdown",
   "id": "5cb289d5",
   "metadata": {},
   "source": [
    "Code is structured into classes and objects that encapsulate data and behavior together."
   ]
  },
  {
   "cell_type": "code",
   "execution_count": null,
   "id": "16eaa21a",
   "metadata": {},
   "outputs": [],
   "source": [
    "class Greeter:\n",
    "    def __init__(self, name):\n",
    "        self.name = name\n",
    "    def greet(self):\n",
    "        print(f\"Hello, {self.name}\")\n",
    "\n",
    "Greeter(\"Pat\").greet()"
   ]
  },
  {
   "cell_type": "markdown",
   "id": "838972a1",
   "metadata": {},
   "source": [
    "## 6.1.3 Functional Programming"
   ]
  },
  {
   "cell_type": "markdown",
   "id": "c6ff833b",
   "metadata": {},
   "source": [
    "Focuses on writing pure functions and avoiding mutable state. Common tools include `map()`, `filter()`, `reduce()`, and lambda expressions."
   ]
  },
  {
   "cell_type": "code",
   "execution_count": null,
   "id": "4454afab",
   "metadata": {},
   "outputs": [],
   "source": [
    "nums = [1, 2, 3, 4]\n",
    "squares = list(map(lambda x: x ** 2, nums))\n",
    "print(squares)"
   ]
  },
  {
   "cell_type": "markdown",
   "id": "99deaad3",
   "metadata": {},
   "source": [
    "📌 **TIP:**\n",
    "Python allows mixing paradigms — choose the best approach for your task."
   ]
  }
 ],
 "metadata": {},
 "nbformat": 4,
 "nbformat_minor": 5
}
