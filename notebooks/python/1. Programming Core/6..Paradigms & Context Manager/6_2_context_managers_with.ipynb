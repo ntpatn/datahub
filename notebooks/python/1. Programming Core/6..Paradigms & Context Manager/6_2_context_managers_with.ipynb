{
 "cells": [
  {
   "cell_type": "markdown",
   "id": "08a8455c",
   "metadata": {},
   "source": [
    "# 6.2 Context Managers and the `with` Statement"
   ]
  },
  {
   "cell_type": "markdown",
   "id": "b47891d6",
   "metadata": {},
   "source": [
    "Context managers in Python handle resource setup and cleanup automatically. The `with` statement is commonly used with files, locks, and network connections to ensure they are closed or released properly."
   ]
  },
  {
   "cell_type": "markdown",
   "id": "d0a74381",
   "metadata": {},
   "source": [
    "## 6.2.1 Using `with` for file handling"
   ]
  },
  {
   "cell_type": "markdown",
   "id": "eb6873a8",
   "metadata": {},
   "source": [
    "The most common use case is opening files."
   ]
  },
  {
   "cell_type": "code",
   "execution_count": null,
   "id": "5d9b6c5f",
   "metadata": {},
   "outputs": [],
   "source": [
    "with open(\"example.txt\", \"w\") as f:\n",
    "    f.write(\"Hello\")"
   ]
  },
  {
   "cell_type": "markdown",
   "id": "db8dae7d",
   "metadata": {},
   "source": [
    "## 6.2.2 Equivalent `try/finally` pattern"
   ]
  },
  {
   "cell_type": "markdown",
   "id": "8dbe555c",
   "metadata": {},
   "source": [
    "Before `with`, manual resource handling looked like this:"
   ]
  },
  {
   "cell_type": "code",
   "execution_count": null,
   "id": "6d9fef06",
   "metadata": {},
   "outputs": [],
   "source": [
    "f = open(\"example.txt\", \"w\")\n",
    "try:\n",
    "    f.write(\"Hello\")\n",
    "finally:\n",
    "    f.close()"
   ]
  },
  {
   "cell_type": "markdown",
   "id": "26faa59b",
   "metadata": {},
   "source": [
    "## 6.2.3 Why use `with`"
   ]
  },
  {
   "cell_type": "markdown",
   "id": "e6a41d95",
   "metadata": {},
   "source": [
    "- Reduces boilerplate\n",
    "- Ensures proper cleanup\n",
    "- Avoids forgotten `.close()` or `.release()`"
   ]
  },
  {
   "cell_type": "markdown",
   "id": "6e5f3ba8",
   "metadata": {},
   "source": [
    "📌 **TIP:**\n",
    "Always use `with` when working with files or other resources that need closing or releasing."
   ]
  }
 ],
 "metadata": {},
 "nbformat": 4,
 "nbformat_minor": 5
}
