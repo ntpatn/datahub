{
 "cells": [
  {
   "cell_type": "markdown",
   "id": "9d4c5a63",
   "metadata": {},
   "source": [
    "# Hello world and Comment"
   ]
  },
  {
   "cell_type": "code",
   "execution_count": null,
   "id": "7f04e468",
   "metadata": {},
   "outputs": [],
   "source": [
    "'''test'''\n",
    "\"\"\"test\"\"\"\n",
    "#test\n",
    "print(\"Hello world\") "
   ]
  },
  {
   "cell_type": "markdown",
   "id": "0ca46efe",
   "metadata": {},
   "source": [
    "# Python Data Variables and Types"
   ]
  },
  {
   "cell_type": "markdown",
   "id": "e7c98e02",
   "metadata": {},
   "source": [
    "### Rule Name Variables\n",
    "    1. num \"text\" _\n",
    "    2. NO number and Sign in front of text except _\n",
    "    3. NO keyword => True = \"Pat\" => X\n",
    "    4. Case Senitive (Lower Upper)"
   ]
  },
  {
   "cell_type": "markdown",
   "id": "f9b9df0a",
   "metadata": {},
   "source": [
    "## Convert Data Types"
   ]
  },
  {
   "cell_type": "code",
   "execution_count": null,
   "id": "a7923b37",
   "metadata": {},
   "outputs": [],
   "source": [
    "#Type conversion\n",
    "x = 10\n",
    "y = 3.14\n",
    "z = \"20\"\n",
    "\n",
    "result = x+y\n",
    "print(result)\n",
    "\n",
    "print(type(x))\n",
    "print(type(y))\n",
    "print(type(z))\n",
    "\n",
    "result2 = x+int(z)\n",
    "print(result2)\n",
    "\n",
    "z= float(z)\n",
    "print(type(z))\n"
   ]
  },
  {
   "cell_type": "markdown",
   "id": "f6f038c9",
   "metadata": {},
   "source": []
  },
  {
   "cell_type": "markdown",
   "id": "27ff3298",
   "metadata": {},
   "source": [
    "## Numbers Types"
   ]
  },
  {
   "cell_type": "markdown",
   "id": "7d521339",
   "metadata": {},
   "source": [
    "\n",
    "| Type     | Description           | Example     |\n",
    "|----------|-----------------------|-------------|\n",
    "| `int`    | Integer numbers       | `1`, `-10`  |\n",
    "| `float`  | Decimal numbers       | `3.14`, `-0.5` |\n",
    "| `complex`| Complex numbers       | `1 + 2j`    |\n"
   ]
  },
  {
   "cell_type": "code",
   "execution_count": null,
   "id": "afb6e373",
   "metadata": {},
   "outputs": [],
   "source": [
    "## Basic types\n",
    "x = 10          ## int\n",
    "pi = 3.14       ## float\n",
    "z = 2 + 3j      ## complex\n",
    "print(type(x), type(pi), type(z))"
   ]
  },
  {
   "cell_type": "markdown",
   "id": "fdb538ab",
   "metadata": {},
   "source": [
    "## Text Type"
   ]
  },
  {
   "cell_type": "markdown",
   "id": "ad357779",
   "metadata": {},
   "source": [
    "\n",
    "| Type  | Description     | Example       |\n",
    "|-------|-----------------|---------------|\n",
    "| `str` | Text (string)   | `'hello'`, `\"world\"` |\n"
   ]
  },
  {
   "cell_type": "code",
   "execution_count": null,
   "id": "2dcb6550",
   "metadata": {},
   "outputs": [],
   "source": [
    "text = \"Hello, world!\"\n",
    "print(text)\n",
    "print(type(text))"
   ]
  },
  {
   "cell_type": "markdown",
   "id": "d8f1e391",
   "metadata": {},
   "source": [
    "## Boolean Type"
   ]
  },
  {
   "cell_type": "markdown",
   "id": "151a3426",
   "metadata": {},
   "source": [
    "\n",
    "| Type   | Description     | Example     |\n",
    "|--------|-----------------|-------------|\n",
    "| `bool` | Boolean values  | `True`, `False` |\n"
   ]
  },
  {
   "cell_type": "code",
   "execution_count": null,
   "id": "8da8b33a",
   "metadata": {},
   "outputs": [],
   "source": [
    "flag = True\n",
    "print(flag)\n",
    "print(type(flag))"
   ]
  },
  {
   "cell_type": "markdown",
   "id": "0895725d",
   "metadata": {},
   "source": [
    "## Sequence Types"
   ]
  },
  {
   "cell_type": "markdown",
   "id": "b6c90cc2",
   "metadata": {},
   "source": [
    "\n",
    "| Type   | Description               | Example         |\n",
    "|--------|---------------------------|-----------------|\n",
    "| `list` | Mutable ordered sequence  | `[1, 2, 3]`     |\n",
    "| `tuple`| Immutable ordered sequence| `(1, 2, 3)`     |\n",
    "| `range`| Range of numbers          | `range(5)`      |\n"
   ]
  },
  {
   "cell_type": "code",
   "execution_count": null,
   "id": "6b713781",
   "metadata": {},
   "outputs": [],
   "source": [
    "lst = [1, 2, 3]\n",
    "tup = (1, 2, 3)\n",
    "rng = range(5)\n",
    "print(lst, tup, list(rng))"
   ]
  },
  {
   "cell_type": "markdown",
   "id": "d6bf2473",
   "metadata": {},
   "source": [
    "## Set Types"
   ]
  },
  {
   "cell_type": "markdown",
   "id": "bd6460f0",
   "metadata": {},
   "source": [
    "\n",
    "| Type       | Description                 | Example           |\n",
    "|------------|-----------------------------|-------------------|\n",
    "| `set`      | Unordered unique elements   | `{1, 2, 3}`       |\n",
    "| `frozenset`| Immutable set               | `frozenset([1,2])`|\n"
   ]
  },
  {
   "cell_type": "code",
   "execution_count": null,
   "id": "cdb7678b",
   "metadata": {},
   "outputs": [],
   "source": [
    "s = {1, 2, 3}\n",
    "fs = frozenset([1, 2, 3])\n",
    "print(s, fs)"
   ]
  },
  {
   "cell_type": "markdown",
   "id": "bba3dfa6",
   "metadata": {},
   "source": [
    "## Mapping Type"
   ]
  },
  {
   "cell_type": "markdown",
   "id": "c7841fb9",
   "metadata": {},
   "source": [
    "\n",
    "| Type   | Description     | Example                  |\n",
    "|--------|-----------------|--------------------------|\n",
    "| `dict` | Key-value pairs | `{\"a\": 1, \"b\": 2}`       |\n"
   ]
  },
  {
   "cell_type": "code",
   "execution_count": null,
   "id": "4c61fa0b",
   "metadata": {},
   "outputs": [],
   "source": [
    "d = {\"a\": 1, \"b\": 2}\n",
    "print(d)\n",
    "print(d[\"a\"])"
   ]
  },
  {
   "cell_type": "markdown",
   "id": "9968bf96",
   "metadata": {},
   "source": [
    "## Binary Types"
   ]
  },
  {
   "cell_type": "markdown",
   "id": "dcdb7129",
   "metadata": {},
   "source": [
    "\n",
    "| Type        | Description            | Example               |\n",
    "|-------------|------------------------|------------------------|\n",
    "| `bytes`     | Immutable byte sequence| `b'abc'`              |\n",
    "| `bytearray` | Mutable byte sequence  | `bytearray(5)`        |\n",
    "| `memoryview`| View of bytes in memory| `memoryview(b'abc')`  |\n"
   ]
  },
  {
   "cell_type": "code",
   "execution_count": null,
   "id": "442d86f8",
   "metadata": {},
   "outputs": [],
   "source": [
    "b = b'abc'\n",
    "ba = bytearray(b)\n",
    "mv = memoryview(b)\n",
    "print(b, ba, mv)"
   ]
  },
  {
   "cell_type": "markdown",
   "id": "2f23fd86",
   "metadata": {},
   "source": [
    "## None Type"
   ]
  },
  {
   "cell_type": "markdown",
   "id": "56c5f3ea",
   "metadata": {},
   "source": [
    "\n",
    "| Type        | Description            | Example   |\n",
    "|-------------|------------------------|-----------|\n",
    "| `NoneType`  | Represents no value    | `None`    |\n"
   ]
  },
  {
   "cell_type": "code",
   "execution_count": null,
   "id": "ec9ac89f",
   "metadata": {},
   "outputs": [],
   "source": [
    "x = None\n",
    "print(x)\n",
    "print(type(x))"
   ]
  },
  {
   "cell_type": "markdown",
   "id": "0aa12827",
   "metadata": {},
   "source": [
    "# Python Operators"
   ]
  },
  {
   "cell_type": "markdown",
   "id": "6e8debc6",
   "metadata": {},
   "source": [
    "## Arithmetic Operators"
   ]
  },
  {
   "cell_type": "markdown",
   "id": "08b0b12a",
   "metadata": {},
   "source": [
    "\n",
    "| Operator | Description        | Example    | Result |\n",
    "|----------|--------------------|------------|--------|\n",
    "| `+`      | Addition            | `3 + 2`    | `5`    |\n",
    "| `-`      | Subtraction         | `3 - 2`    | `1`    |\n",
    "| `*`      | Multiplication      | `3 * 2`    | `6`    |\n",
    "| `/`      | Division            | `3 / 2`    | `1.5`  |\n",
    "| `//`     | Floor Division      | `3 // 2`   | `1`    |\n",
    "| `%`      | Modulus             | `3 % 2`    | `1`    |\n",
    "| `**`     | Exponentiation      | `3 ** 2`   | `9`    |\n"
   ]
  },
  {
   "cell_type": "code",
   "execution_count": null,
   "id": "50279dc1",
   "metadata": {},
   "outputs": [],
   "source": [
    "a, b = 3, 2\n",
    "print(a + b, a - b, a * b, a / b, a // b, a % b, a ** b)"
   ]
  },
  {
   "cell_type": "markdown",
   "id": "aeb54435",
   "metadata": {},
   "source": [
    "## Comparison Operators"
   ]
  },
  {
   "cell_type": "markdown",
   "id": "a818ce2f",
   "metadata": {},
   "source": [
    "\n",
    "| Operator | Description         | Example     | Result |\n",
    "|----------|---------------------|-------------|--------|\n",
    "| `==`     | Equal                | `3 == 2`    | `False`|\n",
    "| `!=`     | Not equal            | `3 != 2`    | `True` |\n",
    "| `>`      | Greater than         | `3 > 2`     | `True` |\n",
    "| `<`      | Less than            | `3 < 2`     | `False`|\n",
    "| `>=`     | Greater or equal     | `3 >= 3`    | `True` |\n",
    "| `<=`     | Less or equal        | `3 <= 3`    | `True` |\n"
   ]
  },
  {
   "cell_type": "code",
   "execution_count": null,
   "id": "493fa72c",
   "metadata": {},
   "outputs": [],
   "source": [
    "x, y = 3, 2\n",
    "print(x == y, x != y, x > y, x < y, x >= y, x <= y)"
   ]
  },
  {
   "cell_type": "markdown",
   "id": "14082fb6",
   "metadata": {},
   "source": [
    "## Logical Operators"
   ]
  },
  {
   "cell_type": "markdown",
   "id": "02a73291",
   "metadata": {},
   "source": [
    "\n",
    "| Operator | Description                     | Example             | Result |\n",
    "|----------|---------------------------------|---------------------|--------|\n",
    "| `and`    | True if both conditions are true| `True and False`    | `False`|\n",
    "| `or`     | True if at least one is true    | `True or False`     | `True` |\n",
    "| `not`    | Inverts the Boolean value       | `not True`          | `False`|\n"
   ]
  },
  {
   "cell_type": "code",
   "execution_count": null,
   "id": "ae1cb3dd",
   "metadata": {},
   "outputs": [],
   "source": [
    "a, b = True, False\n",
    "print(a and b, a or b, not a)"
   ]
  },
  {
   "cell_type": "markdown",
   "id": "c7eb2be6",
   "metadata": {},
   "source": [
    "## Assignment Operators"
   ]
  },
  {
   "cell_type": "markdown",
   "id": "94ed0a8b",
   "metadata": {},
   "source": [
    "\n",
    "| Operator | Description          | Example     |\n",
    "|----------|----------------------|-------------|\n",
    "| `=`      | Assign value         | `x = 5`     |\n",
    "| `+=`     | Add and assign       | `x += 2`    |\n",
    "| `-=`     | Subtract and assign  | `x -= 2`    |\n",
    "| `*=`     | Multiply and assign  | `x *= 2`    |\n",
    "| `/=`     | Divide and assign    | `x /= 2`    |\n",
    "| `//=`    | Floor divide and assign| `x //= 2` |\n",
    "| `%=`     | Modulus and assign   | `x %= 2`    |\n",
    "| `**=`    | Power and assign     | `x **= 2`   |\n"
   ]
  },
  {
   "cell_type": "code",
   "execution_count": null,
   "id": "cb4d2f5e",
   "metadata": {},
   "outputs": [],
   "source": [
    "x = 5\n",
    "x += 2\n",
    "x *= 3\n",
    "print(x)"
   ]
  },
  {
   "cell_type": "markdown",
   "id": "8db744a5",
   "metadata": {},
   "source": [
    "## Bitwise Operators"
   ]
  },
  {
   "cell_type": "markdown",
   "id": "411c5212",
   "metadata": {},
   "source": [
    "\n",
    "| Operator | Description          | Example    | Result |\n",
    "|----------|----------------------|------------|--------|\n",
    "| `&`      | Bitwise AND          | `3 & 2`    | `2`    |\n",
    "| `|`      | Bitwise OR           | `3 | 2`    | `3`    |\n",
    "| `^`      | Bitwise XOR          | `3 ^ 2`    | `1`    |\n",
    "| `~`      | Bitwise NOT          | `~3`       | `-4`   |\n",
    "| `<<`     | Bitwise Left Shift   | `3 << 1`   | `6`    |\n",
    "| `>>`     | Bitwise Right Shift  | `3 >> 1`   | `1`    |\n"
   ]
  },
  {
   "cell_type": "code",
   "execution_count": null,
   "id": "80e3df78",
   "metadata": {},
   "outputs": [],
   "source": [
    "a, b = 3, 2\n",
    "print(a & b, a | b, a ^ b, ~a, a << 1, a >> 1)"
   ]
  },
  {
   "cell_type": "markdown",
   "id": "38eafc0f",
   "metadata": {},
   "source": [
    "## Membership Operators"
   ]
  },
  {
   "cell_type": "markdown",
   "id": "20ddb6b2",
   "metadata": {},
   "source": [
    "\n",
    "| Operator | Description            | Example         | Result |\n",
    "|----------|------------------------|------------------|--------|\n",
    "| `in`     | True if value exists   | `'a' in 'abc'`   | `True` |\n",
    "| `not in` | True if value doesn't exist | `'x' not in 'abc'` | `True` |\n"
   ]
  },
  {
   "cell_type": "code",
   "execution_count": null,
   "id": "b3ac39fa",
   "metadata": {},
   "outputs": [],
   "source": [
    "print('a' in 'abc', 'x' not in 'abc')"
   ]
  },
  {
   "cell_type": "markdown",
   "id": "40e33969",
   "metadata": {},
   "source": [
    "## Identity Operators"
   ]
  },
  {
   "cell_type": "markdown",
   "id": "28664921",
   "metadata": {},
   "source": [
    "\n",
    "| Operator | Description                  | Example        | Result |\n",
    "|----------|------------------------------|----------------|--------|\n",
    "| `is`     | True if same object          | `x is y`       | `True/False` |\n",
    "| `is not` | True if not same object      | `x is not y`   | `True/False` |\n"
   ]
  },
  {
   "cell_type": "code",
   "execution_count": null,
   "id": "015f212c",
   "metadata": {},
   "outputs": [],
   "source": [
    "x = [1, 2]\n",
    "y = x\n",
    "z = [1, 2]\n",
    "print(x is y, x is z, x == z)  ## 'is' vs '=='"
   ]
  },
  {
   "cell_type": "markdown",
   "id": "6b1ffadf",
   "metadata": {},
   "source": [
    "# Python Control Structures"
   ]
  },
  {
   "cell_type": "markdown",
   "id": "8b89d532",
   "metadata": {},
   "source": [
    "## if / elif / else"
   ]
  },
  {
   "cell_type": "markdown",
   "id": "c5ec9fae",
   "metadata": {},
   "source": [
    "\n",
    "```python\n",
    "if condition1:\n",
    "    ## code block 1\n",
    "elif condition2:\n",
    "    ## code block 2\n",
    "else:\n",
    "    ## code block 3\n",
    "```\n"
   ]
  },
  {
   "cell_type": "code",
   "execution_count": null,
   "id": "2f5ba054",
   "metadata": {},
   "outputs": [],
   "source": [
    "x = 10\n",
    "if x > 15:\n",
    "    print(\"Greater than 15\")\n",
    "elif x == 10:\n",
    "    print(\"Equal to 10\")\n",
    "else:\n",
    "    print(\"Less than 10\")"
   ]
  },
  {
   "cell_type": "markdown",
   "id": "3413c010",
   "metadata": {},
   "source": [
    "## for Loop"
   ]
  },
  {
   "cell_type": "markdown",
   "id": "e6273597",
   "metadata": {},
   "source": [
    "\n",
    "Used to iterate over a sequence (like list, tuple, string, range).\n",
    "```python\n",
    "for variable in iterable:\n",
    "    ## code block\n",
    "```\n"
   ]
  },
  {
   "cell_type": "code",
   "execution_count": null,
   "id": "38bdaec3",
   "metadata": {},
   "outputs": [],
   "source": [
    "for i in range(5):\n",
    "    print(f\"i = {i}\")"
   ]
  },
  {
   "cell_type": "markdown",
   "id": "d595ee90",
   "metadata": {},
   "source": [
    "## while Loop"
   ]
  },
  {
   "cell_type": "markdown",
   "id": "041790a0",
   "metadata": {},
   "source": [
    "\n",
    "Repeats as long as a condition is True.\n",
    "```python\n",
    "while condition:\n",
    "    ## code block\n",
    "```\n"
   ]
  },
  {
   "cell_type": "code",
   "execution_count": null,
   "id": "03d0026f",
   "metadata": {},
   "outputs": [],
   "source": [
    "x = 0\n",
    "while x < 3:\n",
    "    print(f\"x = {x}\")\n",
    "    x += 1"
   ]
  },
  {
   "cell_type": "markdown",
   "id": "cb09e442",
   "metadata": {},
   "source": [
    "## break and continue"
   ]
  },
  {
   "cell_type": "markdown",
   "id": "db6246f7",
   "metadata": {},
   "source": [
    "\n",
    "- `break` exits the loop immediately.\n",
    "- `continue` skips the current iteration and moves to the next.\n",
    "\n",
    "```python\n",
    "for i in range(5):\n",
    "    if i == 3:\n",
    "        break\n",
    "    print(i)\n",
    "\n",
    "for i in range(5):\n",
    "    if i == 3:\n",
    "        continue\n",
    "    print(i)\n",
    "```\n"
   ]
  },
  {
   "cell_type": "code",
   "execution_count": null,
   "id": "c571a85a",
   "metadata": {},
   "outputs": [],
   "source": [
    "for i in range(5):\n",
    "    if i == 3:\n",
    "        break\n",
    "    print(f\"break example: {i}\")\n",
    "\n",
    "for i in range(5):\n",
    "    if i == 3:\n",
    "        continue\n",
    "    print(f\"continue example: {i}\")"
   ]
  },
  {
   "cell_type": "markdown",
   "id": "6ea99fc4",
   "metadata": {},
   "source": [
    "## pass Statement"
   ]
  },
  {
   "cell_type": "markdown",
   "id": "d0fd9e37",
   "metadata": {},
   "source": [
    "\n",
    "Used as a placeholder where code is syntactically required but you don't want to write anything yet.\n",
    "```python\n",
    "if True:\n",
    "    pass  ## TODO: implement later\n",
    "```\n"
   ]
  },
  {
   "cell_type": "code",
   "execution_count": null,
   "id": "1f4453c8",
   "metadata": {},
   "outputs": [],
   "source": [
    "for i in range(3):\n",
    "    if i == 1:\n",
    "        pass\n",
    "    else:\n",
    "        print(f\"Processing {i}\")"
   ]
  },
  {
   "cell_type": "markdown",
   "id": "c0328c4e",
   "metadata": {},
   "source": [
    "# Python Functions "
   ]
  },
  {
   "cell_type": "markdown",
   "id": "1066968f",
   "metadata": {},
   "source": [
    "## Defining a Function"
   ]
  },
  {
   "cell_type": "markdown",
   "id": "a777cf4e",
   "metadata": {},
   "source": [
    "\n",
    "```python\n",
    "def function_name(parameters):\n",
    "    ## code block\n",
    "    return result\n",
    "```\n"
   ]
  },
  {
   "cell_type": "code",
   "execution_count": null,
   "id": "fd76bdde",
   "metadata": {},
   "outputs": [],
   "source": [
    "def greet(name):\n",
    "    return f\"Hello, {name}!\"\n",
    "\n",
    "print(greet(\"Alice\"))"
   ]
  },
  {
   "cell_type": "markdown",
   "id": "57ffaccf",
   "metadata": {},
   "source": [
    "## Default Arguments"
   ]
  },
  {
   "cell_type": "markdown",
   "id": "43b83ba9",
   "metadata": {},
   "source": [
    "\n",
    "```python\n",
    "def func(x=10):\n",
    "    return x\n",
    "```\n"
   ]
  },
  {
   "cell_type": "code",
   "execution_count": null,
   "id": "018037fd",
   "metadata": {},
   "outputs": [],
   "source": [
    "def greet(name=\"World\"):\n",
    "    return f\"Hello, {name}!\"\n",
    "\n",
    "print(greet())\n",
    "print(greet(\"Bob\"))"
   ]
  },
  {
   "cell_type": "markdown",
   "id": "d31645d2",
   "metadata": {},
   "source": [
    "## Keyword Arguments"
   ]
  },
  {
   "cell_type": "markdown",
   "id": "1882c276",
   "metadata": {},
   "source": [
    "\n",
    "You can call functions using parameter names:\n",
    "```python\n",
    "def describe(name, age):\n",
    "    print(f\"{name} is {age} years old\")\n",
    "\n",
    "describe(age=30, name=\"Charlie\")\n",
    "```\n"
   ]
  },
  {
   "cell_type": "code",
   "execution_count": null,
   "id": "932962f5",
   "metadata": {},
   "outputs": [],
   "source": [
    "def describe(name, age):\n",
    "    print(f\"{name} is {age} years old\")\n",
    "\n",
    "describe(age=30, name=\"Charlie\")"
   ]
  },
  {
   "cell_type": "markdown",
   "id": "8f6613b3",
   "metadata": {},
   "source": [
    "## *args and **kwargs"
   ]
  },
  {
   "cell_type": "markdown",
   "id": "465570ff",
   "metadata": {},
   "source": [
    "- `*args`: collects extra ***positional*** arguments.\n",
    "- `**kwargs`: collects extra ***keyword*** arguments.\n",
    "\n",
    "```python\n",
    "def func(*args, **kwargs):\n",
    "    print(args)\n",
    "    print(kwargs)\n",
    "```\n",
    "\n",
    "| รูปแบบ | เก็บใน | ตัวอย่าง | ผลลัพธ์ |\n",
    "|--------|--------|----------|---------|\n",
    "| `*args` | tuple | `1, 2` | `(1, 2)` |\n",
    "| `**kwargs` | dict | `a=3, b=4` | `{'a': 3, 'b': 4}` |"
   ]
  },
  {
   "cell_type": "code",
   "execution_count": null,
   "id": "91d86f03",
   "metadata": {},
   "outputs": [],
   "source": [
    "def example(*args, **kwargs):\n",
    "    print(\"args:\", args)\n",
    "    print(\"kwargs:\", kwargs)\n",
    "\n",
    "example(1, 2, a=3, b=4)\n",
    "\n",
    "\n",
    "def example(*args, **kwargs):\n",
    "    print(\"args:\", args)\n",
    "    print(\"kwargs:\", kwargs)\n",
    "\n",
    "nums = [1, 2, 3]\n",
    "options = {'a': 10, 'b': 20}\n",
    "\n",
    "example(*nums, **options)\n",
    "\n",
    "def func(a, b=5, *args, **kwargs):\n",
    "    print(a, b)\n",
    "    print(args)\n",
    "    print(kwargs)\n",
    "\n",
    "func(1, 2, 3, 4, x=10, y=20)"
   ]
  },
  {
   "cell_type": "markdown",
   "id": "ba5ced53",
   "metadata": {},
   "source": [
    "## Returning Multiple Values"
   ]
  },
  {
   "cell_type": "markdown",
   "id": "61255f49",
   "metadata": {},
   "source": [
    "\n",
    "```python\n",
    "def calc(x, y):\n",
    "    return x + y, x * y\n",
    "```\n"
   ]
  },
  {
   "cell_type": "code",
   "execution_count": null,
   "id": "b4c2817e",
   "metadata": {},
   "outputs": [],
   "source": [
    "def calc(x, y):\n",
    "    return x + y, x * y\n",
    "\n",
    "sum_, product = calc(3, 4)\n",
    "print(\"Sum:\", sum_)\n",
    "print(\"Product:\", product)"
   ]
  },
  {
   "cell_type": "markdown",
   "id": "273d1574",
   "metadata": {},
   "source": [
    "## Lambda Functions"
   ]
  },
  {
   "cell_type": "markdown",
   "id": "d0db3ef2",
   "metadata": {},
   "source": [
    "\n",
    "```python\n",
    "square = lambda x: x * x\n",
    "```\n"
   ]
  },
  {
   "cell_type": "code",
   "execution_count": null,
   "id": "46238093",
   "metadata": {},
   "outputs": [],
   "source": [
    "square = lambda x: x * x  ## noqa: E731\n",
    "print(square(5))"
   ]
  }
 ],
 "metadata": {
  "kernelspec": {
   "display_name": "venv",
   "language": "python",
   "name": "python3"
  },
  "language_info": {
   "codemirror_mode": {
    "name": "ipython",
    "version": 3
   },
   "file_extension": ".py",
   "mimetype": "text/x-python",
   "name": "python",
   "nbconvert_exporter": "python",
   "pygments_lexer": "ipython3",
   "version": "3.10.0"
  }
 },
 "nbformat": 4,
 "nbformat_minor": 5
}
