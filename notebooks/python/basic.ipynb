{
 "cells": [
  {
   "cell_type": "markdown",
   "id": "cac91d4d",
   "metadata": {},
   "source": [
    "## Hello world and Comment"
   ]
  },
  {
   "cell_type": "code",
   "execution_count": 37,
   "id": "7f04e468",
   "metadata": {},
   "outputs": [
    {
     "name": "stdout",
     "output_type": "stream",
     "text": [
      "Hello world\n"
     ]
    }
   ],
   "source": [
    "'''test'''\n",
    "\"\"\"test\"\"\"\n",
    "#test\n",
    "print(\"Hello world\") "
   ]
  },
  {
   "cell_type": "markdown",
   "id": "0ca46efe",
   "metadata": {},
   "source": [
    "## Data Variables and Types"
   ]
  },
  {
   "cell_type": "markdown",
   "id": "e7c98e02",
   "metadata": {},
   "source": [
    "### Rule Name Variables\n",
    "    1. num \"text\" _\n",
    "    2. NO number and Sign in front of text except _\n",
    "    3. NO keyword => True = \"Pat\" => X\n",
    "    4. Case Senitive (Lower Upper)"
   ]
  },
  {
   "cell_type": "markdown",
   "id": "f9b9df0a",
   "metadata": {},
   "source": [
    "### Convert Data Types"
   ]
  },
  {
   "cell_type": "code",
   "execution_count": 39,
   "id": "a7923b37",
   "metadata": {},
   "outputs": [
    {
     "name": "stdout",
     "output_type": "stream",
     "text": [
      "13.14\n",
      "<class 'int'>\n",
      "<class 'float'>\n",
      "<class 'str'>\n",
      "30\n",
      "<class 'float'>\n"
     ]
    }
   ],
   "source": [
    "#Type conversion\n",
    "x = 10\n",
    "y = 3.14\n",
    "z = \"20\"\n",
    "\n",
    "result = x+y\n",
    "print(result)\n",
    "\n",
    "print(type(x))\n",
    "print(type(y))\n",
    "print(type(z))\n",
    "\n",
    "result2 = x+int(z)\n",
    "print(result2)\n",
    "\n",
    "z= float(z)\n",
    "print(type(z))\n"
   ]
  },
  {
   "cell_type": "markdown",
   "id": "f6f038c9",
   "metadata": {},
   "source": []
  },
  {
   "cell_type": "markdown",
   "id": "27ff3298",
   "metadata": {},
   "source": [
    "### Numbers Types"
   ]
  },
  {
   "cell_type": "markdown",
   "id": "7d521339",
   "metadata": {},
   "source": [
    "\n",
    "| Type     | Description           | Example     |\n",
    "|----------|-----------------------|-------------|\n",
    "| `int`    | Integer numbers       | `1`, `-10`  |\n",
    "| `float`  | Decimal numbers       | `3.14`, `-0.5` |\n",
    "| `complex`| Complex numbers       | `1 + 2j`    |\n"
   ]
  },
  {
   "cell_type": "code",
   "execution_count": 40,
   "id": "afb6e373",
   "metadata": {},
   "outputs": [
    {
     "name": "stdout",
     "output_type": "stream",
     "text": [
      "<class 'int'> <class 'float'> <class 'complex'>\n"
     ]
    }
   ],
   "source": [
    "# Basic types\n",
    "x = 10          # int\n",
    "pi = 3.14       # float\n",
    "z = 2 + 3j      # complex\n",
    "print(type(x), type(pi), type(z))"
   ]
  },
  {
   "cell_type": "markdown",
   "id": "fdb538ab",
   "metadata": {},
   "source": [
    "### Text Type"
   ]
  },
  {
   "cell_type": "markdown",
   "id": "ad357779",
   "metadata": {},
   "source": [
    "\n",
    "| Type  | Description     | Example       |\n",
    "|-------|-----------------|---------------|\n",
    "| `str` | Text (string)   | `'hello'`, `\"world\"` |\n"
   ]
  },
  {
   "cell_type": "code",
   "execution_count": 41,
   "id": "2dcb6550",
   "metadata": {},
   "outputs": [
    {
     "name": "stdout",
     "output_type": "stream",
     "text": [
      "Hello, world!\n",
      "<class 'str'>\n"
     ]
    }
   ],
   "source": [
    "text = \"Hello, world!\"\n",
    "print(text)\n",
    "print(type(text))"
   ]
  },
  {
   "cell_type": "markdown",
   "id": "d8f1e391",
   "metadata": {},
   "source": [
    "### Boolean Type"
   ]
  },
  {
   "cell_type": "markdown",
   "id": "151a3426",
   "metadata": {},
   "source": [
    "\n",
    "| Type   | Description     | Example     |\n",
    "|--------|-----------------|-------------|\n",
    "| `bool` | Boolean values  | `True`, `False` |\n"
   ]
  },
  {
   "cell_type": "code",
   "execution_count": 42,
   "id": "8da8b33a",
   "metadata": {},
   "outputs": [
    {
     "name": "stdout",
     "output_type": "stream",
     "text": [
      "True\n",
      "<class 'bool'>\n"
     ]
    }
   ],
   "source": [
    "flag = True\n",
    "print(flag)\n",
    "print(type(flag))"
   ]
  },
  {
   "cell_type": "markdown",
   "id": "0895725d",
   "metadata": {},
   "source": [
    "### Sequence Types"
   ]
  },
  {
   "cell_type": "markdown",
   "id": "b6c90cc2",
   "metadata": {},
   "source": [
    "\n",
    "| Type   | Description               | Example         |\n",
    "|--------|---------------------------|-----------------|\n",
    "| `list` | Mutable ordered sequence  | `[1, 2, 3]`     |\n",
    "| `tuple`| Immutable ordered sequence| `(1, 2, 3)`     |\n",
    "| `range`| Range of numbers          | `range(5)`      |\n"
   ]
  },
  {
   "cell_type": "code",
   "execution_count": 43,
   "id": "6b713781",
   "metadata": {},
   "outputs": [
    {
     "name": "stdout",
     "output_type": "stream",
     "text": [
      "[1, 2, 3] (1, 2, 3) [0, 1, 2, 3, 4]\n"
     ]
    }
   ],
   "source": [
    "lst = [1, 2, 3]\n",
    "tup = (1, 2, 3)\n",
    "rng = range(5)\n",
    "print(lst, tup, list(rng))"
   ]
  },
  {
   "cell_type": "markdown",
   "id": "d6bf2473",
   "metadata": {},
   "source": [
    "### Set Types"
   ]
  },
  {
   "cell_type": "markdown",
   "id": "bd6460f0",
   "metadata": {},
   "source": [
    "\n",
    "| Type       | Description                 | Example           |\n",
    "|------------|-----------------------------|-------------------|\n",
    "| `set`      | Unordered unique elements   | `{1, 2, 3}`       |\n",
    "| `frozenset`| Immutable set               | `frozenset([1,2])`|\n"
   ]
  },
  {
   "cell_type": "code",
   "execution_count": 44,
   "id": "cdb7678b",
   "metadata": {},
   "outputs": [
    {
     "name": "stdout",
     "output_type": "stream",
     "text": [
      "{1, 2, 3} frozenset({1, 2, 3})\n"
     ]
    }
   ],
   "source": [
    "s = {1, 2, 3}\n",
    "fs = frozenset([1, 2, 3])\n",
    "print(s, fs)"
   ]
  },
  {
   "cell_type": "markdown",
   "id": "bba3dfa6",
   "metadata": {},
   "source": [
    "### Mapping Type"
   ]
  },
  {
   "cell_type": "markdown",
   "id": "c7841fb9",
   "metadata": {},
   "source": [
    "\n",
    "| Type   | Description     | Example                  |\n",
    "|--------|-----------------|--------------------------|\n",
    "| `dict` | Key-value pairs | `{\"a\": 1, \"b\": 2}`       |\n"
   ]
  },
  {
   "cell_type": "code",
   "execution_count": 45,
   "id": "4c61fa0b",
   "metadata": {},
   "outputs": [
    {
     "name": "stdout",
     "output_type": "stream",
     "text": [
      "{'a': 1, 'b': 2}\n",
      "1\n"
     ]
    }
   ],
   "source": [
    "d = {\"a\": 1, \"b\": 2}\n",
    "print(d)\n",
    "print(d[\"a\"])"
   ]
  },
  {
   "cell_type": "markdown",
   "id": "9968bf96",
   "metadata": {},
   "source": [
    "### Binary Types"
   ]
  },
  {
   "cell_type": "markdown",
   "id": "dcdb7129",
   "metadata": {},
   "source": [
    "\n",
    "| Type        | Description            | Example               |\n",
    "|-------------|------------------------|------------------------|\n",
    "| `bytes`     | Immutable byte sequence| `b'abc'`              |\n",
    "| `bytearray` | Mutable byte sequence  | `bytearray(5)`        |\n",
    "| `memoryview`| View of bytes in memory| `memoryview(b'abc')`  |\n"
   ]
  },
  {
   "cell_type": "code",
   "execution_count": 46,
   "id": "442d86f8",
   "metadata": {},
   "outputs": [
    {
     "name": "stdout",
     "output_type": "stream",
     "text": [
      "b'abc' bytearray(b'abc') <memory at 0x0000015A2E00A5C0>\n"
     ]
    }
   ],
   "source": [
    "b = b'abc'\n",
    "ba = bytearray(b)\n",
    "mv = memoryview(b)\n",
    "print(b, ba, mv)"
   ]
  },
  {
   "cell_type": "markdown",
   "id": "2f23fd86",
   "metadata": {},
   "source": [
    "### None Type"
   ]
  },
  {
   "cell_type": "markdown",
   "id": "56c5f3ea",
   "metadata": {},
   "source": [
    "\n",
    "| Type        | Description            | Example   |\n",
    "|-------------|------------------------|-----------|\n",
    "| `NoneType`  | Represents no value    | `None`    |\n"
   ]
  },
  {
   "cell_type": "code",
   "execution_count": 47,
   "id": "ec9ac89f",
   "metadata": {},
   "outputs": [
    {
     "name": "stdout",
     "output_type": "stream",
     "text": [
      "None\n",
      "<class 'NoneType'>\n"
     ]
    }
   ],
   "source": [
    "x = None\n",
    "print(x)\n",
    "print(type(x))"
   ]
  }
 ],
 "metadata": {
  "kernelspec": {
   "display_name": "venv",
   "language": "python",
   "name": "python3"
  },
  "language_info": {
   "codemirror_mode": {
    "name": "ipython",
    "version": 3
   },
   "file_extension": ".py",
   "mimetype": "text/x-python",
   "name": "python",
   "nbconvert_exporter": "python",
   "pygments_lexer": "ipython3",
   "version": "3.10.0"
  }
 },
 "nbformat": 4,
 "nbformat_minor": 5
}
